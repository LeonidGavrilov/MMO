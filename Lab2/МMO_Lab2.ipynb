{
  "cells": [
    {
      "cell_type": "markdown",
      "metadata": {
        "id": "4NsdE_--7VPe"
      },
      "source": [
        "## Гаврилов Л.Я. ИУ5-23М"
      ]
    },
    {
      "cell_type": "markdown",
      "metadata": {
        "id": "Lm0E7WCStg_p"
      },
      "source": [
        "# Обработка признаков (часть 1)."
      ]
    },
    {
      "cell_type": "code",
      "execution_count": null,
      "metadata": {
        "id": "l3LUkDletg_s"
      },
      "outputs": [],
      "source": [
        "import numpy as np\n",
        "import pandas as pd\n",
        "import seaborn as sns\n",
        "import matplotlib.pyplot as plt\n",
        "%matplotlib inline\n",
        "sns.set(style=\"ticks\")"
      ]
    },
    {
      "cell_type": "markdown",
      "metadata": {
        "id": "0WBccFQOtg_u"
      },
      "source": [
        "## Загрузка и первичный анализ данных\n",
        "\n",
        "Используем датасет [PC Games 2020](https://www.kaggle.com/jesneuman/pc-games) игр Steam с добавлением данных RAWG API"
      ]
    },
    {
      "cell_type": "code",
      "execution_count": null,
      "metadata": {
        "id": "SlU7N9yHtg_w"
      },
      "outputs": [],
      "source": [
        "data = pd.read_csv('games.csv', sep=\",\")"
      ]
    },
    {
      "cell_type": "code",
      "execution_count": null,
      "metadata": {
        "colab": {
          "base_uri": "https://localhost:8080/"
        },
        "id": "78TXutJBtg_x",
        "outputId": "5a36aca1-eb24-448f-fae8-fcd4f6882cb8"
      },
      "outputs": [
        {
          "data": {
            "text/plain": [
              "(30250, 27)"
            ]
          },
          "execution_count": 39,
          "metadata": {},
          "output_type": "execute_result"
        }
      ],
      "source": [
        "data.shape"
      ]
    },
    {
      "cell_type": "code",
      "execution_count": null,
      "metadata": {
        "colab": {
          "base_uri": "https://localhost:8080/"
        },
        "id": "5DWc3B1ftg_y",
        "outputId": "758d135e-2ebf-4a44-e68a-3d723fe02131"
      },
      "outputs": [
        {
          "data": {
            "text/plain": [
              "Unnamed: 0            int64\n",
              "id                    int64\n",
              "Name                 object\n",
              "RawgID              float64\n",
              "SteamURL             object\n",
              "Metacritic          float64\n",
              "Genres               object\n",
              "Indie               float64\n",
              "Presence            float64\n",
              "Platform             object\n",
              "Graphics             object\n",
              "Storage              object\n",
              "Memory               object\n",
              "RatingsBreakdown     object\n",
              "ReleaseDate          object\n",
              "Soundtrack          float64\n",
              "Franchise            object\n",
              "OriginalCost         object\n",
              "DiscountedCost       object\n",
              "Players              object\n",
              "Controller          float64\n",
              "Languages            object\n",
              "ESRB                 object\n",
              "Achievements        float64\n",
              "Publisher           float64\n",
              "Description          object\n",
              "Tags                 object\n",
              "dtype: object"
            ]
          },
          "execution_count": 40,
          "metadata": {},
          "output_type": "execute_result"
        }
      ],
      "source": [
        "data.dtypes"
      ]
    },
    {
      "cell_type": "code",
      "execution_count": null,
      "metadata": {
        "colab": {
          "base_uri": "https://localhost:8080/"
        },
        "id": "L1oYV-a2tg_z",
        "outputId": "e4b76e4b-e712-4179-a9a2-b50f58de27d9"
      },
      "outputs": [
        {
          "data": {
            "text/plain": [
              "Unnamed: 0              0\n",
              "id                      0\n",
              "Name                   94\n",
              "RawgID                 94\n",
              "SteamURL               55\n",
              "Metacritic          26894\n",
              "Genres               2968\n",
              "Indie                 205\n",
              "Presence               94\n",
              "Platform              127\n",
              "Graphics             4320\n",
              "Storage              2759\n",
              "Memory               1934\n",
              "RatingsBreakdown    15206\n",
              "ReleaseDate          3226\n",
              "Soundtrack            205\n",
              "Franchise           25163\n",
              "OriginalCost          746\n",
              "DiscountedCost      29523\n",
              "Players             17916\n",
              "Controller            274\n",
              "Languages             223\n",
              "ESRB                25503\n",
              "Achievements           94\n",
              "Publisher           30250\n",
              "Description           219\n",
              "Tags                  205\n",
              "dtype: int64"
            ]
          },
          "execution_count": 41,
          "metadata": {},
          "output_type": "execute_result"
        }
      ],
      "source": [
        "data.isnull().sum()"
      ]
    },
    {
      "cell_type": "code",
      "execution_count": null,
      "metadata": {
        "colab": {
          "base_uri": "https://localhost:8080/",
          "height": 716
        },
        "id": "Hz37mxM1tg_z",
        "outputId": "e431d3f7-1b61-4b97-c407-9198be9749d7"
      },
      "outputs": [
        {
          "data": {
            "text/html": [
              "\n",
              "  <div id=\"df-b7cf0471-bf0c-4b4f-8cb0-9685e2527180\">\n",
              "    <div class=\"colab-df-container\">\n",
              "      <div>\n",
              "<style scoped>\n",
              "    .dataframe tbody tr th:only-of-type {\n",
              "        vertical-align: middle;\n",
              "    }\n",
              "\n",
              "    .dataframe tbody tr th {\n",
              "        vertical-align: top;\n",
              "    }\n",
              "\n",
              "    .dataframe thead th {\n",
              "        text-align: right;\n",
              "    }\n",
              "</style>\n",
              "<table border=\"1\" class=\"dataframe\">\n",
              "  <thead>\n",
              "    <tr style=\"text-align: right;\">\n",
              "      <th></th>\n",
              "      <th>Unnamed: 0</th>\n",
              "      <th>id</th>\n",
              "      <th>Name</th>\n",
              "      <th>RawgID</th>\n",
              "      <th>SteamURL</th>\n",
              "      <th>Metacritic</th>\n",
              "      <th>Genres</th>\n",
              "      <th>Indie</th>\n",
              "      <th>Presence</th>\n",
              "      <th>Platform</th>\n",
              "      <th>...</th>\n",
              "      <th>OriginalCost</th>\n",
              "      <th>DiscountedCost</th>\n",
              "      <th>Players</th>\n",
              "      <th>Controller</th>\n",
              "      <th>Languages</th>\n",
              "      <th>ESRB</th>\n",
              "      <th>Achievements</th>\n",
              "      <th>Publisher</th>\n",
              "      <th>Description</th>\n",
              "      <th>Tags</th>\n",
              "    </tr>\n",
              "  </thead>\n",
              "  <tbody>\n",
              "    <tr>\n",
              "      <th>0</th>\n",
              "      <td>0</td>\n",
              "      <td>1</td>\n",
              "      <td>Counter-Strike: Global Offensive</td>\n",
              "      <td>4291.0</td>\n",
              "      <td>https://store.steampowered.com/app/730/?snr=1_...</td>\n",
              "      <td>83.0</td>\n",
              "      <td>Action, Free to Play</td>\n",
              "      <td>0.0</td>\n",
              "      <td>1009588.0</td>\n",
              "      <td>PC, Xbox 360, PlayStation 3</td>\n",
              "      <td>...</td>\n",
              "      <td>Free to Play</td>\n",
              "      <td>NaN</td>\n",
              "      <td>multiplayer, pvp, coop, online coop</td>\n",
              "      <td>1.0</td>\n",
              "      <td>English, Czech, Danish, Dutch, Finnish, French...</td>\n",
              "      <td>Mature</td>\n",
              "      <td>179.0</td>\n",
              "      <td>NaN</td>\n",
              "      <td>Counter-Strike is a multiplayer phenomenon in ...</td>\n",
              "      <td>FPS, Shooter, Multiplayer, Competitive, Action...</td>\n",
              "    </tr>\n",
              "    <tr>\n",
              "      <th>1</th>\n",
              "      <td>1</td>\n",
              "      <td>2</td>\n",
              "      <td>Destiny 2</td>\n",
              "      <td>32.0</td>\n",
              "      <td>https://store.steampowered.com/app/1085660/?sn...</td>\n",
              "      <td>82.0</td>\n",
              "      <td>Action, Adventure, Free to Play</td>\n",
              "      <td>0.0</td>\n",
              "      <td>1007425.0</td>\n",
              "      <td>PlayStation 5, Web, Xbox Series X, PC, Xbox On...</td>\n",
              "      <td>...</td>\n",
              "      <td>Free To Play</td>\n",
              "      <td>NaN</td>\n",
              "      <td>multiplayer, coop, online coop</td>\n",
              "      <td>1.0</td>\n",
              "      <td>English, French, Italian, German, Japanese, Ko...</td>\n",
              "      <td>Teen</td>\n",
              "      <td>61.0</td>\n",
              "      <td>NaN</td>\n",
              "      <td>Destiny 2 is an online multiplayer first-perso...</td>\n",
              "      <td>Free to Play, Looter Shooter, FPS, Multiplayer...</td>\n",
              "    </tr>\n",
              "    <tr>\n",
              "      <th>2</th>\n",
              "      <td>2</td>\n",
              "      <td>3</td>\n",
              "      <td>Dota 2</td>\n",
              "      <td>10213.0</td>\n",
              "      <td>https://store.steampowered.com/app/570/?snr=1_...</td>\n",
              "      <td>90.0</td>\n",
              "      <td>NaN</td>\n",
              "      <td>0.0</td>\n",
              "      <td>1009306.0</td>\n",
              "      <td>Linux, macOS, PC</td>\n",
              "      <td>...</td>\n",
              "      <td>Free to Play</td>\n",
              "      <td>NaN</td>\n",
              "      <td>multiplayer, pvp, coop, online coop</td>\n",
              "      <td>1.0</td>\n",
              "      <td>English, Bulgarian, Czech, Danish, Dutch, Finn...</td>\n",
              "      <td>NaN</td>\n",
              "      <td>0.0</td>\n",
              "      <td>NaN</td>\n",
              "      <td>What used to be an unofficial modded map for t...</td>\n",
              "      <td>Free to Play, MOBA, Multiplayer, Strategy, eSp...</td>\n",
              "    </tr>\n",
              "    <tr>\n",
              "      <th>3</th>\n",
              "      <td>3</td>\n",
              "      <td>4</td>\n",
              "      <td>The Elder Scrolls Online</td>\n",
              "      <td>41458.0</td>\n",
              "      <td>https://store.steampowered.com/app/306130/?snr...</td>\n",
              "      <td>71.0</td>\n",
              "      <td>Massively Multiplayer, RPG</td>\n",
              "      <td>0.0</td>\n",
              "      <td>1000781.0</td>\n",
              "      <td>PC</td>\n",
              "      <td>...</td>\n",
              "      <td>$19.99</td>\n",
              "      <td>NaN</td>\n",
              "      <td>singleplayer, multiplayer, coop</td>\n",
              "      <td>1.0</td>\n",
              "      <td>English, French, German, Russian</td>\n",
              "      <td>NaN</td>\n",
              "      <td>0.0</td>\n",
              "      <td>NaN</td>\n",
              "      <td>Includes The Elder Scrolls Online base game an...</td>\n",
              "      <td>RPG, MMORPG, Open World, Massively Multiplayer...</td>\n",
              "    </tr>\n",
              "    <tr>\n",
              "      <th>4</th>\n",
              "      <td>4</td>\n",
              "      <td>5</td>\n",
              "      <td>Sea of Thieves</td>\n",
              "      <td>50781.0</td>\n",
              "      <td>https://store.steampowered.com/app/1172620/?sn...</td>\n",
              "      <td>68.0</td>\n",
              "      <td>Action, Adventure</td>\n",
              "      <td>0.0</td>\n",
              "      <td>777456.0</td>\n",
              "      <td>PC, Xbox One</td>\n",
              "      <td>...</td>\n",
              "      <td>$39.99</td>\n",
              "      <td>NaN</td>\n",
              "      <td>multiplayer, pvp, coop, online coop</td>\n",
              "      <td>1.0</td>\n",
              "      <td>English, French, Italian, German, Russian</td>\n",
              "      <td>Teen</td>\n",
              "      <td>308.0</td>\n",
              "      <td>NaN</td>\n",
              "      <td>Sea of Thieves is a cooperative multiplayer ac...</td>\n",
              "      <td>Adventure, Action, Pirates, Open World, Multip...</td>\n",
              "    </tr>\n",
              "  </tbody>\n",
              "</table>\n",
              "<p>5 rows × 27 columns</p>\n",
              "</div>\n",
              "      <button class=\"colab-df-convert\" onclick=\"convertToInteractive('df-b7cf0471-bf0c-4b4f-8cb0-9685e2527180')\"\n",
              "              title=\"Convert this dataframe to an interactive table.\"\n",
              "              style=\"display:none;\">\n",
              "        \n",
              "  <svg xmlns=\"http://www.w3.org/2000/svg\" height=\"24px\"viewBox=\"0 0 24 24\"\n",
              "       width=\"24px\">\n",
              "    <path d=\"M0 0h24v24H0V0z\" fill=\"none\"/>\n",
              "    <path d=\"M18.56 5.44l.94 2.06.94-2.06 2.06-.94-2.06-.94-.94-2.06-.94 2.06-2.06.94zm-11 1L8.5 8.5l.94-2.06 2.06-.94-2.06-.94L8.5 2.5l-.94 2.06-2.06.94zm10 10l.94 2.06.94-2.06 2.06-.94-2.06-.94-.94-2.06-.94 2.06-2.06.94z\"/><path d=\"M17.41 7.96l-1.37-1.37c-.4-.4-.92-.59-1.43-.59-.52 0-1.04.2-1.43.59L10.3 9.45l-7.72 7.72c-.78.78-.78 2.05 0 2.83L4 21.41c.39.39.9.59 1.41.59.51 0 1.02-.2 1.41-.59l7.78-7.78 2.81-2.81c.8-.78.8-2.07 0-2.86zM5.41 20L4 18.59l7.72-7.72 1.47 1.35L5.41 20z\"/>\n",
              "  </svg>\n",
              "      </button>\n",
              "      \n",
              "  <style>\n",
              "    .colab-df-container {\n",
              "      display:flex;\n",
              "      flex-wrap:wrap;\n",
              "      gap: 12px;\n",
              "    }\n",
              "\n",
              "    .colab-df-convert {\n",
              "      background-color: #E8F0FE;\n",
              "      border: none;\n",
              "      border-radius: 50%;\n",
              "      cursor: pointer;\n",
              "      display: none;\n",
              "      fill: #1967D2;\n",
              "      height: 32px;\n",
              "      padding: 0 0 0 0;\n",
              "      width: 32px;\n",
              "    }\n",
              "\n",
              "    .colab-df-convert:hover {\n",
              "      background-color: #E2EBFA;\n",
              "      box-shadow: 0px 1px 2px rgba(60, 64, 67, 0.3), 0px 1px 3px 1px rgba(60, 64, 67, 0.15);\n",
              "      fill: #174EA6;\n",
              "    }\n",
              "\n",
              "    [theme=dark] .colab-df-convert {\n",
              "      background-color: #3B4455;\n",
              "      fill: #D2E3FC;\n",
              "    }\n",
              "\n",
              "    [theme=dark] .colab-df-convert:hover {\n",
              "      background-color: #434B5C;\n",
              "      box-shadow: 0px 1px 3px 1px rgba(0, 0, 0, 0.15);\n",
              "      filter: drop-shadow(0px 1px 2px rgba(0, 0, 0, 0.3));\n",
              "      fill: #FFFFFF;\n",
              "    }\n",
              "  </style>\n",
              "\n",
              "      <script>\n",
              "        const buttonEl =\n",
              "          document.querySelector('#df-b7cf0471-bf0c-4b4f-8cb0-9685e2527180 button.colab-df-convert');\n",
              "        buttonEl.style.display =\n",
              "          google.colab.kernel.accessAllowed ? 'block' : 'none';\n",
              "\n",
              "        async function convertToInteractive(key) {\n",
              "          const element = document.querySelector('#df-b7cf0471-bf0c-4b4f-8cb0-9685e2527180');\n",
              "          const dataTable =\n",
              "            await google.colab.kernel.invokeFunction('convertToInteractive',\n",
              "                                                     [key], {});\n",
              "          if (!dataTable) return;\n",
              "\n",
              "          const docLinkHtml = 'Like what you see? Visit the ' +\n",
              "            '<a target=\"_blank\" href=https://colab.research.google.com/notebooks/data_table.ipynb>data table notebook</a>'\n",
              "            + ' to learn more about interactive tables.';\n",
              "          element.innerHTML = '';\n",
              "          dataTable['output_type'] = 'display_data';\n",
              "          await google.colab.output.renderOutput(dataTable, element);\n",
              "          const docLink = document.createElement('div');\n",
              "          docLink.innerHTML = docLinkHtml;\n",
              "          element.appendChild(docLink);\n",
              "        }\n",
              "      </script>\n",
              "    </div>\n",
              "  </div>\n",
              "  "
            ],
            "text/plain": [
              "   Unnamed: 0  id                              Name   RawgID  \\\n",
              "0           0   1  Counter-Strike: Global Offensive   4291.0   \n",
              "1           1   2                         Destiny 2     32.0   \n",
              "2           2   3                            Dota 2  10213.0   \n",
              "3           3   4          The Elder Scrolls Online  41458.0   \n",
              "4           4   5                    Sea of Thieves  50781.0   \n",
              "\n",
              "                                            SteamURL  Metacritic  \\\n",
              "0  https://store.steampowered.com/app/730/?snr=1_...        83.0   \n",
              "1  https://store.steampowered.com/app/1085660/?sn...        82.0   \n",
              "2  https://store.steampowered.com/app/570/?snr=1_...        90.0   \n",
              "3  https://store.steampowered.com/app/306130/?snr...        71.0   \n",
              "4  https://store.steampowered.com/app/1172620/?sn...        68.0   \n",
              "\n",
              "                            Genres  Indie   Presence  \\\n",
              "0             Action, Free to Play    0.0  1009588.0   \n",
              "1  Action, Adventure, Free to Play    0.0  1007425.0   \n",
              "2                              NaN    0.0  1009306.0   \n",
              "3       Massively Multiplayer, RPG    0.0  1000781.0   \n",
              "4                Action, Adventure    0.0   777456.0   \n",
              "\n",
              "                                            Platform  ...  OriginalCost  \\\n",
              "0                        PC, Xbox 360, PlayStation 3  ...  Free to Play   \n",
              "1  PlayStation 5, Web, Xbox Series X, PC, Xbox On...  ...  Free To Play   \n",
              "2                                   Linux, macOS, PC  ...  Free to Play   \n",
              "3                                                 PC  ...        $19.99   \n",
              "4                                       PC, Xbox One  ...        $39.99   \n",
              "\n",
              "  DiscountedCost                              Players Controller  \\\n",
              "0            NaN  multiplayer, pvp, coop, online coop        1.0   \n",
              "1            NaN       multiplayer, coop, online coop        1.0   \n",
              "2            NaN  multiplayer, pvp, coop, online coop        1.0   \n",
              "3            NaN      singleplayer, multiplayer, coop        1.0   \n",
              "4            NaN  multiplayer, pvp, coop, online coop        1.0   \n",
              "\n",
              "                                           Languages    ESRB Achievements  \\\n",
              "0  English, Czech, Danish, Dutch, Finnish, French...  Mature        179.0   \n",
              "1  English, French, Italian, German, Japanese, Ko...    Teen         61.0   \n",
              "2  English, Bulgarian, Czech, Danish, Dutch, Finn...     NaN          0.0   \n",
              "3                   English, French, German, Russian     NaN          0.0   \n",
              "4          English, French, Italian, German, Russian    Teen        308.0   \n",
              "\n",
              "  Publisher                                        Description  \\\n",
              "0       NaN  Counter-Strike is a multiplayer phenomenon in ...   \n",
              "1       NaN  Destiny 2 is an online multiplayer first-perso...   \n",
              "2       NaN  What used to be an unofficial modded map for t...   \n",
              "3       NaN  Includes The Elder Scrolls Online base game an...   \n",
              "4       NaN  Sea of Thieves is a cooperative multiplayer ac...   \n",
              "\n",
              "                                                Tags  \n",
              "0  FPS, Shooter, Multiplayer, Competitive, Action...  \n",
              "1  Free to Play, Looter Shooter, FPS, Multiplayer...  \n",
              "2  Free to Play, MOBA, Multiplayer, Strategy, eSp...  \n",
              "3  RPG, MMORPG, Open World, Massively Multiplayer...  \n",
              "4  Adventure, Action, Pirates, Open World, Multip...  \n",
              "\n",
              "[5 rows x 27 columns]"
            ]
          },
          "execution_count": 42,
          "metadata": {},
          "output_type": "execute_result"
        }
      ],
      "source": [
        "data.head()"
      ]
    },
    {
      "cell_type": "code",
      "execution_count": null,
      "metadata": {
        "colab": {
          "base_uri": "https://localhost:8080/"
        },
        "id": "5DAW855Stg_z",
        "outputId": "d871482c-e369-4db9-bb22-ef6fe4234209"
      },
      "outputs": [
        {
          "name": "stdout",
          "output_type": "stream",
          "text": [
            "Всего строк: 30250\n"
          ]
        }
      ],
      "source": [
        "total_count = data.shape[0]\n",
        "print('Всего строк: {}'.format(total_count))"
      ]
    },
    {
      "cell_type": "markdown",
      "metadata": {
        "id": "Yp9v27Vgtg_0"
      },
      "source": [
        "# Устранение пропусков в данных"
      ]
    },
    {
      "cell_type": "code",
      "execution_count": null,
      "metadata": {
        "colab": {
          "base_uri": "https://localhost:8080/"
        },
        "id": "2dN6QniTtg_0",
        "outputId": "ed8880b4-5586-4d31-e0b1-aabf60bffd9c"
      },
      "outputs": [
        {
          "data": {
            "text/plain": [
              "[('Name', 94),\n",
              " ('RawgID', 94),\n",
              " ('SteamURL', 55),\n",
              " ('Metacritic', 26894),\n",
              " ('Genres', 2968),\n",
              " ('Indie', 205),\n",
              " ('Presence', 94),\n",
              " ('Platform', 127),\n",
              " ('Graphics', 4320),\n",
              " ('Storage', 2759),\n",
              " ('Memory', 1934),\n",
              " ('RatingsBreakdown', 15206),\n",
              " ('ReleaseDate', 3226),\n",
              " ('Soundtrack', 205),\n",
              " ('Franchise', 25163),\n",
              " ('OriginalCost', 746),\n",
              " ('DiscountedCost', 29523),\n",
              " ('Players', 17916),\n",
              " ('Controller', 274),\n",
              " ('Languages', 223),\n",
              " ('ESRB', 25503),\n",
              " ('Achievements', 94),\n",
              " ('Publisher', 30250),\n",
              " ('Description', 219),\n",
              " ('Tags', 205)]"
            ]
          },
          "execution_count": 44,
          "metadata": {},
          "output_type": "execute_result"
        }
      ],
      "source": [
        "hcols_with_na = [c for c in data.columns if data[c].isnull().sum() > 0]\n",
        "# Количество пропусков\n",
        "[(c, data[c].isnull().sum()) for c in hcols_with_na]"
      ]
    },
    {
      "cell_type": "code",
      "execution_count": null,
      "metadata": {
        "colab": {
          "base_uri": "https://localhost:8080/"
        },
        "id": "BtS1-2rxtg_1",
        "outputId": "e7eee3a7-43a7-48f2-9546-b45e8c0bdda2"
      },
      "outputs": [
        {
          "data": {
            "text/plain": [
              "[('Name', 0.0031074380165289255),\n",
              " ('RawgID', 0.0031074380165289255),\n",
              " ('SteamURL', 0.0018181818181818182),\n",
              " ('Metacritic', 0.8890578512396694),\n",
              " ('Genres', 0.09811570247933885),\n",
              " ('Indie', 0.006776859504132231),\n",
              " ('Presence', 0.0031074380165289255),\n",
              " ('Platform', 0.004198347107438017),\n",
              " ('Graphics', 0.1428099173553719),\n",
              " ('Storage', 0.09120661157024794),\n",
              " ('Memory', 0.06393388429752066),\n",
              " ('RatingsBreakdown', 0.5026776859504132),\n",
              " ('ReleaseDate', 0.10664462809917355),\n",
              " ('Soundtrack', 0.006776859504132231),\n",
              " ('Franchise', 0.8318347107438017),\n",
              " ('OriginalCost', 0.02466115702479339),\n",
              " ('DiscountedCost', 0.9759669421487603),\n",
              " ('Players', 0.5922644628099174),\n",
              " ('Controller', 0.009057851239669422),\n",
              " ('Languages', 0.007371900826446281),\n",
              " ('ESRB', 0.8430743801652892),\n",
              " ('Achievements', 0.0031074380165289255),\n",
              " ('Publisher', 1.0),\n",
              " ('Description', 0.007239669421487603),\n",
              " ('Tags', 0.006776859504132231)]"
            ]
          },
          "execution_count": 45,
          "metadata": {},
          "output_type": "execute_result"
        }
      ],
      "source": [
        "# Доля (процент) пропусков\n",
        "[(c, data[c].isnull().mean()) for c in hcols_with_na]"
      ]
    },
    {
      "cell_type": "code",
      "execution_count": null,
      "metadata": {
        "colab": {
          "base_uri": "https://localhost:8080/"
        },
        "id": "lL0h95L4tg_1",
        "outputId": "11b9ba46-5ecf-4c27-e623-dc0a34db40f2",
        "scrolled": false
      },
      "outputs": [
        {
          "name": "stderr",
          "output_type": "stream",
          "text": [
            "<ipython-input-46-db29e5716c4b>:2: FutureWarning: In a future version of pandas all arguments of DataFrame.drop except for the argument 'labels' will be keyword-only.\n",
            "  data = data.drop('Publisher', 1)\n",
            "<ipython-input-46-db29e5716c4b>:3: FutureWarning: In a future version of pandas all arguments of DataFrame.drop except for the argument 'labels' will be keyword-only.\n",
            "  data = data.drop('Unnamed: 0', 1)\n"
          ]
        },
        {
          "data": {
            "text/plain": [
              "(30250, 25)"
            ]
          },
          "execution_count": 46,
          "metadata": {},
          "output_type": "execute_result"
        }
      ],
      "source": [
        "# Удаление колонки Publisher и Unnamed: 0 из-за неиспользования  в данной работе связей с другими датасетами\n",
        "data = data.drop('Publisher', 1)\n",
        "data = data.drop('Unnamed: 0', 1)\n",
        "data.shape"
      ]
    },
    {
      "cell_type": "code",
      "execution_count": null,
      "metadata": {
        "colab": {
          "base_uri": "https://localhost:8080/"
        },
        "id": "pNtLS_lRtg_2",
        "outputId": "466725ac-9ee8-4b89-ff0f-b56eaec70065"
      },
      "outputs": [
        {
          "data": {
            "text/plain": [
              "(30101, 25)"
            ]
          },
          "execution_count": 47,
          "metadata": {},
          "output_type": "execute_result"
        }
      ],
      "source": [
        "# Колонки для которых удаляются пропуски\n",
        "data = data.dropna(axis=0, subset=['Name', 'SteamURL'])\n",
        "data.shape"
      ]
    },
    {
      "cell_type": "code",
      "execution_count": null,
      "metadata": {
        "colab": {
          "base_uri": "https://localhost:8080/"
        },
        "id": "3U2q6mMutg_2",
        "outputId": "5e60e3f7-e515-4d61-ff97-f980605a1732"
      },
      "outputs": [
        {
          "data": {
            "text/plain": [
              "[('Metacritic', 26746),\n",
              " ('Genres', 2907),\n",
              " ('Indie', 176),\n",
              " ('Platform', 33),\n",
              " ('Graphics', 4250),\n",
              " ('Storage', 2697),\n",
              " ('Memory', 1872),\n",
              " ('RatingsBreakdown', 15112),\n",
              " ('ReleaseDate', 3132),\n",
              " ('Soundtrack', 176),\n",
              " ('Franchise', 25024),\n",
              " ('OriginalCost', 688),\n",
              " ('DiscountedCost', 29374),\n",
              " ('Players', 17813),\n",
              " ('Controller', 219),\n",
              " ('Languages', 168),\n",
              " ('ESRB', 25355),\n",
              " ('Description', 125),\n",
              " ('Tags', 176)]"
            ]
          },
          "execution_count": 48,
          "metadata": {},
          "output_type": "execute_result"
        }
      ],
      "source": [
        "hcols_with_na = [c for c in data.columns if data[c].isnull().sum() > 0]\n",
        "# Количество пропусков\n",
        "[(c, data[c].isnull().sum()) for c in hcols_with_na]"
      ]
    },
    {
      "cell_type": "markdown",
      "metadata": {
        "id": "xEBe4mhKyaGn"
      },
      "source": [
        "# Заполнение значений для одного признака"
      ]
    },
    {
      "cell_type": "markdown",
      "metadata": {
        "id": "Y8j8gdgftg_3"
      },
      "source": [
        "## \"Внедрение значений\" - импьютация (imputation)"
      ]
    },
    {
      "cell_type": "markdown",
      "metadata": {
        "id": "Lhbf8f_Ftg_4"
      },
      "source": [
        "### Обработка пропусков в числовых данных"
      ]
    },
    {
      "cell_type": "code",
      "execution_count": null,
      "metadata": {
        "colab": {
          "base_uri": "https://localhost:8080/"
        },
        "id": "0DLtnRzhtg_4",
        "outputId": "d32335d2-67f2-4054-9da0-ee4dc74afd73"
      },
      "outputs": [
        {
          "name": "stdout",
          "output_type": "stream",
          "text": [
            "Колонка Metacritic. Тип данных float64. Количество пустых значений 26746, 88.42%.\n",
            "Колонка Indie. Тип данных float64. Количество пустых значений 176, 0.58%.\n",
            "Колонка Soundtrack. Тип данных float64. Количество пустых значений 176, 0.58%.\n",
            "Колонка Controller. Тип данных float64. Количество пустых значений 219, 0.72%.\n"
          ]
        }
      ],
      "source": [
        "# Выберем числовые колонки с пропущенными значениями\n",
        "# Цикл по колонкам датасета\n",
        "num_cols = []\n",
        "for col in data.columns:\n",
        "    # Количество пустых значений\n",
        "    temp_null_count = data[data[col].isnull()].shape[0]\n",
        "    dt = str(data[col].dtype)\n",
        "    if temp_null_count>0 and (dt=='float64' or dt=='int64'):\n",
        "        num_cols.append(col)\n",
        "        temp_perc = round((temp_null_count / total_count) * 100.0, 2)\n",
        "        print('Колонка {}. Тип данных {}. Количество пустых значений {}, {}%.'.format(col, dt, temp_null_count, temp_perc))"
      ]
    },
    {
      "cell_type": "code",
      "execution_count": null,
      "metadata": {
        "colab": {
          "base_uri": "https://localhost:8080/",
          "height": 424
        },
        "id": "4pcE757stg_4",
        "outputId": "b1007d16-b734-4682-d131-22100159f126"
      },
      "outputs": [
        {
          "data": {
            "text/html": [
              "\n",
              "  <div id=\"df-227475ff-d928-47a2-aa6b-5d2cc0e9573b\">\n",
              "    <div class=\"colab-df-container\">\n",
              "      <div>\n",
              "<style scoped>\n",
              "    .dataframe tbody tr th:only-of-type {\n",
              "        vertical-align: middle;\n",
              "    }\n",
              "\n",
              "    .dataframe tbody tr th {\n",
              "        vertical-align: top;\n",
              "    }\n",
              "\n",
              "    .dataframe thead th {\n",
              "        text-align: right;\n",
              "    }\n",
              "</style>\n",
              "<table border=\"1\" class=\"dataframe\">\n",
              "  <thead>\n",
              "    <tr style=\"text-align: right;\">\n",
              "      <th></th>\n",
              "      <th>Metacritic</th>\n",
              "      <th>Indie</th>\n",
              "      <th>Soundtrack</th>\n",
              "      <th>Controller</th>\n",
              "    </tr>\n",
              "  </thead>\n",
              "  <tbody>\n",
              "    <tr>\n",
              "      <th>0</th>\n",
              "      <td>83.0</td>\n",
              "      <td>0.0</td>\n",
              "      <td>0.0</td>\n",
              "      <td>1.0</td>\n",
              "    </tr>\n",
              "    <tr>\n",
              "      <th>1</th>\n",
              "      <td>82.0</td>\n",
              "      <td>0.0</td>\n",
              "      <td>0.0</td>\n",
              "      <td>1.0</td>\n",
              "    </tr>\n",
              "    <tr>\n",
              "      <th>2</th>\n",
              "      <td>90.0</td>\n",
              "      <td>0.0</td>\n",
              "      <td>0.0</td>\n",
              "      <td>1.0</td>\n",
              "    </tr>\n",
              "    <tr>\n",
              "      <th>3</th>\n",
              "      <td>71.0</td>\n",
              "      <td>0.0</td>\n",
              "      <td>0.0</td>\n",
              "      <td>1.0</td>\n",
              "    </tr>\n",
              "    <tr>\n",
              "      <th>4</th>\n",
              "      <td>68.0</td>\n",
              "      <td>0.0</td>\n",
              "      <td>0.0</td>\n",
              "      <td>1.0</td>\n",
              "    </tr>\n",
              "    <tr>\n",
              "      <th>...</th>\n",
              "      <td>...</td>\n",
              "      <td>...</td>\n",
              "      <td>...</td>\n",
              "      <td>...</td>\n",
              "    </tr>\n",
              "    <tr>\n",
              "      <th>30245</th>\n",
              "      <td>NaN</td>\n",
              "      <td>1.0</td>\n",
              "      <td>0.0</td>\n",
              "      <td>1.0</td>\n",
              "    </tr>\n",
              "    <tr>\n",
              "      <th>30246</th>\n",
              "      <td>NaN</td>\n",
              "      <td>1.0</td>\n",
              "      <td>0.0</td>\n",
              "      <td>0.0</td>\n",
              "    </tr>\n",
              "    <tr>\n",
              "      <th>30247</th>\n",
              "      <td>NaN</td>\n",
              "      <td>0.0</td>\n",
              "      <td>0.0</td>\n",
              "      <td>0.0</td>\n",
              "    </tr>\n",
              "    <tr>\n",
              "      <th>30248</th>\n",
              "      <td>NaN</td>\n",
              "      <td>1.0</td>\n",
              "      <td>0.0</td>\n",
              "      <td>1.0</td>\n",
              "    </tr>\n",
              "    <tr>\n",
              "      <th>30249</th>\n",
              "      <td>NaN</td>\n",
              "      <td>0.0</td>\n",
              "      <td>0.0</td>\n",
              "      <td>1.0</td>\n",
              "    </tr>\n",
              "  </tbody>\n",
              "</table>\n",
              "<p>30101 rows × 4 columns</p>\n",
              "</div>\n",
              "      <button class=\"colab-df-convert\" onclick=\"convertToInteractive('df-227475ff-d928-47a2-aa6b-5d2cc0e9573b')\"\n",
              "              title=\"Convert this dataframe to an interactive table.\"\n",
              "              style=\"display:none;\">\n",
              "        \n",
              "  <svg xmlns=\"http://www.w3.org/2000/svg\" height=\"24px\"viewBox=\"0 0 24 24\"\n",
              "       width=\"24px\">\n",
              "    <path d=\"M0 0h24v24H0V0z\" fill=\"none\"/>\n",
              "    <path d=\"M18.56 5.44l.94 2.06.94-2.06 2.06-.94-2.06-.94-.94-2.06-.94 2.06-2.06.94zm-11 1L8.5 8.5l.94-2.06 2.06-.94-2.06-.94L8.5 2.5l-.94 2.06-2.06.94zm10 10l.94 2.06.94-2.06 2.06-.94-2.06-.94-.94-2.06-.94 2.06-2.06.94z\"/><path d=\"M17.41 7.96l-1.37-1.37c-.4-.4-.92-.59-1.43-.59-.52 0-1.04.2-1.43.59L10.3 9.45l-7.72 7.72c-.78.78-.78 2.05 0 2.83L4 21.41c.39.39.9.59 1.41.59.51 0 1.02-.2 1.41-.59l7.78-7.78 2.81-2.81c.8-.78.8-2.07 0-2.86zM5.41 20L4 18.59l7.72-7.72 1.47 1.35L5.41 20z\"/>\n",
              "  </svg>\n",
              "      </button>\n",
              "      \n",
              "  <style>\n",
              "    .colab-df-container {\n",
              "      display:flex;\n",
              "      flex-wrap:wrap;\n",
              "      gap: 12px;\n",
              "    }\n",
              "\n",
              "    .colab-df-convert {\n",
              "      background-color: #E8F0FE;\n",
              "      border: none;\n",
              "      border-radius: 50%;\n",
              "      cursor: pointer;\n",
              "      display: none;\n",
              "      fill: #1967D2;\n",
              "      height: 32px;\n",
              "      padding: 0 0 0 0;\n",
              "      width: 32px;\n",
              "    }\n",
              "\n",
              "    .colab-df-convert:hover {\n",
              "      background-color: #E2EBFA;\n",
              "      box-shadow: 0px 1px 2px rgba(60, 64, 67, 0.3), 0px 1px 3px 1px rgba(60, 64, 67, 0.15);\n",
              "      fill: #174EA6;\n",
              "    }\n",
              "\n",
              "    [theme=dark] .colab-df-convert {\n",
              "      background-color: #3B4455;\n",
              "      fill: #D2E3FC;\n",
              "    }\n",
              "\n",
              "    [theme=dark] .colab-df-convert:hover {\n",
              "      background-color: #434B5C;\n",
              "      box-shadow: 0px 1px 3px 1px rgba(0, 0, 0, 0.15);\n",
              "      filter: drop-shadow(0px 1px 2px rgba(0, 0, 0, 0.3));\n",
              "      fill: #FFFFFF;\n",
              "    }\n",
              "  </style>\n",
              "\n",
              "      <script>\n",
              "        const buttonEl =\n",
              "          document.querySelector('#df-227475ff-d928-47a2-aa6b-5d2cc0e9573b button.colab-df-convert');\n",
              "        buttonEl.style.display =\n",
              "          google.colab.kernel.accessAllowed ? 'block' : 'none';\n",
              "\n",
              "        async function convertToInteractive(key) {\n",
              "          const element = document.querySelector('#df-227475ff-d928-47a2-aa6b-5d2cc0e9573b');\n",
              "          const dataTable =\n",
              "            await google.colab.kernel.invokeFunction('convertToInteractive',\n",
              "                                                     [key], {});\n",
              "          if (!dataTable) return;\n",
              "\n",
              "          const docLinkHtml = 'Like what you see? Visit the ' +\n",
              "            '<a target=\"_blank\" href=https://colab.research.google.com/notebooks/data_table.ipynb>data table notebook</a>'\n",
              "            + ' to learn more about interactive tables.';\n",
              "          element.innerHTML = '';\n",
              "          dataTable['output_type'] = 'display_data';\n",
              "          await google.colab.output.renderOutput(dataTable, element);\n",
              "          const docLink = document.createElement('div');\n",
              "          docLink.innerHTML = docLinkHtml;\n",
              "          element.appendChild(docLink);\n",
              "        }\n",
              "      </script>\n",
              "    </div>\n",
              "  </div>\n",
              "  "
            ],
            "text/plain": [
              "       Metacritic  Indie  Soundtrack  Controller\n",
              "0            83.0    0.0         0.0         1.0\n",
              "1            82.0    0.0         0.0         1.0\n",
              "2            90.0    0.0         0.0         1.0\n",
              "3            71.0    0.0         0.0         1.0\n",
              "4            68.0    0.0         0.0         1.0\n",
              "...           ...    ...         ...         ...\n",
              "30245         NaN    1.0         0.0         1.0\n",
              "30246         NaN    1.0         0.0         0.0\n",
              "30247         NaN    0.0         0.0         0.0\n",
              "30248         NaN    1.0         0.0         1.0\n",
              "30249         NaN    0.0         0.0         1.0\n",
              "\n",
              "[30101 rows x 4 columns]"
            ]
          },
          "execution_count": 50,
          "metadata": {},
          "output_type": "execute_result"
        }
      ],
      "source": [
        "# Фильтр по колонкам с пропущенными значениями\n",
        "data_num = data[num_cols]\n",
        "data_num"
      ]
    },
    {
      "cell_type": "code",
      "execution_count": null,
      "metadata": {
        "colab": {
          "base_uri": "https://localhost:8080/"
        },
        "id": "pn_IJaoWtg_5",
        "outputId": "53a57764-662f-4f9b-8c36-c4fb6630e07f"
      },
      "outputs": [
        {
          "data": {
            "text/plain": [
              "(array([ 0.,  1., nan]), array([ 1.,  0., nan]), array([ 0.,  1., nan]))"
            ]
          },
          "execution_count": 51,
          "metadata": {},
          "output_type": "execute_result"
        }
      ],
      "source": [
        "# Определим уникальные значения для полей\n",
        "(data['Soundtrack'].unique(),\n",
        " data['Controller'].unique(),\n",
        " data['Indie'].unique())"
      ]
    },
    {
      "cell_type": "code",
      "execution_count": null,
      "metadata": {
        "colab": {
          "base_uri": "https://localhost:8080/",
          "height": 1000
        },
        "id": "Lg8qFfO6tg_5",
        "outputId": "9a0a5fdb-8bba-4ac9-94b8-bba76acc4037",
        "scrolled": false
      },
      "outputs": [
        {
          "data": {
            "image/png": "[encoded data removed]",
            "text/plain": [
              "<Figure size 432x288 with 1 Axes>"
            ]
          },
          "metadata": {},
          "output_type": "display_data"
        },
        {
          "data": {
            "image/png": "[encoded data removed]",
            "text/plain": [
              "<Figure size 432x288 with 1 Axes>"
            ]
          },
          "metadata": {},
          "output_type": "display_data"
        },
        {
          "data": {
            "image/png": "[encoded data removed]",
            "text/plain": [
              "<Figure size 432x288 with 1 Axes>"
            ]
          },
          "metadata": {},
          "output_type": "display_data"
        },
        {
          "data": {
            "image/png": "[encoded data removed]",
            "text/plain": [
              "<Figure size 432x288 with 1 Axes>"
            ]
          },
          "metadata": {},
          "output_type": "display_data"
        }
      ],
      "source": [
        "# Гистограмма по признакам\n",
        "for col in data_num:\n",
        "    plt.hist(data[col], 50)\n",
        "    plt.xlabel(col)\n",
        "    plt.show()"
      ]
    },
    {
      "cell_type": "code",
      "execution_count": null,
      "metadata": {
        "colab": {
          "base_uri": "https://localhost:8080/",
          "height": 206
        },
        "id": "kjrniMe-tg_5",
        "outputId": "68999e81-7bef-4c5a-9893-82439280b29a"
      },
      "outputs": [
        {
          "data": {
            "text/html": [
              "\n",
              "  <div id=\"df-7be1962a-0bdb-4965-97ba-33f6ec9dfbd5\">\n",
              "    <div class=\"colab-df-container\">\n",
              "      <div>\n",
              "<style scoped>\n",
              "    .dataframe tbody tr th:only-of-type {\n",
              "        vertical-align: middle;\n",
              "    }\n",
              "\n",
              "    .dataframe tbody tr th {\n",
              "        vertical-align: top;\n",
              "    }\n",
              "\n",
              "    .dataframe thead th {\n",
              "        text-align: right;\n",
              "    }\n",
              "</style>\n",
              "<table border=\"1\" class=\"dataframe\">\n",
              "  <thead>\n",
              "    <tr style=\"text-align: right;\">\n",
              "      <th></th>\n",
              "      <th>Metacritic</th>\n",
              "    </tr>\n",
              "  </thead>\n",
              "  <tbody>\n",
              "    <tr>\n",
              "      <th>0</th>\n",
              "      <td>83.0</td>\n",
              "    </tr>\n",
              "    <tr>\n",
              "      <th>1</th>\n",
              "      <td>82.0</td>\n",
              "    </tr>\n",
              "    <tr>\n",
              "      <th>2</th>\n",
              "      <td>90.0</td>\n",
              "    </tr>\n",
              "    <tr>\n",
              "      <th>3</th>\n",
              "      <td>71.0</td>\n",
              "    </tr>\n",
              "    <tr>\n",
              "      <th>4</th>\n",
              "      <td>68.0</td>\n",
              "    </tr>\n",
              "  </tbody>\n",
              "</table>\n",
              "</div>\n",
              "      <button class=\"colab-df-convert\" onclick=\"convertToInteractive('df-7be1962a-0bdb-4965-97ba-33f6ec9dfbd5')\"\n",
              "              title=\"Convert this dataframe to an interactive table.\"\n",
              "              style=\"display:none;\">\n",
              "        \n",
              "  <svg xmlns=\"http://www.w3.org/2000/svg\" height=\"24px\"viewBox=\"0 0 24 24\"\n",
              "       width=\"24px\">\n",
              "    <path d=\"M0 0h24v24H0V0z\" fill=\"none\"/>\n",
              "    <path d=\"M18.56 5.44l.94 2.06.94-2.06 2.06-.94-2.06-.94-.94-2.06-.94 2.06-2.06.94zm-11 1L8.5 8.5l.94-2.06 2.06-.94-2.06-.94L8.5 2.5l-.94 2.06-2.06.94zm10 10l.94 2.06.94-2.06 2.06-.94-2.06-.94-.94-2.06-.94 2.06-2.06.94z\"/><path d=\"M17.41 7.96l-1.37-1.37c-.4-.4-.92-.59-1.43-.59-.52 0-1.04.2-1.43.59L10.3 9.45l-7.72 7.72c-.78.78-.78 2.05 0 2.83L4 21.41c.39.39.9.59 1.41.59.51 0 1.02-.2 1.41-.59l7.78-7.78 2.81-2.81c.8-.78.8-2.07 0-2.86zM5.41 20L4 18.59l7.72-7.72 1.47 1.35L5.41 20z\"/>\n",
              "  </svg>\n",
              "      </button>\n",
              "      \n",
              "  <style>\n",
              "    .colab-df-container {\n",
              "      display:flex;\n",
              "      flex-wrap:wrap;\n",
              "      gap: 12px;\n",
              "    }\n",
              "\n",
              "    .colab-df-convert {\n",
              "      background-color: #E8F0FE;\n",
              "      border: none;\n",
              "      border-radius: 50%;\n",
              "      cursor: pointer;\n",
              "      display: none;\n",
              "      fill: #1967D2;\n",
              "      height: 32px;\n",
              "      padding: 0 0 0 0;\n",
              "      width: 32px;\n",
              "    }\n",
              "\n",
              "    .colab-df-convert:hover {\n",
              "      background-color: #E2EBFA;\n",
              "      box-shadow: 0px 1px 2px rgba(60, 64, 67, 0.3), 0px 1px 3px 1px rgba(60, 64, 67, 0.15);\n",
              "      fill: #174EA6;\n",
              "    }\n",
              "\n",
              "    [theme=dark] .colab-df-convert {\n",
              "      background-color: #3B4455;\n",
              "      fill: #D2E3FC;\n",
              "    }\n",
              "\n",
              "    [theme=dark] .colab-df-convert:hover {\n",
              "      background-color: #434B5C;\n",
              "      box-shadow: 0px 1px 3px 1px rgba(0, 0, 0, 0.15);\n",
              "      filter: drop-shadow(0px 1px 2px rgba(0, 0, 0, 0.3));\n",
              "      fill: #FFFFFF;\n",
              "    }\n",
              "  </style>\n",
              "\n",
              "      <script>\n",
              "        const buttonEl =\n",
              "          document.querySelector('#df-7be1962a-0bdb-4965-97ba-33f6ec9dfbd5 button.colab-df-convert');\n",
              "        buttonEl.style.display =\n",
              "          google.colab.kernel.accessAllowed ? 'block' : 'none';\n",
              "\n",
              "        async function convertToInteractive(key) {\n",
              "          const element = document.querySelector('#df-7be1962a-0bdb-4965-97ba-33f6ec9dfbd5');\n",
              "          const dataTable =\n",
              "            await google.colab.kernel.invokeFunction('convertToInteractive',\n",
              "                                                     [key], {});\n",
              "          if (!dataTable) return;\n",
              "\n",
              "          const docLinkHtml = 'Like what you see? Visit the ' +\n",
              "            '<a target=\"_blank\" href=https://colab.research.google.com/notebooks/data_table.ipynb>data table notebook</a>'\n",
              "            + ' to learn more about interactive tables.';\n",
              "          element.innerHTML = '';\n",
              "          dataTable['output_type'] = 'display_data';\n",
              "          await google.colab.output.renderOutput(dataTable, element);\n",
              "          const docLink = document.createElement('div');\n",
              "          docLink.innerHTML = docLinkHtml;\n",
              "          element.appendChild(docLink);\n",
              "        }\n",
              "      </script>\n",
              "    </div>\n",
              "  </div>\n",
              "  "
            ],
            "text/plain": [
              "   Metacritic\n",
              "0        83.0\n",
              "1        82.0\n",
              "2        90.0\n",
              "3        71.0\n",
              "4        68.0"
            ]
          },
          "execution_count": 53,
          "metadata": {},
          "output_type": "execute_result"
        }
      ],
      "source": [
        "data_num_Metacritic = data_num[['Metacritic']]\n",
        "data_num_Metacritic.head()"
      ]
    },
    {
      "cell_type": "code",
      "execution_count": null,
      "metadata": {
        "id": "C_EhU-wntg_3"
      },
      "outputs": [],
      "source": [
        "def research_impute_numeric_column(dataset, num_column, const_value=None):\n",
        "    strategy_params = ['mean', 'median', 'most_frequent', 'constant']\n",
        "    strategy_params_names = ['Среднее', 'Медиана', 'Мода']\n",
        "    strategy_params_names.append('Константа = ' + str(const_value))\n",
        "\n",
        "    original_temp_data = dataset[[num_column]].values\n",
        "    size = original_temp_data.shape[0]\n",
        "    original_data = original_temp_data.reshape((size,))\n",
        "\n",
        "    new_df = pd.DataFrame({'Исходные данные':original_data})\n",
        "\n",
        "    for i in range(len(strategy_params)):\n",
        "        strategy = strategy_params[i]\n",
        "        col_name = strategy_params_names[i]\n",
        "        if (strategy!='constant') or (strategy == 'constant' and const_value!=None):\n",
        "            if strategy == 'constant':\n",
        "                temp_data, _, _ = impute_column(dataset, num_column, strategy, fill_value_param=const_value)\n",
        "            else:\n",
        "                temp_data, _, _ = impute_column(dataset, num_column, strategy)\n",
        "            new_df[col_name] = temp_data\n",
        "\n",
        "    sns.kdeplot(data=new_df)"
      ]
    },
    {
      "cell_type": "code",
      "execution_count": null,
      "metadata": {
        "colab": {
          "base_uri": "https://localhost:8080/",
          "height": 268
        },
        "id": "zg5alz54zH4C",
        "outputId": "4f86cf20-49c7-4504-ac74-cbf0b856d6d3"
      },
      "outputs": [
        {
          "data": {
            "image/png": "[encoded data removed]",
            "text/plain": [
              "<Figure size 432x288 with 1 Axes>"
            ]
          },
          "metadata": {},
          "output_type": "display_data"
        }
      ],
      "source": [
        "research_impute_numeric_column(data, 'Metacritic', 50)"
      ]
    },
    {
      "cell_type": "code",
      "execution_count": null,
      "metadata": {
        "id": "-xOk2rwLtg_6"
      },
      "outputs": [],
      "source": [
        "from sklearn.impute import SimpleImputer\n",
        "from sklearn.impute import MissingIndicator"
      ]
    },
    {
      "cell_type": "markdown",
      "metadata": {
        "id": "cizgCDQPtg_6"
      },
      "source": [
        "Попробуем заполнить пропущенные значения в колонке Metacritics значениями, вычисленными по среднему арифметическому, медиане и моде."
      ]
    },
    {
      "cell_type": "code",
      "execution_count": null,
      "metadata": {
        "id": "FfGdHyPAtg_7"
      },
      "outputs": [],
      "source": [
        "strategies=['mean', 'median', 'most_frequent']"
      ]
    },
    {
      "cell_type": "code",
      "execution_count": null,
      "metadata": {
        "id": "b9oAyrEvtg_7"
      },
      "outputs": [],
      "source": [
        "def test_num_impute(strategy_param):\n",
        "    imp_num = SimpleImputer(strategy=strategy_param)\n",
        "    data_num_imp = imp_num.fit_transform(data_num_Metacritic)\n",
        "    return data_num_imp[mask_missing_values_only]"
      ]
    },
    {
      "cell_type": "code",
      "execution_count": null,
      "metadata": {
        "colab": {
          "base_uri": "https://localhost:8080/"
        },
        "id": "FYdz_vaetg_8",
        "outputId": "90f34565-c817-4a16-8df4-d8ed61586a2d"
      },
      "outputs": [
        {
          "data": {
            "text/plain": [
              "('mean', array([72.92280179, 72.92280179, 72.92280179, ..., 72.92280179,\n",
              "        72.92280179, 72.92280179]))"
            ]
          },
          "execution_count": 60,
          "metadata": {},
          "output_type": "execute_result"
        }
      ],
      "source": [
        "strategies[0], test_num_impute(strategies[0])"
      ]
    },
    {
      "cell_type": "code",
      "execution_count": null,
      "metadata": {
        "colab": {
          "base_uri": "https://localhost:8080/"
        },
        "id": "J7R35ymXtg_8",
        "outputId": "bf3aab45-92e5-43cb-980c-0bc7314ae6dd"
      },
      "outputs": [
        {
          "data": {
            "text/plain": [
              "('median', array([74., 74., 74., ..., 74., 74., 74.]))"
            ]
          },
          "execution_count": 61,
          "metadata": {},
          "output_type": "execute_result"
        }
      ],
      "source": [
        "strategies[1], test_num_impute(strategies[1])"
      ]
    },
    {
      "cell_type": "code",
      "execution_count": null,
      "metadata": {
        "colab": {
          "base_uri": "https://localhost:8080/"
        },
        "id": "iQ80e5VCtg_8",
        "outputId": "cf341b8f-1c0d-4231-bfa3-550df4ae39a5"
      },
      "outputs": [
        {
          "data": {
            "text/plain": [
              "('most_frequent', array([80., 80., 80., ..., 80., 80., 80.]))"
            ]
          },
          "execution_count": 62,
          "metadata": {},
          "output_type": "execute_result"
        }
      ],
      "source": [
        "strategies[2], test_num_impute(strategies[2])"
      ]
    },
    {
      "cell_type": "code",
      "execution_count": null,
      "metadata": {
        "id": "b7jRf7Eatg_9"
      },
      "outputs": [],
      "source": [
        "# Более сложная функция, которая позволяет задавать колонку и вид импьютации\n",
        "def test_num_impute_col(dataset, column, strategy_param):\n",
        "    temp_data = dataset[[column]]\n",
        "\n",
        "    indicator = MissingIndicator()\n",
        "    mask_missing_values_only = indicator.fit_transform(temp_data)\n",
        "\n",
        "    imp_num = SimpleImputer(strategy=strategy_param)\n",
        "    data_num_imp = imp_num.fit_transform(temp_data)\n",
        "\n",
        "    filled_data = data_num_imp[mask_missing_values_only]\n",
        "\n",
        "    return column, strategy_param, filled_data.size, filled_data[0], filled_data[filled_data.size-1]"
      ]
    },
    {
      "cell_type": "code",
      "execution_count": null,
      "metadata": {
        "colab": {
          "base_uri": "https://localhost:8080/",
          "height": 300
        },
        "id": "jR2I5QQvtg_-",
        "outputId": "5c1e2800-84df-4549-b354-67814912e5be"
      },
      "outputs": [
        {
          "data": {
            "text/html": [
              "\n",
              "  <div id=\"df-4de19965-20a0-4cb0-a28c-18da792fbf68\">\n",
              "    <div class=\"colab-df-container\">\n",
              "      <div>\n",
              "<style scoped>\n",
              "    .dataframe tbody tr th:only-of-type {\n",
              "        vertical-align: middle;\n",
              "    }\n",
              "\n",
              "    .dataframe tbody tr th {\n",
              "        vertical-align: top;\n",
              "    }\n",
              "\n",
              "    .dataframe thead th {\n",
              "        text-align: right;\n",
              "    }\n",
              "</style>\n",
              "<table border=\"1\" class=\"dataframe\">\n",
              "  <thead>\n",
              "    <tr style=\"text-align: right;\">\n",
              "      <th></th>\n",
              "      <th>Metacritic</th>\n",
              "    </tr>\n",
              "  </thead>\n",
              "  <tbody>\n",
              "    <tr>\n",
              "      <th>count</th>\n",
              "      <td>3355.000000</td>\n",
              "    </tr>\n",
              "    <tr>\n",
              "      <th>mean</th>\n",
              "      <td>72.922802</td>\n",
              "    </tr>\n",
              "    <tr>\n",
              "      <th>std</th>\n",
              "      <td>10.806216</td>\n",
              "    </tr>\n",
              "    <tr>\n",
              "      <th>min</th>\n",
              "      <td>20.000000</td>\n",
              "    </tr>\n",
              "    <tr>\n",
              "      <th>25%</th>\n",
              "      <td>67.000000</td>\n",
              "    </tr>\n",
              "    <tr>\n",
              "      <th>50%</th>\n",
              "      <td>74.000000</td>\n",
              "    </tr>\n",
              "    <tr>\n",
              "      <th>75%</th>\n",
              "      <td>80.000000</td>\n",
              "    </tr>\n",
              "    <tr>\n",
              "      <th>max</th>\n",
              "      <td>97.000000</td>\n",
              "    </tr>\n",
              "  </tbody>\n",
              "</table>\n",
              "</div>\n",
              "      <button class=\"colab-df-convert\" onclick=\"convertToInteractive('df-4de19965-20a0-4cb0-a28c-18da792fbf68')\"\n",
              "              title=\"Convert this dataframe to an interactive table.\"\n",
              "              style=\"display:none;\">\n",
              "        \n",
              "  <svg xmlns=\"http://www.w3.org/2000/svg\" height=\"24px\"viewBox=\"0 0 24 24\"\n",
              "       width=\"24px\">\n",
              "    <path d=\"M0 0h24v24H0V0z\" fill=\"none\"/>\n",
              "    <path d=\"M18.56 5.44l.94 2.06.94-2.06 2.06-.94-2.06-.94-.94-2.06-.94 2.06-2.06.94zm-11 1L8.5 8.5l.94-2.06 2.06-.94-2.06-.94L8.5 2.5l-.94 2.06-2.06.94zm10 10l.94 2.06.94-2.06 2.06-.94-2.06-.94-.94-2.06-.94 2.06-2.06.94z\"/><path d=\"M17.41 7.96l-1.37-1.37c-.4-.4-.92-.59-1.43-.59-.52 0-1.04.2-1.43.59L10.3 9.45l-7.72 7.72c-.78.78-.78 2.05 0 2.83L4 21.41c.39.39.9.59 1.41.59.51 0 1.02-.2 1.41-.59l7.78-7.78 2.81-2.81c.8-.78.8-2.07 0-2.86zM5.41 20L4 18.59l7.72-7.72 1.47 1.35L5.41 20z\"/>\n",
              "  </svg>\n",
              "      </button>\n",
              "      \n",
              "  <style>\n",
              "    .colab-df-container {\n",
              "      display:flex;\n",
              "      flex-wrap:wrap;\n",
              "      gap: 12px;\n",
              "    }\n",
              "\n",
              "    .colab-df-convert {\n",
              "      background-color: #E8F0FE;\n",
              "      border: none;\n",
              "      border-radius: 50%;\n",
              "      cursor: pointer;\n",
              "      display: none;\n",
              "      fill: #1967D2;\n",
              "      height: 32px;\n",
              "      padding: 0 0 0 0;\n",
              "      width: 32px;\n",
              "    }\n",
              "\n",
              "    .colab-df-convert:hover {\n",
              "      background-color: #E2EBFA;\n",
              "      box-shadow: 0px 1px 2px rgba(60, 64, 67, 0.3), 0px 1px 3px 1px rgba(60, 64, 67, 0.15);\n",
              "      fill: #174EA6;\n",
              "    }\n",
              "\n",
              "    [theme=dark] .colab-df-convert {\n",
              "      background-color: #3B4455;\n",
              "      fill: #D2E3FC;\n",
              "    }\n",
              "\n",
              "    [theme=dark] .colab-df-convert:hover {\n",
              "      background-color: #434B5C;\n",
              "      box-shadow: 0px 1px 3px 1px rgba(0, 0, 0, 0.15);\n",
              "      filter: drop-shadow(0px 1px 2px rgba(0, 0, 0, 0.3));\n",
              "      fill: #FFFFFF;\n",
              "    }\n",
              "  </style>\n",
              "\n",
              "      <script>\n",
              "        const buttonEl =\n",
              "          document.querySelector('#df-4de19965-20a0-4cb0-a28c-18da792fbf68 button.colab-df-convert');\n",
              "        buttonEl.style.display =\n",
              "          google.colab.kernel.accessAllowed ? 'block' : 'none';\n",
              "\n",
              "        async function convertToInteractive(key) {\n",
              "          const element = document.querySelector('#df-4de19965-20a0-4cb0-a28c-18da792fbf68');\n",
              "          const dataTable =\n",
              "            await google.colab.kernel.invokeFunction('convertToInteractive',\n",
              "                                                     [key], {});\n",
              "          if (!dataTable) return;\n",
              "\n",
              "          const docLinkHtml = 'Like what you see? Visit the ' +\n",
              "            '<a target=\"_blank\" href=https://colab.research.google.com/notebooks/data_table.ipynb>data table notebook</a>'\n",
              "            + ' to learn more about interactive tables.';\n",
              "          element.innerHTML = '';\n",
              "          dataTable['output_type'] = 'display_data';\n",
              "          await google.colab.output.renderOutput(dataTable, element);\n",
              "          const docLink = document.createElement('div');\n",
              "          docLink.innerHTML = docLinkHtml;\n",
              "          element.appendChild(docLink);\n",
              "        }\n",
              "      </script>\n",
              "    </div>\n",
              "  </div>\n",
              "  "
            ],
            "text/plain": [
              "        Metacritic\n",
              "count  3355.000000\n",
              "mean     72.922802\n",
              "std      10.806216\n",
              "min      20.000000\n",
              "25%      67.000000\n",
              "50%      74.000000\n",
              "75%      80.000000\n",
              "max      97.000000"
            ]
          },
          "execution_count": 64,
          "metadata": {},
          "output_type": "execute_result"
        }
      ],
      "source": [
        "data[['Metacritic']].describe()"
      ]
    },
    {
      "cell_type": "code",
      "execution_count": null,
      "metadata": {
        "colab": {
          "base_uri": "https://localhost:8080/"
        },
        "id": "hW0vo6Bstg_-",
        "outputId": "b98011e0-c214-448e-b245-4d8e80fb72fa"
      },
      "outputs": [
        {
          "data": {
            "text/plain": [
              "('Metacritic', 'mean', 26746, 72.92280178837557, 72.92280178837557)"
            ]
          },
          "execution_count": 65,
          "metadata": {},
          "output_type": "execute_result"
        }
      ],
      "source": [
        "test_num_impute_col(data, 'Metacritic', strategies[0])"
      ]
    },
    {
      "cell_type": "code",
      "execution_count": null,
      "metadata": {
        "colab": {
          "base_uri": "https://localhost:8080/"
        },
        "id": "uUAJb_CDtg_-",
        "outputId": "9aa1d7ed-f9f0-42c3-b40d-9935dab68c40"
      },
      "outputs": [
        {
          "data": {
            "text/plain": [
              "('Metacritic', 'median', 26746, 74.0, 74.0)"
            ]
          },
          "execution_count": 66,
          "metadata": {},
          "output_type": "execute_result"
        }
      ],
      "source": [
        "test_num_impute_col(data, 'Metacritic', strategies[1])"
      ]
    },
    {
      "cell_type": "code",
      "execution_count": null,
      "metadata": {
        "colab": {
          "base_uri": "https://localhost:8080/"
        },
        "id": "xl1QcaFXtg_-",
        "outputId": "98375c4c-f010-43e7-a802-ba30f4f6216a"
      },
      "outputs": [
        {
          "data": {
            "text/plain": [
              "('Metacritic', 'most_frequent', 26746, 80.0, 80.0)"
            ]
          },
          "execution_count": 67,
          "metadata": {},
          "output_type": "execute_result"
        }
      ],
      "source": [
        "test_num_impute_col(data, 'Metacritic', strategies[2])"
      ]
    },
    {
      "cell_type": "markdown",
      "metadata": {
        "id": "xCxAKlowtg__"
      },
      "source": [
        "### Обработка пропусков в категориальных данных"
      ]
    },
    {
      "cell_type": "code",
      "execution_count": null,
      "metadata": {
        "colab": {
          "base_uri": "https://localhost:8080/"
        },
        "id": "ThwqMNYktg__",
        "outputId": "af2a5970-1c4f-4b84-9361-f201de5649e5"
      },
      "outputs": [
        {
          "name": "stdout",
          "output_type": "stream",
          "text": [
            "Колонка Genres. Тип данных object. Количество пустых значений 2907, 9.61%.\n",
            "Колонка Platform. Тип данных object. Количество пустых значений 33, 0.11%.\n",
            "Колонка Graphics. Тип данных object. Количество пустых значений 4250, 14.05%.\n",
            "Колонка Storage. Тип данных object. Количество пустых значений 2697, 8.92%.\n",
            "Колонка Memory. Тип данных object. Количество пустых значений 1872, 6.19%.\n",
            "Колонка RatingsBreakdown. Тип данных object. Количество пустых значений 15112, 49.96%.\n",
            "Колонка ReleaseDate. Тип данных object. Количество пустых значений 3132, 10.35%.\n",
            "Колонка Franchise. Тип данных object. Количество пустых значений 25024, 82.72%.\n",
            "Колонка OriginalCost. Тип данных object. Количество пустых значений 688, 2.27%.\n",
            "Колонка DiscountedCost. Тип данных object. Количество пустых значений 29374, 97.1%.\n",
            "Колонка Players. Тип данных object. Количество пустых значений 17813, 58.89%.\n",
            "Колонка Languages. Тип данных object. Количество пустых значений 168, 0.56%.\n",
            "Колонка ESRB. Тип данных object. Количество пустых значений 25355, 83.82%.\n",
            "Колонка Description. Тип данных object. Количество пустых значений 125, 0.41%.\n",
            "Колонка Tags. Тип данных object. Количество пустых значений 176, 0.58%.\n"
          ]
        }
      ],
      "source": [
        "# Выберем категориальные колонки с пропущенными значениями\n",
        "# Цикл по колонкам датасета\n",
        "cat_cols = []\n",
        "for col in data.columns:\n",
        "    # Количество пустых значений\n",
        "    temp_null_count = data[data[col].isnull()].shape[0]\n",
        "    dt = str(data[col].dtype)\n",
        "    if temp_null_count>0 and (dt=='object'):\n",
        "        cat_cols.append(col)\n",
        "        temp_perc = round((temp_null_count / total_count) * 100.0, 2)\n",
        "        print('Колонка {}. Тип данных {}. Количество пустых значений {}, {}%.'.format(col, dt, temp_null_count, temp_perc))"
      ]
    },
    {
      "cell_type": "markdown",
      "metadata": {
        "id": "x_CV0Kxttg__"
      },
      "source": [
        "- Колонки, содержащие менее 5% пропусков выбираем для построения модели.\n",
        "- Колонки, содержащие менее 30% пропусков также выбираем для построения модели.\n",
        "- Колонки RatingsBreakdown (49.96%) и Players (59.07%) не выбираем для построения модели, в случае отсутствия необходимости в этих колонках.\n",
        "- Колонки Franchise (82.91%), DiscountedCost (97.29%) и ESRB (84.0%) не выбираем для построения модели в любом случае."
      ]
    },
    {
      "cell_type": "code",
      "execution_count": null,
      "metadata": {
        "colab": {
          "base_uri": "https://localhost:8080/",
          "height": 206
        },
        "id": "42wniA1Ttg__",
        "outputId": "6036dd38-00eb-43ba-a512-1a889db39faf"
      },
      "outputs": [
        {
          "data": {
            "text/html": [
              "\n",
              "  <div id=\"df-c3012a5b-2cb2-4ba3-8381-f304c2179ed1\">\n",
              "    <div class=\"colab-df-container\">\n",
              "      <div>\n",
              "<style scoped>\n",
              "    .dataframe tbody tr th:only-of-type {\n",
              "        vertical-align: middle;\n",
              "    }\n",
              "\n",
              "    .dataframe tbody tr th {\n",
              "        vertical-align: top;\n",
              "    }\n",
              "\n",
              "    .dataframe thead th {\n",
              "        text-align: right;\n",
              "    }\n",
              "</style>\n",
              "<table border=\"1\" class=\"dataframe\">\n",
              "  <thead>\n",
              "    <tr style=\"text-align: right;\">\n",
              "      <th></th>\n",
              "      <th>Genres</th>\n",
              "    </tr>\n",
              "  </thead>\n",
              "  <tbody>\n",
              "    <tr>\n",
              "      <th>0</th>\n",
              "      <td>Action, Free to Play</td>\n",
              "    </tr>\n",
              "    <tr>\n",
              "      <th>1</th>\n",
              "      <td>Action, Adventure, Free to Play</td>\n",
              "    </tr>\n",
              "    <tr>\n",
              "      <th>2</th>\n",
              "      <td>NaN</td>\n",
              "    </tr>\n",
              "    <tr>\n",
              "      <th>3</th>\n",
              "      <td>Massively Multiplayer, RPG</td>\n",
              "    </tr>\n",
              "    <tr>\n",
              "      <th>4</th>\n",
              "      <td>Action, Adventure</td>\n",
              "    </tr>\n",
              "  </tbody>\n",
              "</table>\n",
              "</div>\n",
              "      <button class=\"colab-df-convert\" onclick=\"convertToInteractive('df-c3012a5b-2cb2-4ba3-8381-f304c2179ed1')\"\n",
              "              title=\"Convert this dataframe to an interactive table.\"\n",
              "              style=\"display:none;\">\n",
              "        \n",
              "  <svg xmlns=\"http://www.w3.org/2000/svg\" height=\"24px\"viewBox=\"0 0 24 24\"\n",
              "       width=\"24px\">\n",
              "    <path d=\"M0 0h24v24H0V0z\" fill=\"none\"/>\n",
              "    <path d=\"M18.56 5.44l.94 2.06.94-2.06 2.06-.94-2.06-.94-.94-2.06-.94 2.06-2.06.94zm-11 1L8.5 8.5l.94-2.06 2.06-.94-2.06-.94L8.5 2.5l-.94 2.06-2.06.94zm10 10l.94 2.06.94-2.06 2.06-.94-2.06-.94-.94-2.06-.94 2.06-2.06.94z\"/><path d=\"M17.41 7.96l-1.37-1.37c-.4-.4-.92-.59-1.43-.59-.52 0-1.04.2-1.43.59L10.3 9.45l-7.72 7.72c-.78.78-.78 2.05 0 2.83L4 21.41c.39.39.9.59 1.41.59.51 0 1.02-.2 1.41-.59l7.78-7.78 2.81-2.81c.8-.78.8-2.07 0-2.86zM5.41 20L4 18.59l7.72-7.72 1.47 1.35L5.41 20z\"/>\n",
              "  </svg>\n",
              "      </button>\n",
              "      \n",
              "  <style>\n",
              "    .colab-df-container {\n",
              "      display:flex;\n",
              "      flex-wrap:wrap;\n",
              "      gap: 12px;\n",
              "    }\n",
              "\n",
              "    .colab-df-convert {\n",
              "      background-color: #E8F0FE;\n",
              "      border: none;\n",
              "      border-radius: 50%;\n",
              "      cursor: pointer;\n",
              "      display: none;\n",
              "      fill: #1967D2;\n",
              "      height: 32px;\n",
              "      padding: 0 0 0 0;\n",
              "      width: 32px;\n",
              "    }\n",
              "\n",
              "    .colab-df-convert:hover {\n",
              "      background-color: #E2EBFA;\n",
              "      box-shadow: 0px 1px 2px rgba(60, 64, 67, 0.3), 0px 1px 3px 1px rgba(60, 64, 67, 0.15);\n",
              "      fill: #174EA6;\n",
              "    }\n",
              "\n",
              "    [theme=dark] .colab-df-convert {\n",
              "      background-color: #3B4455;\n",
              "      fill: #D2E3FC;\n",
              "    }\n",
              "\n",
              "    [theme=dark] .colab-df-convert:hover {\n",
              "      background-color: #434B5C;\n",
              "      box-shadow: 0px 1px 3px 1px rgba(0, 0, 0, 0.15);\n",
              "      filter: drop-shadow(0px 1px 2px rgba(0, 0, 0, 0.3));\n",
              "      fill: #FFFFFF;\n",
              "    }\n",
              "  </style>\n",
              "\n",
              "      <script>\n",
              "        const buttonEl =\n",
              "          document.querySelector('#df-c3012a5b-2cb2-4ba3-8381-f304c2179ed1 button.colab-df-convert');\n",
              "        buttonEl.style.display =\n",
              "          google.colab.kernel.accessAllowed ? 'block' : 'none';\n",
              "\n",
              "        async function convertToInteractive(key) {\n",
              "          const element = document.querySelector('#df-c3012a5b-2cb2-4ba3-8381-f304c2179ed1');\n",
              "          const dataTable =\n",
              "            await google.colab.kernel.invokeFunction('convertToInteractive',\n",
              "                                                     [key], {});\n",
              "          if (!dataTable) return;\n",
              "\n",
              "          const docLinkHtml = 'Like what you see? Visit the ' +\n",
              "            '<a target=\"_blank\" href=https://colab.research.google.com/notebooks/data_table.ipynb>data table notebook</a>'\n",
              "            + ' to learn more about interactive tables.';\n",
              "          element.innerHTML = '';\n",
              "          dataTable['output_type'] = 'display_data';\n",
              "          await google.colab.output.renderOutput(dataTable, element);\n",
              "          const docLink = document.createElement('div');\n",
              "          docLink.innerHTML = docLinkHtml;\n",
              "          element.appendChild(docLink);\n",
              "        }\n",
              "      </script>\n",
              "    </div>\n",
              "  </div>\n",
              "  "
            ],
            "text/plain": [
              "                            Genres\n",
              "0             Action, Free to Play\n",
              "1  Action, Adventure, Free to Play\n",
              "2                              NaN\n",
              "3       Massively Multiplayer, RPG\n",
              "4                Action, Adventure"
            ]
          },
          "execution_count": 69,
          "metadata": {},
          "output_type": "execute_result"
        }
      ],
      "source": [
        "cat_temp_data = data[['Genres']]\n",
        "cat_temp_data.head()"
      ]
    },
    {
      "cell_type": "code",
      "execution_count": null,
      "metadata": {
        "colab": {
          "base_uri": "https://localhost:8080/"
        },
        "id": "d7Sr9PPntg__",
        "outputId": "e93dfa5d-b0e6-4e46-d342-86597a972b22"
      },
      "outputs": [
        {
          "data": {
            "text/plain": [
              "array(['Action, Free to Play', 'Action, Adventure, Free to Play', nan,\n",
              "       ..., 'Casual, Indie, Massively Multiplayer, RPG, Early Access',\n",
              "       'Action, Adventure, Casual, Racing, Simulation, Strategy',\n",
              "       'Action, Adventure, Casual, Sports, Strategy'], dtype=object)"
            ]
          },
          "execution_count": 70,
          "metadata": {},
          "output_type": "execute_result"
        }
      ],
      "source": [
        "cat_temp_data['Genres'].unique()"
      ]
    },
    {
      "cell_type": "code",
      "execution_count": null,
      "metadata": {
        "colab": {
          "base_uri": "https://localhost:8080/"
        },
        "id": "-q4jdcehthAA",
        "outputId": "b8811d93-0550-4e52-a83a-ee3f3291d9d8"
      },
      "outputs": [
        {
          "data": {
            "text/plain": [
              "(2907, 1)"
            ]
          },
          "execution_count": 71,
          "metadata": {},
          "output_type": "execute_result"
        }
      ],
      "source": [
        "cat_temp_data[cat_temp_data['Genres'].isnull()].shape"
      ]
    },
    {
      "cell_type": "code",
      "execution_count": null,
      "metadata": {
        "colab": {
          "base_uri": "https://localhost:8080/"
        },
        "id": "BkSwL8IjthAA",
        "outputId": "f8cf1754-2282-41ae-89ef-ebce50c7279f"
      },
      "outputs": [
        {
          "data": {
            "text/plain": [
              "array([['Action, Free to Play'],\n",
              "       ['Action, Adventure, Free to Play'],\n",
              "       ['Action, Indie'],\n",
              "       ...,\n",
              "       ['Casual'],\n",
              "       ['Action, Adventure, Casual, Indie'],\n",
              "       ['Action, Indie']], dtype=object)"
            ]
          },
          "execution_count": 72,
          "metadata": {},
          "output_type": "execute_result"
        }
      ],
      "source": [
        "# Импьютация наиболее частыми значениями\n",
        "imp2 = SimpleImputer(missing_values=np.nan, strategy='most_frequent')\n",
        "data_imp2 = imp2.fit_transform(cat_temp_data)\n",
        "data_imp2"
      ]
    },
    {
      "cell_type": "code",
      "execution_count": null,
      "metadata": {
        "colab": {
          "base_uri": "https://localhost:8080/"
        },
        "id": "UWZK8DRHthAA",
        "outputId": "106765d6-2966-4981-a22d-5aec212d1a64"
      },
      "outputs": [
        {
          "data": {
            "text/plain": [
              "array(['Action', 'Action, Adventure', 'Action, Adventure, Casual', ...,\n",
              "       'Strategy, Indie, Casual, Simulation', 'Strategy, RPG, Indie',\n",
              "       'Strategy, Simulation'], dtype=object)"
            ]
          },
          "execution_count": 73,
          "metadata": {},
          "output_type": "execute_result"
        }
      ],
      "source": [
        "# Пустые значения отсутствуют\n",
        "np.unique(data_imp2)"
      ]
    },
    {
      "cell_type": "code",
      "execution_count": null,
      "metadata": {
        "colab": {
          "base_uri": "https://localhost:8080/"
        },
        "id": "HwueN8rvthAA",
        "outputId": "7334f839-aefc-403e-a698-3e4507930e25"
      },
      "outputs": [
        {
          "data": {
            "text/plain": [
              "array([['Action, Free to Play'],\n",
              "       ['Action, Adventure, Free to Play'],\n",
              "       ['NA'],\n",
              "       ...,\n",
              "       ['Casual'],\n",
              "       ['Action, Adventure, Casual, Indie'],\n",
              "       ['NA']], dtype=object)"
            ]
          },
          "execution_count": 74,
          "metadata": {},
          "output_type": "execute_result"
        }
      ],
      "source": [
        "# Импьютация константой\n",
        "imp3 = SimpleImputer(missing_values=np.nan, strategy='constant', fill_value='NA')\n",
        "data_imp3 = imp3.fit_transform(cat_temp_data)\n",
        "data_imp3"
      ]
    },
    {
      "cell_type": "code",
      "execution_count": null,
      "metadata": {
        "colab": {
          "base_uri": "https://localhost:8080/"
        },
        "id": "GYVWZnaYthAB",
        "outputId": "906c120f-ffda-4552-e828-555c9073eba0"
      },
      "outputs": [
        {
          "data": {
            "text/plain": [
              "array(['Action', 'Action, Adventure', 'Action, Adventure, Casual', ...,\n",
              "       'Strategy, Indie, Casual, Simulation', 'Strategy, RPG, Indie',\n",
              "       'Strategy, Simulation'], dtype=object)"
            ]
          },
          "execution_count": 75,
          "metadata": {},
          "output_type": "execute_result"
        }
      ],
      "source": [
        "np.unique(data_imp3)"
      ]
    },
    {
      "cell_type": "code",
      "execution_count": null,
      "metadata": {
        "colab": {
          "base_uri": "https://localhost:8080/"
        },
        "id": "cter-DFzthAB",
        "outputId": "b0412245-7a56-4df6-e108-55bd0dc02e4f"
      },
      "outputs": [
        {
          "data": {
            "text/plain": [
              "2907"
            ]
          },
          "execution_count": 76,
          "metadata": {},
          "output_type": "execute_result"
        }
      ],
      "source": [
        "data_imp3[data_imp3=='NA'].size"
      ]
    },
    {
      "cell_type": "markdown",
      "metadata": {
        "id": "fYAcy6fkthAB"
      },
      "source": [
        "Таким образом, в колонку Genres вставлено 2962 \"NA\", вместо пропущенных значений."
      ]
    },
    {
      "cell_type": "markdown",
      "metadata": {
        "id": "SQrz-XKGthAB"
      },
      "source": [
        "# Преобразование категориальных признаков в числовые"
      ]
    },
    {
      "cell_type": "code",
      "execution_count": null,
      "metadata": {
        "colab": {
          "base_uri": "https://localhost:8080/",
          "height": 424
        },
        "id": "vpfSahhzthAB",
        "outputId": "29992559-9576-473d-8b90-53584ab7b3c9"
      },
      "outputs": [
        {
          "data": {
            "text/html": [
              "\n",
              "  <div id=\"df-2422a8c4-3479-4d8b-bc75-88371f3a76b5\">\n",
              "    <div class=\"colab-df-container\">\n",
              "      <div>\n",
              "<style scoped>\n",
              "    .dataframe tbody tr th:only-of-type {\n",
              "        vertical-align: middle;\n",
              "    }\n",
              "\n",
              "    .dataframe tbody tr th {\n",
              "        vertical-align: top;\n",
              "    }\n",
              "\n",
              "    .dataframe thead th {\n",
              "        text-align: right;\n",
              "    }\n",
              "</style>\n",
              "<table border=\"1\" class=\"dataframe\">\n",
              "  <thead>\n",
              "    <tr style=\"text-align: right;\">\n",
              "      <th></th>\n",
              "      <th>c1</th>\n",
              "    </tr>\n",
              "  </thead>\n",
              "  <tbody>\n",
              "    <tr>\n",
              "      <th>0</th>\n",
              "      <td>Action, Free to Play</td>\n",
              "    </tr>\n",
              "    <tr>\n",
              "      <th>1</th>\n",
              "      <td>Action, Adventure, Free to Play</td>\n",
              "    </tr>\n",
              "    <tr>\n",
              "      <th>2</th>\n",
              "      <td>Action, Indie</td>\n",
              "    </tr>\n",
              "    <tr>\n",
              "      <th>3</th>\n",
              "      <td>Massively Multiplayer, RPG</td>\n",
              "    </tr>\n",
              "    <tr>\n",
              "      <th>4</th>\n",
              "      <td>Action, Adventure</td>\n",
              "    </tr>\n",
              "    <tr>\n",
              "      <th>...</th>\n",
              "      <td>...</td>\n",
              "    </tr>\n",
              "    <tr>\n",
              "      <th>30096</th>\n",
              "      <td>Casual, Indie</td>\n",
              "    </tr>\n",
              "    <tr>\n",
              "      <th>30097</th>\n",
              "      <td>Indie</td>\n",
              "    </tr>\n",
              "    <tr>\n",
              "      <th>30098</th>\n",
              "      <td>Casual</td>\n",
              "    </tr>\n",
              "    <tr>\n",
              "      <th>30099</th>\n",
              "      <td>Action, Adventure, Casual, Indie</td>\n",
              "    </tr>\n",
              "    <tr>\n",
              "      <th>30100</th>\n",
              "      <td>Action, Indie</td>\n",
              "    </tr>\n",
              "  </tbody>\n",
              "</table>\n",
              "<p>30101 rows × 1 columns</p>\n",
              "</div>\n",
              "      <button class=\"colab-df-convert\" onclick=\"convertToInteractive('df-2422a8c4-3479-4d8b-bc75-88371f3a76b5')\"\n",
              "              title=\"Convert this dataframe to an interactive table.\"\n",
              "              style=\"display:none;\">\n",
              "        \n",
              "  <svg xmlns=\"http://www.w3.org/2000/svg\" height=\"24px\"viewBox=\"0 0 24 24\"\n",
              "       width=\"24px\">\n",
              "    <path d=\"M0 0h24v24H0V0z\" fill=\"none\"/>\n",
              "    <path d=\"M18.56 5.44l.94 2.06.94-2.06 2.06-.94-2.06-.94-.94-2.06-.94 2.06-2.06.94zm-11 1L8.5 8.5l.94-2.06 2.06-.94-2.06-.94L8.5 2.5l-.94 2.06-2.06.94zm10 10l.94 2.06.94-2.06 2.06-.94-2.06-.94-.94-2.06-.94 2.06-2.06.94z\"/><path d=\"M17.41 7.96l-1.37-1.37c-.4-.4-.92-.59-1.43-.59-.52 0-1.04.2-1.43.59L10.3 9.45l-7.72 7.72c-.78.78-.78 2.05 0 2.83L4 21.41c.39.39.9.59 1.41.59.51 0 1.02-.2 1.41-.59l7.78-7.78 2.81-2.81c.8-.78.8-2.07 0-2.86zM5.41 20L4 18.59l7.72-7.72 1.47 1.35L5.41 20z\"/>\n",
              "  </svg>\n",
              "      </button>\n",
              "      \n",
              "  <style>\n",
              "    .colab-df-container {\n",
              "      display:flex;\n",
              "      flex-wrap:wrap;\n",
              "      gap: 12px;\n",
              "    }\n",
              "\n",
              "    .colab-df-convert {\n",
              "      background-color: #E8F0FE;\n",
              "      border: none;\n",
              "      border-radius: 50%;\n",
              "      cursor: pointer;\n",
              "      display: none;\n",
              "      fill: #1967D2;\n",
              "      height: 32px;\n",
              "      padding: 0 0 0 0;\n",
              "      width: 32px;\n",
              "    }\n",
              "\n",
              "    .colab-df-convert:hover {\n",
              "      background-color: #E2EBFA;\n",
              "      box-shadow: 0px 1px 2px rgba(60, 64, 67, 0.3), 0px 1px 3px 1px rgba(60, 64, 67, 0.15);\n",
              "      fill: #174EA6;\n",
              "    }\n",
              "\n",
              "    [theme=dark] .colab-df-convert {\n",
              "      background-color: #3B4455;\n",
              "      fill: #D2E3FC;\n",
              "    }\n",
              "\n",
              "    [theme=dark] .colab-df-convert:hover {\n",
              "      background-color: #434B5C;\n",
              "      box-shadow: 0px 1px 3px 1px rgba(0, 0, 0, 0.15);\n",
              "      filter: drop-shadow(0px 1px 2px rgba(0, 0, 0, 0.3));\n",
              "      fill: #FFFFFF;\n",
              "    }\n",
              "  </style>\n",
              "\n",
              "      <script>\n",
              "        const buttonEl =\n",
              "          document.querySelector('#df-2422a8c4-3479-4d8b-bc75-88371f3a76b5 button.colab-df-convert');\n",
              "        buttonEl.style.display =\n",
              "          google.colab.kernel.accessAllowed ? 'block' : 'none';\n",
              "\n",
              "        async function convertToInteractive(key) {\n",
              "          const element = document.querySelector('#df-2422a8c4-3479-4d8b-bc75-88371f3a76b5');\n",
              "          const dataTable =\n",
              "            await google.colab.kernel.invokeFunction('convertToInteractive',\n",
              "                                                     [key], {});\n",
              "          if (!dataTable) return;\n",
              "\n",
              "          const docLinkHtml = 'Like what you see? Visit the ' +\n",
              "            '<a target=\"_blank\" href=https://colab.research.google.com/notebooks/data_table.ipynb>data table notebook</a>'\n",
              "            + ' to learn more about interactive tables.';\n",
              "          element.innerHTML = '';\n",
              "          dataTable['output_type'] = 'display_data';\n",
              "          await google.colab.output.renderOutput(dataTable, element);\n",
              "          const docLink = document.createElement('div');\n",
              "          docLink.innerHTML = docLinkHtml;\n",
              "          element.appendChild(docLink);\n",
              "        }\n",
              "      </script>\n",
              "    </div>\n",
              "  </div>\n",
              "  "
            ],
            "text/plain": [
              "                                     c1\n",
              "0                  Action, Free to Play\n",
              "1       Action, Adventure, Free to Play\n",
              "2                         Action, Indie\n",
              "3            Massively Multiplayer, RPG\n",
              "4                     Action, Adventure\n",
              "...                                 ...\n",
              "30096                     Casual, Indie\n",
              "30097                             Indie\n",
              "30098                            Casual\n",
              "30099  Action, Adventure, Casual, Indie\n",
              "30100                     Action, Indie\n",
              "\n",
              "[30101 rows x 1 columns]"
            ]
          },
          "execution_count": 77,
          "metadata": {},
          "output_type": "execute_result"
        }
      ],
      "source": [
        "cat_enc = pd.DataFrame({'c1':data_imp2.T[0]})\n",
        "cat_enc"
      ]
    },
    {
      "cell_type": "markdown",
      "metadata": {
        "id": "lxuOu7WbthAB"
      },
      "source": [
        "## Кодирование категорий целочисленными значениями - [label encoding](https://scikit-learn.org/stable/modules/generated/sklearn.preprocessing.LabelEncoder.html)"
      ]
    },
    {
      "cell_type": "code",
      "execution_count": null,
      "metadata": {
        "id": "4J3Gssz4thAC"
      },
      "outputs": [],
      "source": [
        "from sklearn.preprocessing import LabelEncoder, OneHotEncoder"
      ]
    },
    {
      "cell_type": "code",
      "execution_count": null,
      "metadata": {
        "id": "NRfCNcx7thAC"
      },
      "outputs": [],
      "source": [
        "le = LabelEncoder()\n",
        "cat_enc_le = le.fit_transform(cat_enc['c1'])"
      ]
    },
    {
      "cell_type": "code",
      "execution_count": null,
      "metadata": {
        "colab": {
          "base_uri": "https://localhost:8080/"
        },
        "id": "dDfSexafthAC",
        "outputId": "a98b8dba-e3a6-41f0-8242-3f415077fc7e"
      },
      "outputs": [
        {
          "data": {
            "text/plain": [
              "array(['Action, Free to Play', 'Action, Adventure, Free to Play',\n",
              "       'Action, Indie', ...,\n",
              "       'Casual, Indie, Massively Multiplayer, RPG, Early Access',\n",
              "       'Action, Adventure, Casual, Racing, Simulation, Strategy',\n",
              "       'Action, Adventure, Casual, Sports, Strategy'], dtype=object)"
            ]
          },
          "execution_count": 80,
          "metadata": {},
          "output_type": "execute_result"
        }
      ],
      "source": [
        "cat_enc['c1'].unique()"
      ]
    },
    {
      "cell_type": "code",
      "execution_count": null,
      "metadata": {
        "colab": {
          "base_uri": "https://localhost:8080/"
        },
        "id": "u1RkhNzPthAC",
        "outputId": "cb9aea27-2bb5-49a6-818c-1a51a5434d2f"
      },
      "outputs": [
        {
          "data": {
            "text/plain": [
              "array([   0,    1,    2, ..., 1003, 1004, 1005])"
            ]
          },
          "execution_count": 81,
          "metadata": {},
          "output_type": "execute_result"
        }
      ],
      "source": [
        "np.unique(cat_enc_le)"
      ]
    },
    {
      "cell_type": "markdown",
      "metadata": {
        "id": "qEeob5OcthAC"
      },
      "source": [
        "## Кодирование категорий наборами бинарных значений - [one-hot encoding](https://scikit-learn.org/stable/modules/generated/sklearn.preprocessing.OneHotEncoder.html)"
      ]
    },
    {
      "cell_type": "code",
      "execution_count": null,
      "metadata": {
        "id": "MDj2rn15thAD"
      },
      "outputs": [],
      "source": [
        "ohe = OneHotEncoder()\n",
        "cat_enc_ohe = ohe.fit_transform(cat_enc[['c1']])"
      ]
    },
    {
      "cell_type": "code",
      "execution_count": null,
      "metadata": {
        "colab": {
          "base_uri": "https://localhost:8080/"
        },
        "id": "Ymfr4L3LthAD",
        "outputId": "d6b9bb2c-b095-4b47-d95f-fa34e6f00527"
      },
      "outputs": [
        {
          "data": {
            "text/plain": [
              "(30101, 1)"
            ]
          },
          "execution_count": 83,
          "metadata": {},
          "output_type": "execute_result"
        }
      ],
      "source": [
        "cat_enc.shape"
      ]
    },
    {
      "cell_type": "code",
      "execution_count": null,
      "metadata": {
        "colab": {
          "base_uri": "https://localhost:8080/"
        },
        "id": "h16cfZCathAD",
        "outputId": "f24c5e7a-becf-4b00-8457-034e6d6616b6"
      },
      "outputs": [
        {
          "data": {
            "text/plain": [
              "(30101, 1006)"
            ]
          },
          "execution_count": 84,
          "metadata": {},
          "output_type": "execute_result"
        }
      ],
      "source": [
        "cat_enc_ohe.shape"
      ]
    },
    {
      "cell_type": "code",
      "execution_count": null,
      "metadata": {
        "colab": {
          "base_uri": "https://localhost:8080/"
        },
        "id": "aMYeuBc7thAD",
        "outputId": "3e393545-e744-4771-fec2-a04a680fa041"
      },
      "outputs": [
        {
          "data": {
            "text/plain": [
              "<30101x1006 sparse matrix of type '<class 'numpy.float64'>'\n",
              "\twith 30101 stored elements in Compressed Sparse Row format>"
            ]
          },
          "execution_count": 85,
          "metadata": {},
          "output_type": "execute_result"
        }
      ],
      "source": [
        "cat_enc_ohe"
      ]
    },
    {
      "cell_type": "code",
      "execution_count": null,
      "metadata": {
        "colab": {
          "base_uri": "https://localhost:8080/"
        },
        "id": "iS_f5wqGthAD",
        "outputId": "388ec3b2-a9d2-4acf-bec2-2112d39e88db"
      },
      "outputs": [
        {
          "data": {
            "text/plain": [
              "matrix([[0., 0., 0., ..., 0., 0., 0.],\n",
              "        [0., 0., 0., ..., 0., 0., 0.],\n",
              "        [0., 0., 0., ..., 0., 0., 0.],\n",
              "        ...,\n",
              "        [0., 0., 0., ..., 0., 0., 0.],\n",
              "        [1., 0., 0., ..., 0., 0., 0.],\n",
              "        [0., 0., 0., ..., 0., 0., 0.]])"
            ]
          },
          "execution_count": 86,
          "metadata": {},
          "output_type": "execute_result"
        }
      ],
      "source": [
        "cat_enc_ohe.todense()[0:10]"
      ]
    },
    {
      "cell_type": "code",
      "execution_count": null,
      "metadata": {
        "colab": {
          "base_uri": "https://localhost:8080/",
          "height": 363
        },
        "id": "VBo3GQTTthAE",
        "outputId": "8ce75030-41fb-49bb-8131-373a16ce9d62"
      },
      "outputs": [
        {
          "data": {
            "text/html": [
              "\n",
              "  <div id=\"df-ed081c37-09d8-45a5-a2bb-7824372601be\">\n",
              "    <div class=\"colab-df-container\">\n",
              "      <div>\n",
              "<style scoped>\n",
              "    .dataframe tbody tr th:only-of-type {\n",
              "        vertical-align: middle;\n",
              "    }\n",
              "\n",
              "    .dataframe tbody tr th {\n",
              "        vertical-align: top;\n",
              "    }\n",
              "\n",
              "    .dataframe thead th {\n",
              "        text-align: right;\n",
              "    }\n",
              "</style>\n",
              "<table border=\"1\" class=\"dataframe\">\n",
              "  <thead>\n",
              "    <tr style=\"text-align: right;\">\n",
              "      <th></th>\n",
              "      <th>c1</th>\n",
              "    </tr>\n",
              "  </thead>\n",
              "  <tbody>\n",
              "    <tr>\n",
              "      <th>0</th>\n",
              "      <td>Action, Free to Play</td>\n",
              "    </tr>\n",
              "    <tr>\n",
              "      <th>1</th>\n",
              "      <td>Action, Adventure, Free to Play</td>\n",
              "    </tr>\n",
              "    <tr>\n",
              "      <th>2</th>\n",
              "      <td>Action, Indie</td>\n",
              "    </tr>\n",
              "    <tr>\n",
              "      <th>3</th>\n",
              "      <td>Massively Multiplayer, RPG</td>\n",
              "    </tr>\n",
              "    <tr>\n",
              "      <th>4</th>\n",
              "      <td>Action, Adventure</td>\n",
              "    </tr>\n",
              "    <tr>\n",
              "      <th>5</th>\n",
              "      <td>Adventure, Indie, Simulation, Strategy, Early ...</td>\n",
              "    </tr>\n",
              "    <tr>\n",
              "      <th>6</th>\n",
              "      <td>Action</td>\n",
              "    </tr>\n",
              "    <tr>\n",
              "      <th>7</th>\n",
              "      <td>Action, Indie, Racing, Sports</td>\n",
              "    </tr>\n",
              "    <tr>\n",
              "      <th>8</th>\n",
              "      <td>Action</td>\n",
              "    </tr>\n",
              "    <tr>\n",
              "      <th>9</th>\n",
              "      <td>Action, Adventure, Indie, Massively Multiplaye...</td>\n",
              "    </tr>\n",
              "  </tbody>\n",
              "</table>\n",
              "</div>\n",
              "      <button class=\"colab-df-convert\" onclick=\"convertToInteractive('df-ed081c37-09d8-45a5-a2bb-7824372601be')\"\n",
              "              title=\"Convert this dataframe to an interactive table.\"\n",
              "              style=\"display:none;\">\n",
              "        \n",
              "  <svg xmlns=\"http://www.w3.org/2000/svg\" height=\"24px\"viewBox=\"0 0 24 24\"\n",
              "       width=\"24px\">\n",
              "    <path d=\"M0 0h24v24H0V0z\" fill=\"none\"/>\n",
              "    <path d=\"M18.56 5.44l.94 2.06.94-2.06 2.06-.94-2.06-.94-.94-2.06-.94 2.06-2.06.94zm-11 1L8.5 8.5l.94-2.06 2.06-.94-2.06-.94L8.5 2.5l-.94 2.06-2.06.94zm10 10l.94 2.06.94-2.06 2.06-.94-2.06-.94-.94-2.06-.94 2.06-2.06.94z\"/><path d=\"M17.41 7.96l-1.37-1.37c-.4-.4-.92-.59-1.43-.59-.52 0-1.04.2-1.43.59L10.3 9.45l-7.72 7.72c-.78.78-.78 2.05 0 2.83L4 21.41c.39.39.9.59 1.41.59.51 0 1.02-.2 1.41-.59l7.78-7.78 2.81-2.81c.8-.78.8-2.07 0-2.86zM5.41 20L4 18.59l7.72-7.72 1.47 1.35L5.41 20z\"/>\n",
              "  </svg>\n",
              "      </button>\n",
              "      \n",
              "  <style>\n",
              "    .colab-df-container {\n",
              "      display:flex;\n",
              "      flex-wrap:wrap;\n",
              "      gap: 12px;\n",
              "    }\n",
              "\n",
              "    .colab-df-convert {\n",
              "      background-color: #E8F0FE;\n",
              "      border: none;\n",
              "      border-radius: 50%;\n",
              "      cursor: pointer;\n",
              "      display: none;\n",
              "      fill: #1967D2;\n",
              "      height: 32px;\n",
              "      padding: 0 0 0 0;\n",
              "      width: 32px;\n",
              "    }\n",
              "\n",
              "    .colab-df-convert:hover {\n",
              "      background-color: #E2EBFA;\n",
              "      box-shadow: 0px 1px 2px rgba(60, 64, 67, 0.3), 0px 1px 3px 1px rgba(60, 64, 67, 0.15);\n",
              "      fill: #174EA6;\n",
              "    }\n",
              "\n",
              "    [theme=dark] .colab-df-convert {\n",
              "      background-color: #3B4455;\n",
              "      fill: #D2E3FC;\n",
              "    }\n",
              "\n",
              "    [theme=dark] .colab-df-convert:hover {\n",
              "      background-color: #434B5C;\n",
              "      box-shadow: 0px 1px 3px 1px rgba(0, 0, 0, 0.15);\n",
              "      filter: drop-shadow(0px 1px 2px rgba(0, 0, 0, 0.3));\n",
              "      fill: #FFFFFF;\n",
              "    }\n",
              "  </style>\n",
              "\n",
              "      <script>\n",
              "        const buttonEl =\n",
              "          document.querySelector('#df-ed081c37-09d8-45a5-a2bb-7824372601be button.colab-df-convert');\n",
              "        buttonEl.style.display =\n",
              "          google.colab.kernel.accessAllowed ? 'block' : 'none';\n",
              "\n",
              "        async function convertToInteractive(key) {\n",
              "          const element = document.querySelector('#df-ed081c37-09d8-45a5-a2bb-7824372601be');\n",
              "          const dataTable =\n",
              "            await google.colab.kernel.invokeFunction('convertToInteractive',\n",
              "                                                     [key], {});\n",
              "          if (!dataTable) return;\n",
              "\n",
              "          const docLinkHtml = 'Like what you see? Visit the ' +\n",
              "            '<a target=\"_blank\" href=https://colab.research.google.com/notebooks/data_table.ipynb>data table notebook</a>'\n",
              "            + ' to learn more about interactive tables.';\n",
              "          element.innerHTML = '';\n",
              "          dataTable['output_type'] = 'display_data';\n",
              "          await google.colab.output.renderOutput(dataTable, element);\n",
              "          const docLink = document.createElement('div');\n",
              "          docLink.innerHTML = docLinkHtml;\n",
              "          element.appendChild(docLink);\n",
              "        }\n",
              "      </script>\n",
              "    </div>\n",
              "  </div>\n",
              "  "
            ],
            "text/plain": [
              "                                                  c1\n",
              "0                               Action, Free to Play\n",
              "1                    Action, Adventure, Free to Play\n",
              "2                                      Action, Indie\n",
              "3                         Massively Multiplayer, RPG\n",
              "4                                  Action, Adventure\n",
              "5  Adventure, Indie, Simulation, Strategy, Early ...\n",
              "6                                             Action\n",
              "7                      Action, Indie, Racing, Sports\n",
              "8                                             Action\n",
              "9  Action, Adventure, Indie, Massively Multiplaye..."
            ]
          },
          "execution_count": 87,
          "metadata": {},
          "output_type": "execute_result"
        }
      ],
      "source": [
        "cat_enc.head(10)"
      ]
    },
    {
      "cell_type": "markdown",
      "metadata": {
        "id": "pvgyia1HthAE"
      },
      "source": [
        "## [Pandas get_dummies](https://pandas.pydata.org/pandas-docs/stable/reference/api/pandas.get_dummies.html) - быстрый вариант one-hot кодирования"
      ]
    },
    {
      "cell_type": "code",
      "execution_count": null,
      "metadata": {
        "colab": {
          "base_uri": "https://localhost:8080/",
          "height": 438
        },
        "id": "3ZGZPhzCthAE",
        "outputId": "822a1bf5-ff46-4f8d-c226-e8a2586e321a"
      },
      "outputs": [
        {
          "data": {
            "text/html": [
              "\n",
              "  <div id=\"df-440d1e29-799d-498a-b10e-2218438ac8fb\">\n",
              "    <div class=\"colab-df-container\">\n",
              "      <div>\n",
              "<style scoped>\n",
              "    .dataframe tbody tr th:only-of-type {\n",
              "        vertical-align: middle;\n",
              "    }\n",
              "\n",
              "    .dataframe tbody tr th {\n",
              "        vertical-align: top;\n",
              "    }\n",
              "\n",
              "    .dataframe thead th {\n",
              "        text-align: right;\n",
              "    }\n",
              "</style>\n",
              "<table border=\"1\" class=\"dataframe\">\n",
              "  <thead>\n",
              "    <tr style=\"text-align: right;\">\n",
              "      <th></th>\n",
              "      <th>c1_Action</th>\n",
              "      <th>c1_Action, Adventure</th>\n",
              "      <th>c1_Action, Adventure, Casual</th>\n",
              "      <th>c1_Action, Adventure, Casual, Early Access</th>\n",
              "      <th>c1_Action, Adventure, Casual, Free to Play, Indie</th>\n",
              "      <th>c1_Action, Adventure, Casual, Free to Play, Indie, Early Access</th>\n",
              "      <th>c1_Action, Adventure, Casual, Free to Play, Indie, Massively Multiplayer</th>\n",
              "      <th>c1_Action, Adventure, Casual, Free to Play, Indie, Massively Multiplayer, RPG</th>\n",
              "      <th>c1_Action, Adventure, Casual, Free to Play, Indie, Massively Multiplayer, RPG, Early Access</th>\n",
              "      <th>c1_Action, Adventure, Casual, Free to Play, Indie, Massively Multiplayer, RPG, Simulation</th>\n",
              "      <th>...</th>\n",
              "      <th>c1_Strategy</th>\n",
              "      <th>c1_Strategy, Action</th>\n",
              "      <th>c1_Strategy, Action, Simulation</th>\n",
              "      <th>c1_Strategy, Casual</th>\n",
              "      <th>c1_Strategy, Early Access</th>\n",
              "      <th>c1_Strategy, Indie</th>\n",
              "      <th>c1_Strategy, Indie, Casual</th>\n",
              "      <th>c1_Strategy, Indie, Casual, Simulation</th>\n",
              "      <th>c1_Strategy, RPG, Indie</th>\n",
              "      <th>c1_Strategy, Simulation</th>\n",
              "    </tr>\n",
              "  </thead>\n",
              "  <tbody>\n",
              "    <tr>\n",
              "      <th>0</th>\n",
              "      <td>0</td>\n",
              "      <td>0</td>\n",
              "      <td>0</td>\n",
              "      <td>0</td>\n",
              "      <td>0</td>\n",
              "      <td>0</td>\n",
              "      <td>0</td>\n",
              "      <td>0</td>\n",
              "      <td>0</td>\n",
              "      <td>0</td>\n",
              "      <td>...</td>\n",
              "      <td>0</td>\n",
              "      <td>0</td>\n",
              "      <td>0</td>\n",
              "      <td>0</td>\n",
              "      <td>0</td>\n",
              "      <td>0</td>\n",
              "      <td>0</td>\n",
              "      <td>0</td>\n",
              "      <td>0</td>\n",
              "      <td>0</td>\n",
              "    </tr>\n",
              "    <tr>\n",
              "      <th>1</th>\n",
              "      <td>0</td>\n",
              "      <td>0</td>\n",
              "      <td>0</td>\n",
              "      <td>0</td>\n",
              "      <td>0</td>\n",
              "      <td>0</td>\n",
              "      <td>0</td>\n",
              "      <td>0</td>\n",
              "      <td>0</td>\n",
              "      <td>0</td>\n",
              "      <td>...</td>\n",
              "      <td>0</td>\n",
              "      <td>0</td>\n",
              "      <td>0</td>\n",
              "      <td>0</td>\n",
              "      <td>0</td>\n",
              "      <td>0</td>\n",
              "      <td>0</td>\n",
              "      <td>0</td>\n",
              "      <td>0</td>\n",
              "      <td>0</td>\n",
              "    </tr>\n",
              "    <tr>\n",
              "      <th>2</th>\n",
              "      <td>0</td>\n",
              "      <td>0</td>\n",
              "      <td>0</td>\n",
              "      <td>0</td>\n",
              "      <td>0</td>\n",
              "      <td>0</td>\n",
              "      <td>0</td>\n",
              "      <td>0</td>\n",
              "      <td>0</td>\n",
              "      <td>0</td>\n",
              "      <td>...</td>\n",
              "      <td>0</td>\n",
              "      <td>0</td>\n",
              "      <td>0</td>\n",
              "      <td>0</td>\n",
              "      <td>0</td>\n",
              "      <td>0</td>\n",
              "      <td>0</td>\n",
              "      <td>0</td>\n",
              "      <td>0</td>\n",
              "      <td>0</td>\n",
              "    </tr>\n",
              "    <tr>\n",
              "      <th>3</th>\n",
              "      <td>0</td>\n",
              "      <td>0</td>\n",
              "      <td>0</td>\n",
              "      <td>0</td>\n",
              "      <td>0</td>\n",
              "      <td>0</td>\n",
              "      <td>0</td>\n",
              "      <td>0</td>\n",
              "      <td>0</td>\n",
              "      <td>0</td>\n",
              "      <td>...</td>\n",
              "      <td>0</td>\n",
              "      <td>0</td>\n",
              "      <td>0</td>\n",
              "      <td>0</td>\n",
              "      <td>0</td>\n",
              "      <td>0</td>\n",
              "      <td>0</td>\n",
              "      <td>0</td>\n",
              "      <td>0</td>\n",
              "      <td>0</td>\n",
              "    </tr>\n",
              "    <tr>\n",
              "      <th>4</th>\n",
              "      <td>0</td>\n",
              "      <td>1</td>\n",
              "      <td>0</td>\n",
              "      <td>0</td>\n",
              "      <td>0</td>\n",
              "      <td>0</td>\n",
              "      <td>0</td>\n",
              "      <td>0</td>\n",
              "      <td>0</td>\n",
              "      <td>0</td>\n",
              "      <td>...</td>\n",
              "      <td>0</td>\n",
              "      <td>0</td>\n",
              "      <td>0</td>\n",
              "      <td>0</td>\n",
              "      <td>0</td>\n",
              "      <td>0</td>\n",
              "      <td>0</td>\n",
              "      <td>0</td>\n",
              "      <td>0</td>\n",
              "      <td>0</td>\n",
              "    </tr>\n",
              "  </tbody>\n",
              "</table>\n",
              "<p>5 rows × 1006 columns</p>\n",
              "</div>\n",
              "      <button class=\"colab-df-convert\" onclick=\"convertToInteractive('df-440d1e29-799d-498a-b10e-2218438ac8fb')\"\n",
              "              title=\"Convert this dataframe to an interactive table.\"\n",
              "              style=\"display:none;\">\n",
              "        \n",
              "  <svg xmlns=\"http://www.w3.org/2000/svg\" height=\"24px\"viewBox=\"0 0 24 24\"\n",
              "       width=\"24px\">\n",
              "    <path d=\"M0 0h24v24H0V0z\" fill=\"none\"/>\n",
              "    <path d=\"M18.56 5.44l.94 2.06.94-2.06 2.06-.94-2.06-.94-.94-2.06-.94 2.06-2.06.94zm-11 1L8.5 8.5l.94-2.06 2.06-.94-2.06-.94L8.5 2.5l-.94 2.06-2.06.94zm10 10l.94 2.06.94-2.06 2.06-.94-2.06-.94-.94-2.06-.94 2.06-2.06.94z\"/><path d=\"M17.41 7.96l-1.37-1.37c-.4-.4-.92-.59-1.43-.59-.52 0-1.04.2-1.43.59L10.3 9.45l-7.72 7.72c-.78.78-.78 2.05 0 2.83L4 21.41c.39.39.9.59 1.41.59.51 0 1.02-.2 1.41-.59l7.78-7.78 2.81-2.81c.8-.78.8-2.07 0-2.86zM5.41 20L4 18.59l7.72-7.72 1.47 1.35L5.41 20z\"/>\n",
              "  </svg>\n",
              "      </button>\n",
              "      \n",
              "  <style>\n",
              "    .colab-df-container {\n",
              "      display:flex;\n",
              "      flex-wrap:wrap;\n",
              "      gap: 12px;\n",
              "    }\n",
              "\n",
              "    .colab-df-convert {\n",
              "      background-color: #E8F0FE;\n",
              "      border: none;\n",
              "      border-radius: 50%;\n",
              "      cursor: pointer;\n",
              "      display: none;\n",
              "      fill: #1967D2;\n",
              "      height: 32px;\n",
              "      padding: 0 0 0 0;\n",
              "      width: 32px;\n",
              "    }\n",
              "\n",
              "    .colab-df-convert:hover {\n",
              "      background-color: #E2EBFA;\n",
              "      box-shadow: 0px 1px 2px rgba(60, 64, 67, 0.3), 0px 1px 3px 1px rgba(60, 64, 67, 0.15);\n",
              "      fill: #174EA6;\n",
              "    }\n",
              "\n",
              "    [theme=dark] .colab-df-convert {\n",
              "      background-color: #3B4455;\n",
              "      fill: #D2E3FC;\n",
              "    }\n",
              "\n",
              "    [theme=dark] .colab-df-convert:hover {\n",
              "      background-color: #434B5C;\n",
              "      box-shadow: 0px 1px 3px 1px rgba(0, 0, 0, 0.15);\n",
              "      filter: drop-shadow(0px 1px 2px rgba(0, 0, 0, 0.3));\n",
              "      fill: #FFFFFF;\n",
              "    }\n",
              "  </style>\n",
              "\n",
              "      <script>\n",
              "        const buttonEl =\n",
              "          document.querySelector('#df-440d1e29-799d-498a-b10e-2218438ac8fb button.colab-df-convert');\n",
              "        buttonEl.style.display =\n",
              "          google.colab.kernel.accessAllowed ? 'block' : 'none';\n",
              "\n",
              "        async function convertToInteractive(key) {\n",
              "          const element = document.querySelector('#df-440d1e29-799d-498a-b10e-2218438ac8fb');\n",
              "          const dataTable =\n",
              "            await google.colab.kernel.invokeFunction('convertToInteractive',\n",
              "                                                     [key], {});\n",
              "          if (!dataTable) return;\n",
              "\n",
              "          const docLinkHtml = 'Like what you see? Visit the ' +\n",
              "            '<a target=\"_blank\" href=https://colab.research.google.com/notebooks/data_table.ipynb>data table notebook</a>'\n",
              "            + ' to learn more about interactive tables.';\n",
              "          element.innerHTML = '';\n",
              "          dataTable['output_type'] = 'display_data';\n",
              "          await google.colab.output.renderOutput(dataTable, element);\n",
              "          const docLink = document.createElement('div');\n",
              "          docLink.innerHTML = docLinkHtml;\n",
              "          element.appendChild(docLink);\n",
              "        }\n",
              "      </script>\n",
              "    </div>\n",
              "  </div>\n",
              "  "
            ],
            "text/plain": [
              "   c1_Action  c1_Action, Adventure  c1_Action, Adventure, Casual  \\\n",
              "0          0                     0                             0   \n",
              "1          0                     0                             0   \n",
              "2          0                     0                             0   \n",
              "3          0                     0                             0   \n",
              "4          0                     1                             0   \n",
              "\n",
              "   c1_Action, Adventure, Casual, Early Access  \\\n",
              "0                                           0   \n",
              "1                                           0   \n",
              "2                                           0   \n",
              "3                                           0   \n",
              "4                                           0   \n",
              "\n",
              "   c1_Action, Adventure, Casual, Free to Play, Indie  \\\n",
              "0                                                  0   \n",
              "1                                                  0   \n",
              "2                                                  0   \n",
              "3                                                  0   \n",
              "4                                                  0   \n",
              "\n",
              "   c1_Action, Adventure, Casual, Free to Play, Indie, Early Access  \\\n",
              "0                                                  0                 \n",
              "1                                                  0                 \n",
              "2                                                  0                 \n",
              "3                                                  0                 \n",
              "4                                                  0                 \n",
              "\n",
              "   c1_Action, Adventure, Casual, Free to Play, Indie, Massively Multiplayer  \\\n",
              "0                                                  0                          \n",
              "1                                                  0                          \n",
              "2                                                  0                          \n",
              "3                                                  0                          \n",
              "4                                                  0                          \n",
              "\n",
              "   c1_Action, Adventure, Casual, Free to Play, Indie, Massively Multiplayer, RPG  \\\n",
              "0                                                  0                               \n",
              "1                                                  0                               \n",
              "2                                                  0                               \n",
              "3                                                  0                               \n",
              "4                                                  0                               \n",
              "\n",
              "   c1_Action, Adventure, Casual, Free to Play, Indie, Massively Multiplayer, RPG, Early Access  \\\n",
              "0                                                  0                                             \n",
              "1                                                  0                                             \n",
              "2                                                  0                                             \n",
              "3                                                  0                                             \n",
              "4                                                  0                                             \n",
              "\n",
              "   c1_Action, Adventure, Casual, Free to Play, Indie, Massively Multiplayer, RPG, Simulation  \\\n",
              "0                                                  0                                           \n",
              "1                                                  0                                           \n",
              "2                                                  0                                           \n",
              "3                                                  0                                           \n",
              "4                                                  0                                           \n",
              "\n",
              "   ...  c1_Strategy  c1_Strategy, Action  c1_Strategy, Action, Simulation  \\\n",
              "0  ...            0                    0                                0   \n",
              "1  ...            0                    0                                0   \n",
              "2  ...            0                    0                                0   \n",
              "3  ...            0                    0                                0   \n",
              "4  ...            0                    0                                0   \n",
              "\n",
              "   c1_Strategy, Casual  c1_Strategy, Early Access  c1_Strategy, Indie  \\\n",
              "0                    0                          0                   0   \n",
              "1                    0                          0                   0   \n",
              "2                    0                          0                   0   \n",
              "3                    0                          0                   0   \n",
              "4                    0                          0                   0   \n",
              "\n",
              "   c1_Strategy, Indie, Casual  c1_Strategy, Indie, Casual, Simulation  \\\n",
              "0                           0                                       0   \n",
              "1                           0                                       0   \n",
              "2                           0                                       0   \n",
              "3                           0                                       0   \n",
              "4                           0                                       0   \n",
              "\n",
              "   c1_Strategy, RPG, Indie  c1_Strategy, Simulation  \n",
              "0                        0                        0  \n",
              "1                        0                        0  \n",
              "2                        0                        0  \n",
              "3                        0                        0  \n",
              "4                        0                        0  \n",
              "\n",
              "[5 rows x 1006 columns]"
            ]
          },
          "execution_count": 88,
          "metadata": {},
          "output_type": "execute_result"
        }
      ],
      "source": [
        "pd.get_dummies(cat_enc).head()"
      ]
    },
    {
      "cell_type": "code",
      "execution_count": null,
      "metadata": {
        "colab": {
          "base_uri": "https://localhost:8080/",
          "height": 438
        },
        "id": "qY0fFif6thAE",
        "outputId": "c6383fb5-1015-4cd3-ec1f-fd60b05c1736"
      },
      "outputs": [
        {
          "data": {
            "text/html": [
              "\n",
              "  <div id=\"df-6359f061-55c2-404c-945a-24933cd41060\">\n",
              "    <div class=\"colab-df-container\">\n",
              "      <div>\n",
              "<style scoped>\n",
              "    .dataframe tbody tr th:only-of-type {\n",
              "        vertical-align: middle;\n",
              "    }\n",
              "\n",
              "    .dataframe tbody tr th {\n",
              "        vertical-align: top;\n",
              "    }\n",
              "\n",
              "    .dataframe thead th {\n",
              "        text-align: right;\n",
              "    }\n",
              "</style>\n",
              "<table border=\"1\" class=\"dataframe\">\n",
              "  <thead>\n",
              "    <tr style=\"text-align: right;\">\n",
              "      <th></th>\n",
              "      <th>Genres_Action</th>\n",
              "      <th>Genres_Action, Adventure</th>\n",
              "      <th>Genres_Action, Adventure, Casual</th>\n",
              "      <th>Genres_Action, Adventure, Casual, Early Access</th>\n",
              "      <th>Genres_Action, Adventure, Casual, Free to Play, Indie</th>\n",
              "      <th>Genres_Action, Adventure, Casual, Free to Play, Indie, Early Access</th>\n",
              "      <th>Genres_Action, Adventure, Casual, Free to Play, Indie, Massively Multiplayer</th>\n",
              "      <th>Genres_Action, Adventure, Casual, Free to Play, Indie, Massively Multiplayer, RPG</th>\n",
              "      <th>Genres_Action, Adventure, Casual, Free to Play, Indie, Massively Multiplayer, RPG, Early Access</th>\n",
              "      <th>Genres_Action, Adventure, Casual, Free to Play, Indie, Massively Multiplayer, RPG, Simulation</th>\n",
              "      <th>...</th>\n",
              "      <th>Genres_Strategy, Action</th>\n",
              "      <th>Genres_Strategy, Action, Simulation</th>\n",
              "      <th>Genres_Strategy, Casual</th>\n",
              "      <th>Genres_Strategy, Early Access</th>\n",
              "      <th>Genres_Strategy, Indie</th>\n",
              "      <th>Genres_Strategy, Indie, Casual</th>\n",
              "      <th>Genres_Strategy, Indie, Casual, Simulation</th>\n",
              "      <th>Genres_Strategy, RPG, Indie</th>\n",
              "      <th>Genres_Strategy, Simulation</th>\n",
              "      <th>Genres_nan</th>\n",
              "    </tr>\n",
              "  </thead>\n",
              "  <tbody>\n",
              "    <tr>\n",
              "      <th>0</th>\n",
              "      <td>0</td>\n",
              "      <td>0</td>\n",
              "      <td>0</td>\n",
              "      <td>0</td>\n",
              "      <td>0</td>\n",
              "      <td>0</td>\n",
              "      <td>0</td>\n",
              "      <td>0</td>\n",
              "      <td>0</td>\n",
              "      <td>0</td>\n",
              "      <td>...</td>\n",
              "      <td>0</td>\n",
              "      <td>0</td>\n",
              "      <td>0</td>\n",
              "      <td>0</td>\n",
              "      <td>0</td>\n",
              "      <td>0</td>\n",
              "      <td>0</td>\n",
              "      <td>0</td>\n",
              "      <td>0</td>\n",
              "      <td>0</td>\n",
              "    </tr>\n",
              "    <tr>\n",
              "      <th>1</th>\n",
              "      <td>0</td>\n",
              "      <td>0</td>\n",
              "      <td>0</td>\n",
              "      <td>0</td>\n",
              "      <td>0</td>\n",
              "      <td>0</td>\n",
              "      <td>0</td>\n",
              "      <td>0</td>\n",
              "      <td>0</td>\n",
              "      <td>0</td>\n",
              "      <td>...</td>\n",
              "      <td>0</td>\n",
              "      <td>0</td>\n",
              "      <td>0</td>\n",
              "      <td>0</td>\n",
              "      <td>0</td>\n",
              "      <td>0</td>\n",
              "      <td>0</td>\n",
              "      <td>0</td>\n",
              "      <td>0</td>\n",
              "      <td>0</td>\n",
              "    </tr>\n",
              "    <tr>\n",
              "      <th>2</th>\n",
              "      <td>0</td>\n",
              "      <td>0</td>\n",
              "      <td>0</td>\n",
              "      <td>0</td>\n",
              "      <td>0</td>\n",
              "      <td>0</td>\n",
              "      <td>0</td>\n",
              "      <td>0</td>\n",
              "      <td>0</td>\n",
              "      <td>0</td>\n",
              "      <td>...</td>\n",
              "      <td>0</td>\n",
              "      <td>0</td>\n",
              "      <td>0</td>\n",
              "      <td>0</td>\n",
              "      <td>0</td>\n",
              "      <td>0</td>\n",
              "      <td>0</td>\n",
              "      <td>0</td>\n",
              "      <td>0</td>\n",
              "      <td>1</td>\n",
              "    </tr>\n",
              "    <tr>\n",
              "      <th>3</th>\n",
              "      <td>0</td>\n",
              "      <td>0</td>\n",
              "      <td>0</td>\n",
              "      <td>0</td>\n",
              "      <td>0</td>\n",
              "      <td>0</td>\n",
              "      <td>0</td>\n",
              "      <td>0</td>\n",
              "      <td>0</td>\n",
              "      <td>0</td>\n",
              "      <td>...</td>\n",
              "      <td>0</td>\n",
              "      <td>0</td>\n",
              "      <td>0</td>\n",
              "      <td>0</td>\n",
              "      <td>0</td>\n",
              "      <td>0</td>\n",
              "      <td>0</td>\n",
              "      <td>0</td>\n",
              "      <td>0</td>\n",
              "      <td>0</td>\n",
              "    </tr>\n",
              "    <tr>\n",
              "      <th>4</th>\n",
              "      <td>0</td>\n",
              "      <td>1</td>\n",
              "      <td>0</td>\n",
              "      <td>0</td>\n",
              "      <td>0</td>\n",
              "      <td>0</td>\n",
              "      <td>0</td>\n",
              "      <td>0</td>\n",
              "      <td>0</td>\n",
              "      <td>0</td>\n",
              "      <td>...</td>\n",
              "      <td>0</td>\n",
              "      <td>0</td>\n",
              "      <td>0</td>\n",
              "      <td>0</td>\n",
              "      <td>0</td>\n",
              "      <td>0</td>\n",
              "      <td>0</td>\n",
              "      <td>0</td>\n",
              "      <td>0</td>\n",
              "      <td>0</td>\n",
              "    </tr>\n",
              "  </tbody>\n",
              "</table>\n",
              "<p>5 rows × 1007 columns</p>\n",
              "</div>\n",
              "      <button class=\"colab-df-convert\" onclick=\"convertToInteractive('df-6359f061-55c2-404c-945a-24933cd41060')\"\n",
              "              title=\"Convert this dataframe to an interactive table.\"\n",
              "              style=\"display:none;\">\n",
              "        \n",
              "  <svg xmlns=\"http://www.w3.org/2000/svg\" height=\"24px\"viewBox=\"0 0 24 24\"\n",
              "       width=\"24px\">\n",
              "    <path d=\"M0 0h24v24H0V0z\" fill=\"none\"/>\n",
              "    <path d=\"M18.56 5.44l.94 2.06.94-2.06 2.06-.94-2.06-.94-.94-2.06-.94 2.06-2.06.94zm-11 1L8.5 8.5l.94-2.06 2.06-.94-2.06-.94L8.5 2.5l-.94 2.06-2.06.94zm10 10l.94 2.06.94-2.06 2.06-.94-2.06-.94-.94-2.06-.94 2.06-2.06.94z\"/><path d=\"M17.41 7.96l-1.37-1.37c-.4-.4-.92-.59-1.43-.59-.52 0-1.04.2-1.43.59L10.3 9.45l-7.72 7.72c-.78.78-.78 2.05 0 2.83L4 21.41c.39.39.9.59 1.41.59.51 0 1.02-.2 1.41-.59l7.78-7.78 2.81-2.81c.8-.78.8-2.07 0-2.86zM5.41 20L4 18.59l7.72-7.72 1.47 1.35L5.41 20z\"/>\n",
              "  </svg>\n",
              "      </button>\n",
              "      \n",
              "  <style>\n",
              "    .colab-df-container {\n",
              "      display:flex;\n",
              "      flex-wrap:wrap;\n",
              "      gap: 12px;\n",
              "    }\n",
              "\n",
              "    .colab-df-convert {\n",
              "      background-color: #E8F0FE;\n",
              "      border: none;\n",
              "      border-radius: 50%;\n",
              "      cursor: pointer;\n",
              "      display: none;\n",
              "      fill: #1967D2;\n",
              "      height: 32px;\n",
              "      padding: 0 0 0 0;\n",
              "      width: 32px;\n",
              "    }\n",
              "\n",
              "    .colab-df-convert:hover {\n",
              "      background-color: #E2EBFA;\n",
              "      box-shadow: 0px 1px 2px rgba(60, 64, 67, 0.3), 0px 1px 3px 1px rgba(60, 64, 67, 0.15);\n",
              "      fill: #174EA6;\n",
              "    }\n",
              "\n",
              "    [theme=dark] .colab-df-convert {\n",
              "      background-color: #3B4455;\n",
              "      fill: #D2E3FC;\n",
              "    }\n",
              "\n",
              "    [theme=dark] .colab-df-convert:hover {\n",
              "      background-color: #434B5C;\n",
              "      box-shadow: 0px 1px 3px 1px rgba(0, 0, 0, 0.15);\n",
              "      filter: drop-shadow(0px 1px 2px rgba(0, 0, 0, 0.3));\n",
              "      fill: #FFFFFF;\n",
              "    }\n",
              "  </style>\n",
              "\n",
              "      <script>\n",
              "        const buttonEl =\n",
              "          document.querySelector('#df-6359f061-55c2-404c-945a-24933cd41060 button.colab-df-convert');\n",
              "        buttonEl.style.display =\n",
              "          google.colab.kernel.accessAllowed ? 'block' : 'none';\n",
              "\n",
              "        async function convertToInteractive(key) {\n",
              "          const element = document.querySelector('#df-6359f061-55c2-404c-945a-24933cd41060');\n",
              "          const dataTable =\n",
              "            await google.colab.kernel.invokeFunction('convertToInteractive',\n",
              "                                                     [key], {});\n",
              "          if (!dataTable) return;\n",
              "\n",
              "          const docLinkHtml = 'Like what you see? Visit the ' +\n",
              "            '<a target=\"_blank\" href=https://colab.research.google.com/notebooks/data_table.ipynb>data table notebook</a>'\n",
              "            + ' to learn more about interactive tables.';\n",
              "          element.innerHTML = '';\n",
              "          dataTable['output_type'] = 'display_data';\n",
              "          await google.colab.output.renderOutput(dataTable, element);\n",
              "          const docLink = document.createElement('div');\n",
              "          docLink.innerHTML = docLinkHtml;\n",
              "          element.appendChild(docLink);\n",
              "        }\n",
              "      </script>\n",
              "    </div>\n",
              "  </div>\n",
              "  "
            ],
            "text/plain": [
              "   Genres_Action  Genres_Action, Adventure  Genres_Action, Adventure, Casual  \\\n",
              "0              0                         0                                 0   \n",
              "1              0                         0                                 0   \n",
              "2              0                         0                                 0   \n",
              "3              0                         0                                 0   \n",
              "4              0                         1                                 0   \n",
              "\n",
              "   Genres_Action, Adventure, Casual, Early Access  \\\n",
              "0                                               0   \n",
              "1                                               0   \n",
              "2                                               0   \n",
              "3                                               0   \n",
              "4                                               0   \n",
              "\n",
              "   Genres_Action, Adventure, Casual, Free to Play, Indie  \\\n",
              "0                                                  0       \n",
              "1                                                  0       \n",
              "2                                                  0       \n",
              "3                                                  0       \n",
              "4                                                  0       \n",
              "\n",
              "   Genres_Action, Adventure, Casual, Free to Play, Indie, Early Access  \\\n",
              "0                                                  0                     \n",
              "1                                                  0                     \n",
              "2                                                  0                     \n",
              "3                                                  0                     \n",
              "4                                                  0                     \n",
              "\n",
              "   Genres_Action, Adventure, Casual, Free to Play, Indie, Massively Multiplayer  \\\n",
              "0                                                  0                              \n",
              "1                                                  0                              \n",
              "2                                                  0                              \n",
              "3                                                  0                              \n",
              "4                                                  0                              \n",
              "\n",
              "   Genres_Action, Adventure, Casual, Free to Play, Indie, Massively Multiplayer, RPG  \\\n",
              "0                                                  0                                   \n",
              "1                                                  0                                   \n",
              "2                                                  0                                   \n",
              "3                                                  0                                   \n",
              "4                                                  0                                   \n",
              "\n",
              "   Genres_Action, Adventure, Casual, Free to Play, Indie, Massively Multiplayer, RPG, Early Access  \\\n",
              "0                                                  0                                                 \n",
              "1                                                  0                                                 \n",
              "2                                                  0                                                 \n",
              "3                                                  0                                                 \n",
              "4                                                  0                                                 \n",
              "\n",
              "   Genres_Action, Adventure, Casual, Free to Play, Indie, Massively Multiplayer, RPG, Simulation  \\\n",
              "0                                                  0                                               \n",
              "1                                                  0                                               \n",
              "2                                                  0                                               \n",
              "3                                                  0                                               \n",
              "4                                                  0                                               \n",
              "\n",
              "   ...  Genres_Strategy, Action  Genres_Strategy, Action, Simulation  \\\n",
              "0  ...                        0                                    0   \n",
              "1  ...                        0                                    0   \n",
              "2  ...                        0                                    0   \n",
              "3  ...                        0                                    0   \n",
              "4  ...                        0                                    0   \n",
              "\n",
              "   Genres_Strategy, Casual  Genres_Strategy, Early Access  \\\n",
              "0                        0                              0   \n",
              "1                        0                              0   \n",
              "2                        0                              0   \n",
              "3                        0                              0   \n",
              "4                        0                              0   \n",
              "\n",
              "   Genres_Strategy, Indie  Genres_Strategy, Indie, Casual  \\\n",
              "0                       0                               0   \n",
              "1                       0                               0   \n",
              "2                       0                               0   \n",
              "3                       0                               0   \n",
              "4                       0                               0   \n",
              "\n",
              "   Genres_Strategy, Indie, Casual, Simulation  Genres_Strategy, RPG, Indie  \\\n",
              "0                                           0                            0   \n",
              "1                                           0                            0   \n",
              "2                                           0                            0   \n",
              "3                                           0                            0   \n",
              "4                                           0                            0   \n",
              "\n",
              "   Genres_Strategy, Simulation  Genres_nan  \n",
              "0                            0           0  \n",
              "1                            0           0  \n",
              "2                            0           1  \n",
              "3                            0           0  \n",
              "4                            0           0  \n",
              "\n",
              "[5 rows x 1007 columns]"
            ]
          },
          "execution_count": 89,
          "metadata": {},
          "output_type": "execute_result"
        }
      ],
      "source": [
        "pd.get_dummies(cat_temp_data, dummy_na=True).head()"
      ]
    },
    {
      "cell_type": "markdown",
      "metadata": {
        "id": "ULbDzx4m3L-U"
      },
      "source": [
        "# Count (frequency) encoding"
      ]
    },
    {
      "cell_type": "code",
      "execution_count": null,
      "metadata": {
        "colab": {
          "base_uri": "https://localhost:8080/"
        },
        "id": "Jyo4eyMl2Asq",
        "outputId": "0791a52e-1357-45d6-9601-910a34fe6cb9"
      },
      "outputs": [
        {
          "name": "stdout",
          "output_type": "stream",
          "text": [
            "Looking in indexes: https://pypi.org/simple, https://us-python.pkg.dev/colab-wheels/public/simple/\n",
            "Collecting category_encoders\n",
            "  Downloading category_encoders-2.6.0-py2.py3-none-any.whl (81 kB)\n",
            "\u001b[2K     \u001b[90m━━━━━━━━━━━━━━━━━━━━━━━━━━━━━━━━━━━━━━━━\u001b[0m \u001b[32m81.2/81.2 KB\u001b[0m \u001b[31m7.5 MB/s\u001b[0m eta \u001b[36m0:00:00\u001b[0m\n",
            "\u001b[?25hRequirement already satisfied: scikit-learn>=0.20.0 in /usr/local/lib/python3.9/dist-packages (from category_encoders) (1.2.2)\n",
            "Requirement already satisfied: patsy>=0.5.1 in /usr/local/lib/python3.9/dist-packages (from category_encoders) (0.5.3)\n",
            "Requirement already satisfied: statsmodels>=0.9.0 in /usr/local/lib/python3.9/dist-packages (from category_encoders) (0.13.5)\n",
            "Requirement already satisfied: pandas>=1.0.5 in /usr/local/lib/python3.9/dist-packages (from category_encoders) (1.4.4)\n",
            "Requirement already satisfied: scipy>=1.0.0 in /usr/local/lib/python3.9/dist-packages (from category_encoders) (1.10.1)\n",
            "Requirement already satisfied: numpy>=1.14.0 in /usr/local/lib/python3.9/dist-packages (from category_encoders) (1.22.4)\n",
            "Requirement already satisfied: python-dateutil>=2.8.1 in /usr/local/lib/python3.9/dist-packages (from pandas>=1.0.5->category_encoders) (2.8.2)\n",
            "Requirement already satisfied: pytz>=2020.1 in /usr/local/lib/python3.9/dist-packages (from pandas>=1.0.5->category_encoders) (2022.7.1)\n",
            "Requirement already satisfied: six in /usr/local/lib/python3.9/dist-packages (from patsy>=0.5.1->category_encoders) (1.16.0)\n",
            "Requirement already satisfied: threadpoolctl>=2.0.0 in /usr/local/lib/python3.9/dist-packages (from scikit-learn>=0.20.0->category_encoders) (3.1.0)\n",
            "Requirement already satisfied: joblib>=1.1.1 in /usr/local/lib/python3.9/dist-packages (from scikit-learn>=0.20.0->category_encoders) (1.1.1)\n",
            "Requirement already satisfied: packaging>=21.3 in /usr/local/lib/python3.9/dist-packages (from statsmodels>=0.9.0->category_encoders) (23.0)\n",
            "Installing collected packages: category_encoders\n",
            "Successfully installed category_encoders-2.6.0\n"
          ]
        }
      ],
      "source": [
        "!pip install category_encoders\n",
        "from category_encoders.count import CountEncoder as ce_CountEncoder"
      ]
    },
    {
      "cell_type": "code",
      "execution_count": null,
      "metadata": {
        "colab": {
          "base_uri": "https://localhost:8080/",
          "height": 488
        },
        "id": "xdaLKMI42TSM",
        "outputId": "9e9f2f8e-a924-4171-ec9c-495c4d235403"
      },
      "outputs": [
        {
          "data": {
            "text/html": [
              "\n",
              "  <div id=\"df-0ef6a618-7971-493e-b059-fad7e109d698\">\n",
              "    <div class=\"colab-df-container\">\n",
              "      <div>\n",
              "<style scoped>\n",
              "    .dataframe tbody tr th:only-of-type {\n",
              "        vertical-align: middle;\n",
              "    }\n",
              "\n",
              "    .dataframe tbody tr th {\n",
              "        vertical-align: top;\n",
              "    }\n",
              "\n",
              "    .dataframe thead th {\n",
              "        text-align: right;\n",
              "    }\n",
              "</style>\n",
              "<table border=\"1\" class=\"dataframe\">\n",
              "  <thead>\n",
              "    <tr style=\"text-align: right;\">\n",
              "      <th></th>\n",
              "      <th>Achievements</th>\n",
              "      <th>Controller</th>\n",
              "      <th>Description</th>\n",
              "      <th>DiscountedCost</th>\n",
              "      <th>ESRB</th>\n",
              "      <th>Franchise</th>\n",
              "      <th>Graphics</th>\n",
              "      <th>Indie</th>\n",
              "      <th>Languages</th>\n",
              "      <th>Memory</th>\n",
              "      <th>...</th>\n",
              "      <th>Players</th>\n",
              "      <th>Presence</th>\n",
              "      <th>RatingsBreakdown</th>\n",
              "      <th>RawgID</th>\n",
              "      <th>ReleaseDate</th>\n",
              "      <th>Soundtrack</th>\n",
              "      <th>SteamURL</th>\n",
              "      <th>Storage</th>\n",
              "      <th>Tags</th>\n",
              "      <th>id</th>\n",
              "    </tr>\n",
              "  </thead>\n",
              "  <tbody>\n",
              "    <tr>\n",
              "      <th>0</th>\n",
              "      <td>179.0</td>\n",
              "      <td>1.0</td>\n",
              "      <td>1</td>\n",
              "      <td>29374</td>\n",
              "      <td>776</td>\n",
              "      <td>25024</td>\n",
              "      <td>8</td>\n",
              "      <td>0.0</td>\n",
              "      <td>1</td>\n",
              "      <td>6462</td>\n",
              "      <td>...</td>\n",
              "      <td>65</td>\n",
              "      <td>1009588.0</td>\n",
              "      <td>1</td>\n",
              "      <td>4291.0</td>\n",
              "      <td>1</td>\n",
              "      <td>0.0</td>\n",
              "      <td>1</td>\n",
              "      <td>152</td>\n",
              "      <td>1</td>\n",
              "      <td>1</td>\n",
              "    </tr>\n",
              "    <tr>\n",
              "      <th>1</th>\n",
              "      <td>61.0</td>\n",
              "      <td>1.0</td>\n",
              "      <td>1</td>\n",
              "      <td>29374</td>\n",
              "      <td>1426</td>\n",
              "      <td>1</td>\n",
              "      <td>2</td>\n",
              "      <td>0.0</td>\n",
              "      <td>127</td>\n",
              "      <td>470</td>\n",
              "      <td>...</td>\n",
              "      <td>139</td>\n",
              "      <td>1007425.0</td>\n",
              "      <td>1</td>\n",
              "      <td>32.0</td>\n",
              "      <td>8</td>\n",
              "      <td>0.0</td>\n",
              "      <td>1</td>\n",
              "      <td>1</td>\n",
              "      <td>1</td>\n",
              "      <td>2</td>\n",
              "    </tr>\n",
              "    <tr>\n",
              "      <th>2</th>\n",
              "      <td>0.0</td>\n",
              "      <td>1.0</td>\n",
              "      <td>1</td>\n",
              "      <td>29374</td>\n",
              "      <td>25355</td>\n",
              "      <td>25024</td>\n",
              "      <td>23</td>\n",
              "      <td>0.0</td>\n",
              "      <td>1</td>\n",
              "      <td>6248</td>\n",
              "      <td>...</td>\n",
              "      <td>65</td>\n",
              "      <td>1009306.0</td>\n",
              "      <td>1</td>\n",
              "      <td>10213.0</td>\n",
              "      <td>1</td>\n",
              "      <td>0.0</td>\n",
              "      <td>1</td>\n",
              "      <td>152</td>\n",
              "      <td>1</td>\n",
              "      <td>3</td>\n",
              "    </tr>\n",
              "    <tr>\n",
              "      <th>3</th>\n",
              "      <td>0.0</td>\n",
              "      <td>1.0</td>\n",
              "      <td>1</td>\n",
              "      <td>29374</td>\n",
              "      <td>25355</td>\n",
              "      <td>2</td>\n",
              "      <td>3</td>\n",
              "      <td>0.0</td>\n",
              "      <td>322</td>\n",
              "      <td>360</td>\n",
              "      <td>...</td>\n",
              "      <td>537</td>\n",
              "      <td>1000781.0</td>\n",
              "      <td>1</td>\n",
              "      <td>41458.0</td>\n",
              "      <td>9</td>\n",
              "      <td>0.0</td>\n",
              "      <td>1</td>\n",
              "      <td>3</td>\n",
              "      <td>1</td>\n",
              "      <td>4</td>\n",
              "    </tr>\n",
              "    <tr>\n",
              "      <th>4</th>\n",
              "      <td>308.0</td>\n",
              "      <td>1.0</td>\n",
              "      <td>1</td>\n",
              "      <td>29374</td>\n",
              "      <td>1426</td>\n",
              "      <td>25024</td>\n",
              "      <td>1</td>\n",
              "      <td>0.0</td>\n",
              "      <td>257</td>\n",
              "      <td>6248</td>\n",
              "      <td>...</td>\n",
              "      <td>65</td>\n",
              "      <td>777456.0</td>\n",
              "      <td>1</td>\n",
              "      <td>50781.0</td>\n",
              "      <td>21</td>\n",
              "      <td>0.0</td>\n",
              "      <td>1</td>\n",
              "      <td>47</td>\n",
              "      <td>1</td>\n",
              "      <td>5</td>\n",
              "    </tr>\n",
              "    <tr>\n",
              "      <th>...</th>\n",
              "      <td>...</td>\n",
              "      <td>...</td>\n",
              "      <td>...</td>\n",
              "      <td>...</td>\n",
              "      <td>...</td>\n",
              "      <td>...</td>\n",
              "      <td>...</td>\n",
              "      <td>...</td>\n",
              "      <td>...</td>\n",
              "      <td>...</td>\n",
              "      <td>...</td>\n",
              "      <td>...</td>\n",
              "      <td>...</td>\n",
              "      <td>...</td>\n",
              "      <td>...</td>\n",
              "      <td>...</td>\n",
              "      <td>...</td>\n",
              "      <td>...</td>\n",
              "      <td>...</td>\n",
              "      <td>...</td>\n",
              "      <td>...</td>\n",
              "    </tr>\n",
              "    <tr>\n",
              "      <th>30245</th>\n",
              "      <td>0.0</td>\n",
              "      <td>1.0</td>\n",
              "      <td>1</td>\n",
              "      <td>29374</td>\n",
              "      <td>25355</td>\n",
              "      <td>25024</td>\n",
              "      <td>20</td>\n",
              "      <td>1.0</td>\n",
              "      <td>17080</td>\n",
              "      <td>2837</td>\n",
              "      <td>...</td>\n",
              "      <td>17813</td>\n",
              "      <td>105.0</td>\n",
              "      <td>15112</td>\n",
              "      <td>262427.0</td>\n",
              "      <td>16</td>\n",
              "      <td>0.0</td>\n",
              "      <td>1</td>\n",
              "      <td>16</td>\n",
              "      <td>171</td>\n",
              "      <td>30246</td>\n",
              "    </tr>\n",
              "    <tr>\n",
              "      <th>30246</th>\n",
              "      <td>0.0</td>\n",
              "      <td>0.0</td>\n",
              "      <td>1</td>\n",
              "      <td>29374</td>\n",
              "      <td>25355</td>\n",
              "      <td>25024</td>\n",
              "      <td>7</td>\n",
              "      <td>1.0</td>\n",
              "      <td>17080</td>\n",
              "      <td>470</td>\n",
              "      <td>...</td>\n",
              "      <td>17813</td>\n",
              "      <td>13.0</td>\n",
              "      <td>15112</td>\n",
              "      <td>140231.0</td>\n",
              "      <td>4</td>\n",
              "      <td>0.0</td>\n",
              "      <td>1</td>\n",
              "      <td>2258</td>\n",
              "      <td>1</td>\n",
              "      <td>30247</td>\n",
              "    </tr>\n",
              "    <tr>\n",
              "      <th>30247</th>\n",
              "      <td>0.0</td>\n",
              "      <td>0.0</td>\n",
              "      <td>1</td>\n",
              "      <td>29374</td>\n",
              "      <td>25355</td>\n",
              "      <td>1</td>\n",
              "      <td>4250</td>\n",
              "      <td>0.0</td>\n",
              "      <td>17080</td>\n",
              "      <td>291</td>\n",
              "      <td>...</td>\n",
              "      <td>17813</td>\n",
              "      <td>11.0</td>\n",
              "      <td>15112</td>\n",
              "      <td>175336.0</td>\n",
              "      <td>19</td>\n",
              "      <td>0.0</td>\n",
              "      <td>1</td>\n",
              "      <td>4</td>\n",
              "      <td>106</td>\n",
              "      <td>30248</td>\n",
              "    </tr>\n",
              "    <tr>\n",
              "      <th>30248</th>\n",
              "      <td>0.0</td>\n",
              "      <td>1.0</td>\n",
              "      <td>1</td>\n",
              "      <td>29374</td>\n",
              "      <td>25355</td>\n",
              "      <td>25024</td>\n",
              "      <td>4250</td>\n",
              "      <td>1.0</td>\n",
              "      <td>17080</td>\n",
              "      <td>246</td>\n",
              "      <td>...</td>\n",
              "      <td>17813</td>\n",
              "      <td>423.0</td>\n",
              "      <td>15112</td>\n",
              "      <td>47221.0</td>\n",
              "      <td>2</td>\n",
              "      <td>0.0</td>\n",
              "      <td>1</td>\n",
              "      <td>880</td>\n",
              "      <td>32</td>\n",
              "      <td>30249</td>\n",
              "    </tr>\n",
              "    <tr>\n",
              "      <th>30249</th>\n",
              "      <td>0.0</td>\n",
              "      <td>1.0</td>\n",
              "      <td>1</td>\n",
              "      <td>29374</td>\n",
              "      <td>25355</td>\n",
              "      <td>25024</td>\n",
              "      <td>27</td>\n",
              "      <td>0.0</td>\n",
              "      <td>17080</td>\n",
              "      <td>6248</td>\n",
              "      <td>...</td>\n",
              "      <td>17813</td>\n",
              "      <td>120.0</td>\n",
              "      <td>15112</td>\n",
              "      <td>16615.0</td>\n",
              "      <td>24</td>\n",
              "      <td>0.0</td>\n",
              "      <td>1</td>\n",
              "      <td>3</td>\n",
              "      <td>1</td>\n",
              "      <td>30250</td>\n",
              "    </tr>\n",
              "  </tbody>\n",
              "</table>\n",
              "<p>30101 rows × 24 columns</p>\n",
              "</div>\n",
              "      <button class=\"colab-df-convert\" onclick=\"convertToInteractive('df-0ef6a618-7971-493e-b059-fad7e109d698')\"\n",
              "              title=\"Convert this dataframe to an interactive table.\"\n",
              "              style=\"display:none;\">\n",
              "        \n",
              "  <svg xmlns=\"http://www.w3.org/2000/svg\" height=\"24px\"viewBox=\"0 0 24 24\"\n",
              "       width=\"24px\">\n",
              "    <path d=\"M0 0h24v24H0V0z\" fill=\"none\"/>\n",
              "    <path d=\"M18.56 5.44l.94 2.06.94-2.06 2.06-.94-2.06-.94-.94-2.06-.94 2.06-2.06.94zm-11 1L8.5 8.5l.94-2.06 2.06-.94-2.06-.94L8.5 2.5l-.94 2.06-2.06.94zm10 10l.94 2.06.94-2.06 2.06-.94-2.06-.94-.94-2.06-.94 2.06-2.06.94z\"/><path d=\"M17.41 7.96l-1.37-1.37c-.4-.4-.92-.59-1.43-.59-.52 0-1.04.2-1.43.59L10.3 9.45l-7.72 7.72c-.78.78-.78 2.05 0 2.83L4 21.41c.39.39.9.59 1.41.59.51 0 1.02-.2 1.41-.59l7.78-7.78 2.81-2.81c.8-.78.8-2.07 0-2.86zM5.41 20L4 18.59l7.72-7.72 1.47 1.35L5.41 20z\"/>\n",
              "  </svg>\n",
              "      </button>\n",
              "      \n",
              "  <style>\n",
              "    .colab-df-container {\n",
              "      display:flex;\n",
              "      flex-wrap:wrap;\n",
              "      gap: 12px;\n",
              "    }\n",
              "\n",
              "    .colab-df-convert {\n",
              "      background-color: #E8F0FE;\n",
              "      border: none;\n",
              "      border-radius: 50%;\n",
              "      cursor: pointer;\n",
              "      display: none;\n",
              "      fill: #1967D2;\n",
              "      height: 32px;\n",
              "      padding: 0 0 0 0;\n",
              "      width: 32px;\n",
              "    }\n",
              "\n",
              "    .colab-df-convert:hover {\n",
              "      background-color: #E2EBFA;\n",
              "      box-shadow: 0px 1px 2px rgba(60, 64, 67, 0.3), 0px 1px 3px 1px rgba(60, 64, 67, 0.15);\n",
              "      fill: #174EA6;\n",
              "    }\n",
              "\n",
              "    [theme=dark] .colab-df-convert {\n",
              "      background-color: #3B4455;\n",
              "      fill: #D2E3FC;\n",
              "    }\n",
              "\n",
              "    [theme=dark] .colab-df-convert:hover {\n",
              "      background-color: #434B5C;\n",
              "      box-shadow: 0px 1px 3px 1px rgba(0, 0, 0, 0.15);\n",
              "      filter: drop-shadow(0px 1px 2px rgba(0, 0, 0, 0.3));\n",
              "      fill: #FFFFFF;\n",
              "    }\n",
              "  </style>\n",
              "\n",
              "      <script>\n",
              "        const buttonEl =\n",
              "          document.querySelector('#df-0ef6a618-7971-493e-b059-fad7e109d698 button.colab-df-convert');\n",
              "        buttonEl.style.display =\n",
              "          google.colab.kernel.accessAllowed ? 'block' : 'none';\n",
              "\n",
              "        async function convertToInteractive(key) {\n",
              "          const element = document.querySelector('#df-0ef6a618-7971-493e-b059-fad7e109d698');\n",
              "          const dataTable =\n",
              "            await google.colab.kernel.invokeFunction('convertToInteractive',\n",
              "                                                     [key], {});\n",
              "          if (!dataTable) return;\n",
              "\n",
              "          const docLinkHtml = 'Like what you see? Visit the ' +\n",
              "            '<a target=\"_blank\" href=https://colab.research.google.com/notebooks/data_table.ipynb>data table notebook</a>'\n",
              "            + ' to learn more about interactive tables.';\n",
              "          element.innerHTML = '';\n",
              "          dataTable['output_type'] = 'display_data';\n",
              "          await google.colab.output.renderOutput(dataTable, element);\n",
              "          const docLink = document.createElement('div');\n",
              "          docLink.innerHTML = docLinkHtml;\n",
              "          element.appendChild(docLink);\n",
              "        }\n",
              "      </script>\n",
              "    </div>\n",
              "  </div>\n",
              "  "
            ],
            "text/plain": [
              "       Achievements  Controller  Description  DiscountedCost   ESRB  \\\n",
              "0             179.0         1.0            1           29374    776   \n",
              "1              61.0         1.0            1           29374   1426   \n",
              "2               0.0         1.0            1           29374  25355   \n",
              "3               0.0         1.0            1           29374  25355   \n",
              "4             308.0         1.0            1           29374   1426   \n",
              "...             ...         ...          ...             ...    ...   \n",
              "30245           0.0         1.0            1           29374  25355   \n",
              "30246           0.0         0.0            1           29374  25355   \n",
              "30247           0.0         0.0            1           29374  25355   \n",
              "30248           0.0         1.0            1           29374  25355   \n",
              "30249           0.0         1.0            1           29374  25355   \n",
              "\n",
              "       Franchise  Graphics  Indie  Languages  Memory  ...  Players   Presence  \\\n",
              "0          25024         8    0.0          1    6462  ...       65  1009588.0   \n",
              "1              1         2    0.0        127     470  ...      139  1007425.0   \n",
              "2          25024        23    0.0          1    6248  ...       65  1009306.0   \n",
              "3              2         3    0.0        322     360  ...      537  1000781.0   \n",
              "4          25024         1    0.0        257    6248  ...       65   777456.0   \n",
              "...          ...       ...    ...        ...     ...  ...      ...        ...   \n",
              "30245      25024        20    1.0      17080    2837  ...    17813      105.0   \n",
              "30246      25024         7    1.0      17080     470  ...    17813       13.0   \n",
              "30247          1      4250    0.0      17080     291  ...    17813       11.0   \n",
              "30248      25024      4250    1.0      17080     246  ...    17813      423.0   \n",
              "30249      25024        27    0.0      17080    6248  ...    17813      120.0   \n",
              "\n",
              "       RatingsBreakdown    RawgID  ReleaseDate  Soundtrack  SteamURL  Storage  \\\n",
              "0                     1    4291.0            1         0.0         1      152   \n",
              "1                     1      32.0            8         0.0         1        1   \n",
              "2                     1   10213.0            1         0.0         1      152   \n",
              "3                     1   41458.0            9         0.0         1        3   \n",
              "4                     1   50781.0           21         0.0         1       47   \n",
              "...                 ...       ...          ...         ...       ...      ...   \n",
              "30245             15112  262427.0           16         0.0         1       16   \n",
              "30246             15112  140231.0            4         0.0         1     2258   \n",
              "30247             15112  175336.0           19         0.0         1        4   \n",
              "30248             15112   47221.0            2         0.0         1      880   \n",
              "30249             15112   16615.0           24         0.0         1        3   \n",
              "\n",
              "       Tags     id  \n",
              "0         1      1  \n",
              "1         1      2  \n",
              "2         1      3  \n",
              "3         1      4  \n",
              "4         1      5  \n",
              "...     ...    ...  \n",
              "30245   171  30246  \n",
              "30246     1  30247  \n",
              "30247   106  30248  \n",
              "30248    32  30249  \n",
              "30249     1  30250  \n",
              "\n",
              "[30101 rows x 24 columns]"
            ]
          },
          "execution_count": 92,
          "metadata": {},
          "output_type": "execute_result"
        }
      ],
      "source": [
        "ce_CountEncoder1 = ce_CountEncoder()\n",
        "data_COUNT_ENC = ce_CountEncoder1.fit_transform(data[data.columns.difference(['Genres'])])\n",
        "data_COUNT_ENC"
      ]
    },
    {
      "cell_type": "code",
      "execution_count": null,
      "metadata": {
        "colab": {
          "base_uri": "https://localhost:8080/",
          "height": 488
        },
        "id": "liD_NwMB3YWb",
        "outputId": "39ddfaa2-9008-4ab8-b156-82e739b14096"
      },
      "outputs": [
        {
          "data": {
            "text/html": [
              "\n",
              "  <div id=\"df-18e0bf59-d568-4ee4-aa2f-cad13ce91861\">\n",
              "    <div class=\"colab-df-container\">\n",
              "      <div>\n",
              "<style scoped>\n",
              "    .dataframe tbody tr th:only-of-type {\n",
              "        vertical-align: middle;\n",
              "    }\n",
              "\n",
              "    .dataframe tbody tr th {\n",
              "        vertical-align: top;\n",
              "    }\n",
              "\n",
              "    .dataframe thead th {\n",
              "        text-align: right;\n",
              "    }\n",
              "</style>\n",
              "<table border=\"1\" class=\"dataframe\">\n",
              "  <thead>\n",
              "    <tr style=\"text-align: right;\">\n",
              "      <th></th>\n",
              "      <th>Achievements</th>\n",
              "      <th>Controller</th>\n",
              "      <th>Description</th>\n",
              "      <th>DiscountedCost</th>\n",
              "      <th>ESRB</th>\n",
              "      <th>Franchise</th>\n",
              "      <th>Graphics</th>\n",
              "      <th>Indie</th>\n",
              "      <th>Languages</th>\n",
              "      <th>Memory</th>\n",
              "      <th>...</th>\n",
              "      <th>Players</th>\n",
              "      <th>Presence</th>\n",
              "      <th>RatingsBreakdown</th>\n",
              "      <th>RawgID</th>\n",
              "      <th>ReleaseDate</th>\n",
              "      <th>Soundtrack</th>\n",
              "      <th>SteamURL</th>\n",
              "      <th>Storage</th>\n",
              "      <th>Tags</th>\n",
              "      <th>id</th>\n",
              "    </tr>\n",
              "  </thead>\n",
              "  <tbody>\n",
              "    <tr>\n",
              "      <th>0</th>\n",
              "      <td>179.0</td>\n",
              "      <td>1.0</td>\n",
              "      <td>0.000033</td>\n",
              "      <td>0.975848</td>\n",
              "      <td>0.025780</td>\n",
              "      <td>0.831335</td>\n",
              "      <td>0.000266</td>\n",
              "      <td>0.0</td>\n",
              "      <td>0.000033</td>\n",
              "      <td>0.214677</td>\n",
              "      <td>...</td>\n",
              "      <td>0.002159</td>\n",
              "      <td>1009588.0</td>\n",
              "      <td>0.000033</td>\n",
              "      <td>4291.0</td>\n",
              "      <td>0.000033</td>\n",
              "      <td>0.0</td>\n",
              "      <td>0.000033</td>\n",
              "      <td>0.005050</td>\n",
              "      <td>0.000033</td>\n",
              "      <td>1</td>\n",
              "    </tr>\n",
              "    <tr>\n",
              "      <th>1</th>\n",
              "      <td>61.0</td>\n",
              "      <td>1.0</td>\n",
              "      <td>0.000033</td>\n",
              "      <td>0.975848</td>\n",
              "      <td>0.047374</td>\n",
              "      <td>0.000033</td>\n",
              "      <td>0.000066</td>\n",
              "      <td>0.0</td>\n",
              "      <td>0.004219</td>\n",
              "      <td>0.015614</td>\n",
              "      <td>...</td>\n",
              "      <td>0.004618</td>\n",
              "      <td>1007425.0</td>\n",
              "      <td>0.000033</td>\n",
              "      <td>32.0</td>\n",
              "      <td>0.000266</td>\n",
              "      <td>0.0</td>\n",
              "      <td>0.000033</td>\n",
              "      <td>0.000033</td>\n",
              "      <td>0.000033</td>\n",
              "      <td>2</td>\n",
              "    </tr>\n",
              "    <tr>\n",
              "      <th>2</th>\n",
              "      <td>0.0</td>\n",
              "      <td>1.0</td>\n",
              "      <td>0.000033</td>\n",
              "      <td>0.975848</td>\n",
              "      <td>0.842331</td>\n",
              "      <td>0.831335</td>\n",
              "      <td>0.000764</td>\n",
              "      <td>0.0</td>\n",
              "      <td>0.000033</td>\n",
              "      <td>0.207568</td>\n",
              "      <td>...</td>\n",
              "      <td>0.002159</td>\n",
              "      <td>1009306.0</td>\n",
              "      <td>0.000033</td>\n",
              "      <td>10213.0</td>\n",
              "      <td>0.000033</td>\n",
              "      <td>0.0</td>\n",
              "      <td>0.000033</td>\n",
              "      <td>0.005050</td>\n",
              "      <td>0.000033</td>\n",
              "      <td>3</td>\n",
              "    </tr>\n",
              "    <tr>\n",
              "      <th>3</th>\n",
              "      <td>0.0</td>\n",
              "      <td>1.0</td>\n",
              "      <td>0.000033</td>\n",
              "      <td>0.975848</td>\n",
              "      <td>0.842331</td>\n",
              "      <td>0.000066</td>\n",
              "      <td>0.000100</td>\n",
              "      <td>0.0</td>\n",
              "      <td>0.010697</td>\n",
              "      <td>0.011960</td>\n",
              "      <td>...</td>\n",
              "      <td>0.017840</td>\n",
              "      <td>1000781.0</td>\n",
              "      <td>0.000033</td>\n",
              "      <td>41458.0</td>\n",
              "      <td>0.000299</td>\n",
              "      <td>0.0</td>\n",
              "      <td>0.000033</td>\n",
              "      <td>0.000100</td>\n",
              "      <td>0.000033</td>\n",
              "      <td>4</td>\n",
              "    </tr>\n",
              "    <tr>\n",
              "      <th>4</th>\n",
              "      <td>308.0</td>\n",
              "      <td>1.0</td>\n",
              "      <td>0.000033</td>\n",
              "      <td>0.975848</td>\n",
              "      <td>0.047374</td>\n",
              "      <td>0.831335</td>\n",
              "      <td>0.000033</td>\n",
              "      <td>0.0</td>\n",
              "      <td>0.008538</td>\n",
              "      <td>0.207568</td>\n",
              "      <td>...</td>\n",
              "      <td>0.002159</td>\n",
              "      <td>777456.0</td>\n",
              "      <td>0.000033</td>\n",
              "      <td>50781.0</td>\n",
              "      <td>0.000698</td>\n",
              "      <td>0.0</td>\n",
              "      <td>0.000033</td>\n",
              "      <td>0.001561</td>\n",
              "      <td>0.000033</td>\n",
              "      <td>5</td>\n",
              "    </tr>\n",
              "    <tr>\n",
              "      <th>...</th>\n",
              "      <td>...</td>\n",
              "      <td>...</td>\n",
              "      <td>...</td>\n",
              "      <td>...</td>\n",
              "      <td>...</td>\n",
              "      <td>...</td>\n",
              "      <td>...</td>\n",
              "      <td>...</td>\n",
              "      <td>...</td>\n",
              "      <td>...</td>\n",
              "      <td>...</td>\n",
              "      <td>...</td>\n",
              "      <td>...</td>\n",
              "      <td>...</td>\n",
              "      <td>...</td>\n",
              "      <td>...</td>\n",
              "      <td>...</td>\n",
              "      <td>...</td>\n",
              "      <td>...</td>\n",
              "      <td>...</td>\n",
              "      <td>...</td>\n",
              "    </tr>\n",
              "    <tr>\n",
              "      <th>30245</th>\n",
              "      <td>0.0</td>\n",
              "      <td>1.0</td>\n",
              "      <td>0.000033</td>\n",
              "      <td>0.975848</td>\n",
              "      <td>0.842331</td>\n",
              "      <td>0.831335</td>\n",
              "      <td>0.000664</td>\n",
              "      <td>1.0</td>\n",
              "      <td>0.567423</td>\n",
              "      <td>0.094249</td>\n",
              "      <td>...</td>\n",
              "      <td>0.591774</td>\n",
              "      <td>105.0</td>\n",
              "      <td>0.502043</td>\n",
              "      <td>262427.0</td>\n",
              "      <td>0.000532</td>\n",
              "      <td>0.0</td>\n",
              "      <td>0.000033</td>\n",
              "      <td>0.000532</td>\n",
              "      <td>0.005681</td>\n",
              "      <td>30246</td>\n",
              "    </tr>\n",
              "    <tr>\n",
              "      <th>30246</th>\n",
              "      <td>0.0</td>\n",
              "      <td>0.0</td>\n",
              "      <td>0.000033</td>\n",
              "      <td>0.975848</td>\n",
              "      <td>0.842331</td>\n",
              "      <td>0.831335</td>\n",
              "      <td>0.000233</td>\n",
              "      <td>1.0</td>\n",
              "      <td>0.567423</td>\n",
              "      <td>0.015614</td>\n",
              "      <td>...</td>\n",
              "      <td>0.591774</td>\n",
              "      <td>13.0</td>\n",
              "      <td>0.502043</td>\n",
              "      <td>140231.0</td>\n",
              "      <td>0.000133</td>\n",
              "      <td>0.0</td>\n",
              "      <td>0.000033</td>\n",
              "      <td>0.075014</td>\n",
              "      <td>0.000033</td>\n",
              "      <td>30247</td>\n",
              "    </tr>\n",
              "    <tr>\n",
              "      <th>30247</th>\n",
              "      <td>0.0</td>\n",
              "      <td>0.0</td>\n",
              "      <td>0.000033</td>\n",
              "      <td>0.975848</td>\n",
              "      <td>0.842331</td>\n",
              "      <td>0.000033</td>\n",
              "      <td>0.141191</td>\n",
              "      <td>0.0</td>\n",
              "      <td>0.567423</td>\n",
              "      <td>0.009667</td>\n",
              "      <td>...</td>\n",
              "      <td>0.591774</td>\n",
              "      <td>11.0</td>\n",
              "      <td>0.502043</td>\n",
              "      <td>175336.0</td>\n",
              "      <td>0.000631</td>\n",
              "      <td>0.0</td>\n",
              "      <td>0.000033</td>\n",
              "      <td>0.000133</td>\n",
              "      <td>0.003521</td>\n",
              "      <td>30248</td>\n",
              "    </tr>\n",
              "    <tr>\n",
              "      <th>30248</th>\n",
              "      <td>0.0</td>\n",
              "      <td>1.0</td>\n",
              "      <td>0.000033</td>\n",
              "      <td>0.975848</td>\n",
              "      <td>0.842331</td>\n",
              "      <td>0.831335</td>\n",
              "      <td>0.141191</td>\n",
              "      <td>1.0</td>\n",
              "      <td>0.567423</td>\n",
              "      <td>0.008172</td>\n",
              "      <td>...</td>\n",
              "      <td>0.591774</td>\n",
              "      <td>423.0</td>\n",
              "      <td>0.502043</td>\n",
              "      <td>47221.0</td>\n",
              "      <td>0.000066</td>\n",
              "      <td>0.0</td>\n",
              "      <td>0.000033</td>\n",
              "      <td>0.029235</td>\n",
              "      <td>0.001063</td>\n",
              "      <td>30249</td>\n",
              "    </tr>\n",
              "    <tr>\n",
              "      <th>30249</th>\n",
              "      <td>0.0</td>\n",
              "      <td>1.0</td>\n",
              "      <td>0.000033</td>\n",
              "      <td>0.975848</td>\n",
              "      <td>0.842331</td>\n",
              "      <td>0.831335</td>\n",
              "      <td>0.000897</td>\n",
              "      <td>0.0</td>\n",
              "      <td>0.567423</td>\n",
              "      <td>0.207568</td>\n",
              "      <td>...</td>\n",
              "      <td>0.591774</td>\n",
              "      <td>120.0</td>\n",
              "      <td>0.502043</td>\n",
              "      <td>16615.0</td>\n",
              "      <td>0.000797</td>\n",
              "      <td>0.0</td>\n",
              "      <td>0.000033</td>\n",
              "      <td>0.000100</td>\n",
              "      <td>0.000033</td>\n",
              "      <td>30250</td>\n",
              "    </tr>\n",
              "  </tbody>\n",
              "</table>\n",
              "<p>30101 rows × 24 columns</p>\n",
              "</div>\n",
              "      <button class=\"colab-df-convert\" onclick=\"convertToInteractive('df-18e0bf59-d568-4ee4-aa2f-cad13ce91861')\"\n",
              "              title=\"Convert this dataframe to an interactive table.\"\n",
              "              style=\"display:none;\">\n",
              "        \n",
              "  <svg xmlns=\"http://www.w3.org/2000/svg\" height=\"24px\"viewBox=\"0 0 24 24\"\n",
              "       width=\"24px\">\n",
              "    <path d=\"M0 0h24v24H0V0z\" fill=\"none\"/>\n",
              "    <path d=\"M18.56 5.44l.94 2.06.94-2.06 2.06-.94-2.06-.94-.94-2.06-.94 2.06-2.06.94zm-11 1L8.5 8.5l.94-2.06 2.06-.94-2.06-.94L8.5 2.5l-.94 2.06-2.06.94zm10 10l.94 2.06.94-2.06 2.06-.94-2.06-.94-.94-2.06-.94 2.06-2.06.94z\"/><path d=\"M17.41 7.96l-1.37-1.37c-.4-.4-.92-.59-1.43-.59-.52 0-1.04.2-1.43.59L10.3 9.45l-7.72 7.72c-.78.78-.78 2.05 0 2.83L4 21.41c.39.39.9.59 1.41.59.51 0 1.02-.2 1.41-.59l7.78-7.78 2.81-2.81c.8-.78.8-2.07 0-2.86zM5.41 20L4 18.59l7.72-7.72 1.47 1.35L5.41 20z\"/>\n",
              "  </svg>\n",
              "      </button>\n",
              "      \n",
              "  <style>\n",
              "    .colab-df-container {\n",
              "      display:flex;\n",
              "      flex-wrap:wrap;\n",
              "      gap: 12px;\n",
              "    }\n",
              "\n",
              "    .colab-df-convert {\n",
              "      background-color: #E8F0FE;\n",
              "      border: none;\n",
              "      border-radius: 50%;\n",
              "      cursor: pointer;\n",
              "      display: none;\n",
              "      fill: #1967D2;\n",
              "      height: 32px;\n",
              "      padding: 0 0 0 0;\n",
              "      width: 32px;\n",
              "    }\n",
              "\n",
              "    .colab-df-convert:hover {\n",
              "      background-color: #E2EBFA;\n",
              "      box-shadow: 0px 1px 2px rgba(60, 64, 67, 0.3), 0px 1px 3px 1px rgba(60, 64, 67, 0.15);\n",
              "      fill: #174EA6;\n",
              "    }\n",
              "\n",
              "    [theme=dark] .colab-df-convert {\n",
              "      background-color: #3B4455;\n",
              "      fill: #D2E3FC;\n",
              "    }\n",
              "\n",
              "    [theme=dark] .colab-df-convert:hover {\n",
              "      background-color: #434B5C;\n",
              "      box-shadow: 0px 1px 3px 1px rgba(0, 0, 0, 0.15);\n",
              "      filter: drop-shadow(0px 1px 2px rgba(0, 0, 0, 0.3));\n",
              "      fill: #FFFFFF;\n",
              "    }\n",
              "  </style>\n",
              "\n",
              "      <script>\n",
              "        const buttonEl =\n",
              "          document.querySelector('#df-18e0bf59-d568-4ee4-aa2f-cad13ce91861 button.colab-df-convert');\n",
              "        buttonEl.style.display =\n",
              "          google.colab.kernel.accessAllowed ? 'block' : 'none';\n",
              "\n",
              "        async function convertToInteractive(key) {\n",
              "          const element = document.querySelector('#df-18e0bf59-d568-4ee4-aa2f-cad13ce91861');\n",
              "          const dataTable =\n",
              "            await google.colab.kernel.invokeFunction('convertToInteractive',\n",
              "                                                     [key], {});\n",
              "          if (!dataTable) return;\n",
              "\n",
              "          const docLinkHtml = 'Like what you see? Visit the ' +\n",
              "            '<a target=\"_blank\" href=https://colab.research.google.com/notebooks/data_table.ipynb>data table notebook</a>'\n",
              "            + ' to learn more about interactive tables.';\n",
              "          element.innerHTML = '';\n",
              "          dataTable['output_type'] = 'display_data';\n",
              "          await google.colab.output.renderOutput(dataTable, element);\n",
              "          const docLink = document.createElement('div');\n",
              "          docLink.innerHTML = docLinkHtml;\n",
              "          element.appendChild(docLink);\n",
              "        }\n",
              "      </script>\n",
              "    </div>\n",
              "  </div>\n",
              "  "
            ],
            "text/plain": [
              "       Achievements  Controller  Description  DiscountedCost      ESRB  \\\n",
              "0             179.0         1.0     0.000033        0.975848  0.025780   \n",
              "1              61.0         1.0     0.000033        0.975848  0.047374   \n",
              "2               0.0         1.0     0.000033        0.975848  0.842331   \n",
              "3               0.0         1.0     0.000033        0.975848  0.842331   \n",
              "4             308.0         1.0     0.000033        0.975848  0.047374   \n",
              "...             ...         ...          ...             ...       ...   \n",
              "30245           0.0         1.0     0.000033        0.975848  0.842331   \n",
              "30246           0.0         0.0     0.000033        0.975848  0.842331   \n",
              "30247           0.0         0.0     0.000033        0.975848  0.842331   \n",
              "30248           0.0         1.0     0.000033        0.975848  0.842331   \n",
              "30249           0.0         1.0     0.000033        0.975848  0.842331   \n",
              "\n",
              "       Franchise  Graphics  Indie  Languages    Memory  ...   Players  \\\n",
              "0       0.831335  0.000266    0.0   0.000033  0.214677  ...  0.002159   \n",
              "1       0.000033  0.000066    0.0   0.004219  0.015614  ...  0.004618   \n",
              "2       0.831335  0.000764    0.0   0.000033  0.207568  ...  0.002159   \n",
              "3       0.000066  0.000100    0.0   0.010697  0.011960  ...  0.017840   \n",
              "4       0.831335  0.000033    0.0   0.008538  0.207568  ...  0.002159   \n",
              "...          ...       ...    ...        ...       ...  ...       ...   \n",
              "30245   0.831335  0.000664    1.0   0.567423  0.094249  ...  0.591774   \n",
              "30246   0.831335  0.000233    1.0   0.567423  0.015614  ...  0.591774   \n",
              "30247   0.000033  0.141191    0.0   0.567423  0.009667  ...  0.591774   \n",
              "30248   0.831335  0.141191    1.0   0.567423  0.008172  ...  0.591774   \n",
              "30249   0.831335  0.000897    0.0   0.567423  0.207568  ...  0.591774   \n",
              "\n",
              "        Presence  RatingsBreakdown    RawgID  ReleaseDate  Soundtrack  \\\n",
              "0      1009588.0          0.000033    4291.0     0.000033         0.0   \n",
              "1      1007425.0          0.000033      32.0     0.000266         0.0   \n",
              "2      1009306.0          0.000033   10213.0     0.000033         0.0   \n",
              "3      1000781.0          0.000033   41458.0     0.000299         0.0   \n",
              "4       777456.0          0.000033   50781.0     0.000698         0.0   \n",
              "...          ...               ...       ...          ...         ...   \n",
              "30245      105.0          0.502043  262427.0     0.000532         0.0   \n",
              "30246       13.0          0.502043  140231.0     0.000133         0.0   \n",
              "30247       11.0          0.502043  175336.0     0.000631         0.0   \n",
              "30248      423.0          0.502043   47221.0     0.000066         0.0   \n",
              "30249      120.0          0.502043   16615.0     0.000797         0.0   \n",
              "\n",
              "       SteamURL   Storage      Tags     id  \n",
              "0      0.000033  0.005050  0.000033      1  \n",
              "1      0.000033  0.000033  0.000033      2  \n",
              "2      0.000033  0.005050  0.000033      3  \n",
              "3      0.000033  0.000100  0.000033      4  \n",
              "4      0.000033  0.001561  0.000033      5  \n",
              "...         ...       ...       ...    ...  \n",
              "30245  0.000033  0.000532  0.005681  30246  \n",
              "30246  0.000033  0.075014  0.000033  30247  \n",
              "30247  0.000033  0.000133  0.003521  30248  \n",
              "30248  0.000033  0.029235  0.001063  30249  \n",
              "30249  0.000033  0.000100  0.000033  30250  \n",
              "\n",
              "[30101 rows x 24 columns]"
            ]
          },
          "execution_count": 95,
          "metadata": {},
          "output_type": "execute_result"
        }
      ],
      "source": [
        "ce_CountEncoder2 = ce_CountEncoder(normalize=True)\n",
        "data_FREQ_ENC = ce_CountEncoder2.fit_transform(data[data.columns.difference(['Genres'])])\n",
        "data_FREQ_ENC"
      ]
    },
    {
      "cell_type": "markdown",
      "metadata": {
        "id": "OSJv_rJXthAE"
      },
      "source": [
        "\n",
        "# Нормализация числовых признаков\n"
      ]
    },
    {
      "cell_type": "code",
      "execution_count": null,
      "metadata": {
        "id": "wzi154Iz4GmD"
      },
      "outputs": [],
      "source": [
        "import scipy.stats as stats"
      ]
    },
    {
      "cell_type": "code",
      "execution_count": null,
      "metadata": {
        "id": "t7nuVtssthAF"
      },
      "outputs": [],
      "source": [
        "def diagnostic_plots(df, variable):\n",
        "    plt.figure(figsize=(15,6))\n",
        "    # гистограмма\n",
        "    plt.subplot(1, 2, 1)\n",
        "    df[variable].hist(bins=30)\n",
        "    ## Q-Q plot\n",
        "    plt.subplot(1, 2, 2)\n",
        "    stats.probplot(df[variable], dist=\"norm\", plot=plt)\n",
        "    plt.show()"
      ]
    },
    {
      "cell_type": "code",
      "execution_count": null,
      "metadata": {
        "colab": {
          "base_uri": "https://localhost:8080/",
          "height": 1000
        },
        "id": "wHUreR7i329D",
        "outputId": "932921d8-3857-49e3-b5bd-e6f44a2f4733"
      },
      "outputs": [
        {
          "data": {
            "image/png": "[encoded data removed]",
            "text/plain": [
              "<Figure size 1440x1440 with 9 Axes>"
            ]
          },
          "metadata": {},
          "output_type": "display_data"
        }
      ],
      "source": [
        "data.hist(figsize=(20,20))\n",
        "plt.show()"
      ]
    },
    {
      "cell_type": "code",
      "execution_count": null,
      "metadata": {
        "colab": {
          "base_uri": "https://localhost:8080/",
          "height": 410
        },
        "id": "b0gUwdnZ4BHJ",
        "outputId": "8654cd7e-2c8f-4751-c4d8-06a04869f54e"
      },
      "outputs": [
        {
          "data": {
            "image/png": "[encoded data removed]",
            "text/plain": [
              "<Figure size 1080x432 with 2 Axes>"
            ]
          },
          "metadata": {},
          "output_type": "display_data"
        }
      ],
      "source": [
        "diagnostic_plots(data, 'Metacritic')"
      ]
    },
    {
      "cell_type": "code",
      "execution_count": null,
      "metadata": {
        "colab": {
          "base_uri": "https://localhost:8080/",
          "height": 410
        },
        "id": "KB1tXm7o4Pff",
        "outputId": "90e041fa-09e7-42ae-8a2e-f5649b77e39f"
      },
      "outputs": [
        {
          "data": {
            "image/png": "[encoded data removed]",
            "text/plain": [
              "<Figure size 1080x432 with 2 Axes>"
            ]
          },
          "metadata": {},
          "output_type": "display_data"
        }
      ],
      "source": [
        "data['Metacritic_log'] = np.log(data['Metacritic'])\n",
        "diagnostic_plots(data, 'Metacritic_log')"
      ]
    },
    {
      "cell_type": "code",
      "execution_count": null,
      "metadata": {
        "colab": {
          "base_uri": "https://localhost:8080/",
          "height": 410
        },
        "id": "69fZYEkQ4qHy",
        "outputId": "04cbc4ef-db0a-42cd-a0fa-3b248056f4a6"
      },
      "outputs": [
        {
          "data": {
            "image/png": "[encoded data removed]",
            "text/plain": [
              "<Figure size 1080x432 with 2 Axes>"
            ]
          },
          "metadata": {},
          "output_type": "display_data"
        }
      ],
      "source": [
        "data['Metacritic_sqr'] = data['Metacritic']**(1/2)\n",
        "diagnostic_plots(data, 'Metacritic_sqr')"
      ]
    },
    {
      "cell_type": "code",
      "execution_count": null,
      "metadata": {
        "colab": {
          "base_uri": "https://localhost:8080/",
          "height": 410
        },
        "id": "jVKb3G7o4vm9",
        "outputId": "51867ee1-f7f0-4a49-9df1-ee196f4e4756"
      },
      "outputs": [
        {
          "data": {
            "image/png": "[encoded data removed]",
            "text/plain": [
              "<Figure size 1080x432 with 2 Axes>"
            ]
          },
          "metadata": {},
          "output_type": "display_data"
        }
      ],
      "source": [
        "data['Metacritic_exp1'] = data['Metacritic']**(1/1.5)\n",
        "diagnostic_plots(data, 'Metacritic_exp1')"
      ]
    },
    {
      "cell_type": "code",
      "execution_count": null,
      "metadata": {
        "colab": {
          "base_uri": "https://localhost:8080/",
          "height": 410
        },
        "id": "Bv62fHcO41UX",
        "outputId": "9f470359-570d-4f40-be45-0a6920e963a4"
      },
      "outputs": [
        {
          "data": {
            "image/png": "[encoded data removed]",
            "text/plain": [
              "<Figure size 1080x432 with 2 Axes>"
            ]
          },
          "metadata": {},
          "output_type": "display_data"
        }
      ],
      "source": [
        "data['Metacritic_exp2'] = data['Metacritic']**(1.3)\n",
        "diagnostic_plots(data, 'Metacritic_exp2')"
      ]
    },
    {
      "cell_type": "markdown",
      "metadata": {
        "id": "ShuEFs8a6yJd"
      },
      "source": [
        "Не очень хорошие результаты:"
      ]
    },
    {
      "cell_type": "code",
      "execution_count": null,
      "metadata": {
        "colab": {
          "base_uri": "https://localhost:8080/",
          "height": 427
        },
        "id": "RIBy6f8w6l80",
        "outputId": "6e78844c-e46a-444f-928a-66f07c579f97"
      },
      "outputs": [
        {
          "name": "stdout",
          "output_type": "stream",
          "text": [
            "Оптимальное значение λ = 8.472135811722177\n"
          ]
        },
        {
          "data": {
            "image/png": "[encoded data removed]",
            "text/plain": [
              "<Figure size 1080x432 with 2 Axes>"
            ]
          },
          "metadata": {},
          "output_type": "display_data"
        }
      ],
      "source": [
        "data['Metacritic'] = data['Metacritic'].astype('float')\n",
        "data['Metacritic_yeojohnson'], param = stats.yeojohnson(data['Metacritic'])\n",
        "print('Оптимальное значение λ = {}'.format(param))\n",
        "diagnostic_plots(data, 'Metacritic_yeojohnson')"
      ]
    },
    {
      "cell_type": "code",
      "execution_count": null,
      "metadata": {
        "colab": {
          "base_uri": "https://localhost:8080/",
          "height": 427
        },
        "id": "b1wJyZ-K5_DH",
        "outputId": "b5f53bb7-82ed-479e-cd62-3c6457f5c3eb"
      },
      "outputs": [
        {
          "name": "stdout",
          "output_type": "stream",
          "text": [
            "Оптимальное значение λ = 8.472135811722177\n"
          ]
        },
        {
          "data": {
            "image/png": "[encoded data removed]",
            "text/plain": [
              "<Figure size 1080x432 with 2 Axes>"
            ]
          },
          "metadata": {},
          "output_type": "display_data"
        }
      ],
      "source": [
        "data['Metacritic_boxcox'], param = stats.boxcox(data['Metacritic'])\n",
        "print('Оптимальное значение λ = {}'.format(param))\n",
        "diagnostic_plots(data, 'Metacritic_boxcox')"
      ]
    }
  ],
  "metadata": {
    "colab": {
      "provenance": []
    },
    "kernelspec": {
      "display_name": "Python 3.7.9 64-bit",
      "language": "python",
      "name": "python3"
    },
    "language_info": {
      "codemirror_mode": {
        "name": "ipython",
        "version": 3
      },
      "file_extension": ".py",
      "mimetype": "text/x-python",
      "name": "python",
      "nbconvert_exporter": "python",
      "pygments_lexer": "ipython3",
      "version": "3.7.9"
    },
    "toc": {
      "base_numbering": 1,
      "nav_menu": {},
      "number_sections": true,
      "sideBar": true,
      "skip_h1_title": false,
      "title_cell": "Table of Contents",
      "title_sidebar": "Contents",
      "toc_cell": false,
      "toc_position": {},
      "toc_section_display": true,
      "toc_window_display": false
    },
    "vscode": {
      "interpreter": {
        "hash": "11cc544e7380841b7bfab3e4b33a66bbe190b35931641be9c17d5e8aae566826"
      }
    }
  },
  "nbformat": 4,
  "nbformat_minor": 0
}