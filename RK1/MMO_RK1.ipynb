{
  "cells": [
    {
      "cell_type": "markdown",
      "metadata": {
        "id": "QzRAje928V2H"
      },
      "source": [
        "## Гаврилов Л.Я. ИУ5-23М"
      ]
    },
    {
      "cell_type": "markdown",
      "metadata": {
        "id": "JKhE5eO7sz72"
      },
      "source": [
        "## <strong>Вариант 4</strong>\n",
        "\n",
        "Каждая задача предполагает использование набора данных.\n",
        "\n",
        "Набор данных выбирается Вами произвольно с учетом следующих условий:\n",
        "\n",
        "- Вы можете использовать один набор данных для решения всех задач, или решать каждую задачу на своем наборе данных.\n",
        "\n",
        "- Набор данных должен отличаться от набора данных, который использовался в лекции для решения рассматриваемой задачи.\n",
        "\n",
        "- Вы можете выбрать произвольный набор данных (например тот, который Вы использовали в лабораторных работах) или создать собственный набор данных (что актуально для некоторых задач, например, для задач удаления псевдоконстантных или повторяющихся признаков).\n",
        "\n",
        "- Выбранный или созданный Вами набор данных должен удовлетворять условиям поставленной задачи. Например, если решается задача устранения пропусков, то набор данных должен содержать пропуски.\n"
      ]
    },
    {
      "cell_type": "markdown",
      "metadata": {
        "id": "NwUFOReCPOrg"
      },
      "source": [
        "Номер задачи №1 - 4\n",
        "\n",
        "Номер задачи №2 - 24"
      ]
    },
    {
      "cell_type": "markdown",
      "metadata": {
        "id": "yCDS6G1ePPGH"
      },
      "source": [
        "# Задача №4.\n",
        "Для набора данных проведите кодирование одного (произвольного) категориального признака с использованием метода \"label encoding\"."
      ]
    },
    {
      "cell_type": "markdown",
      "metadata": {
        "id": "xMbdm9yuPa_9"
      },
      "source": [
        "# Задача №24.\n",
        "Для набора данных для одного (произвольного) числового признака проведите обнаружение и удаление выбросов на основе 5% и 95% квантилей."
      ]
    },
    {
      "cell_type": "markdown",
      "metadata": {
        "id": "_r7MsfarPgJM"
      },
      "source": [
        "# Дополнительные требования:\n",
        "Для пары произвольных колонок данных построить график \"Диаграмма рассеяния\"."
      ]
    },
    {
      "cell_type": "markdown",
      "metadata": {
        "id": "zfKW5uZVtlVX"
      },
      "source": [
        "## Загрузка и первичный анализ данных"
      ]
    },
    {
      "cell_type": "code",
      "execution_count": null,
      "metadata": {
        "id": "91UMM6xRywZ1"
      },
      "outputs": [],
      "source": [
        "import numpy as np\n",
        "import pandas as pd\n",
        "import seaborn as sns"
      ]
    },
    {
      "cell_type": "code",
      "execution_count": null,
      "metadata": {
        "id": "xvQ_dgcl-7r8"
      },
      "outputs": [],
      "source": [
        "\n",
        "data = pd.read_csv('bike-hour.csv', sep=\",\")\n"
      ]
    },
    {
      "cell_type": "code",
      "execution_count": null,
      "metadata": {
        "colab": {
          "base_uri": "https://localhost:8080/",
          "height": 357
        },
        "id": "5b6jo9Rw_jFQ",
        "outputId": "239cb6a7-8c80-4bff-e749-555b88b6fd3c"
      },
      "outputs": [
        {
          "data": {
            "text/html": [
              "\n",
              "  <div id=\"df-5ce8447a-6a7b-4d01-982d-d6c7372551d4\">\n",
              "    <div class=\"colab-df-container\">\n",
              "      <div>\n",
              "<style scoped>\n",
              "    .dataframe tbody tr th:only-of-type {\n",
              "        vertical-align: middle;\n",
              "    }\n",
              "\n",
              "    .dataframe tbody tr th {\n",
              "        vertical-align: top;\n",
              "    }\n",
              "\n",
              "    .dataframe thead th {\n",
              "        text-align: right;\n",
              "    }\n",
              "</style>\n",
              "<table border=\"1\" class=\"dataframe\">\n",
              "  <thead>\n",
              "    <tr style=\"text-align: right;\">\n",
              "      <th></th>\n",
              "      <th>instant</th>\n",
              "      <th>dteday</th>\n",
              "      <th>season</th>\n",
              "      <th>mnth</th>\n",
              "      <th>hr</th>\n",
              "      <th>holiday</th>\n",
              "      <th>weekday</th>\n",
              "      <th>workingday</th>\n",
              "      <th>weathersit</th>\n",
              "      <th>temp</th>\n",
              "      <th>atemp</th>\n",
              "      <th>hum</th>\n",
              "      <th>windspeed</th>\n",
              "      <th>casual</th>\n",
              "      <th>cnt</th>\n",
              "    </tr>\n",
              "  </thead>\n",
              "  <tbody>\n",
              "    <tr>\n",
              "      <th>0</th>\n",
              "      <td>1</td>\n",
              "      <td>01-01-2011</td>\n",
              "      <td>1</td>\n",
              "      <td>1</td>\n",
              "      <td>0</td>\n",
              "      <td>0</td>\n",
              "      <td>6</td>\n",
              "      <td>0</td>\n",
              "      <td>1</td>\n",
              "      <td>0.24</td>\n",
              "      <td>0.2879</td>\n",
              "      <td>0.81</td>\n",
              "      <td>0.0</td>\n",
              "      <td>3</td>\n",
              "      <td>16</td>\n",
              "    </tr>\n",
              "    <tr>\n",
              "      <th>1</th>\n",
              "      <td>2</td>\n",
              "      <td>01-01-2011</td>\n",
              "      <td>1</td>\n",
              "      <td>1</td>\n",
              "      <td>1</td>\n",
              "      <td>0</td>\n",
              "      <td>6</td>\n",
              "      <td>0</td>\n",
              "      <td>1</td>\n",
              "      <td>0.22</td>\n",
              "      <td>0.2727</td>\n",
              "      <td>0.80</td>\n",
              "      <td>0.0</td>\n",
              "      <td>8</td>\n",
              "      <td>40</td>\n",
              "    </tr>\n",
              "    <tr>\n",
              "      <th>2</th>\n",
              "      <td>3</td>\n",
              "      <td>01-01-2011</td>\n",
              "      <td>1</td>\n",
              "      <td>1</td>\n",
              "      <td>2</td>\n",
              "      <td>0</td>\n",
              "      <td>6</td>\n",
              "      <td>0</td>\n",
              "      <td>1</td>\n",
              "      <td>0.22</td>\n",
              "      <td>0.2727</td>\n",
              "      <td>0.80</td>\n",
              "      <td>0.0</td>\n",
              "      <td>5</td>\n",
              "      <td>32</td>\n",
              "    </tr>\n",
              "    <tr>\n",
              "      <th>3</th>\n",
              "      <td>4</td>\n",
              "      <td>01-01-2011</td>\n",
              "      <td>1</td>\n",
              "      <td>1</td>\n",
              "      <td>3</td>\n",
              "      <td>0</td>\n",
              "      <td>6</td>\n",
              "      <td>0</td>\n",
              "      <td>1</td>\n",
              "      <td>0.24</td>\n",
              "      <td>0.2879</td>\n",
              "      <td>0.75</td>\n",
              "      <td>0.0</td>\n",
              "      <td>3</td>\n",
              "      <td>13</td>\n",
              "    </tr>\n",
              "    <tr>\n",
              "      <th>4</th>\n",
              "      <td>5</td>\n",
              "      <td>01-01-2011</td>\n",
              "      <td>1</td>\n",
              "      <td>1</td>\n",
              "      <td>4</td>\n",
              "      <td>0</td>\n",
              "      <td>6</td>\n",
              "      <td>0</td>\n",
              "      <td>1</td>\n",
              "      <td>0.24</td>\n",
              "      <td>0.2879</td>\n",
              "      <td>0.75</td>\n",
              "      <td>0.0</td>\n",
              "      <td>0</td>\n",
              "      <td>1</td>\n",
              "    </tr>\n",
              "  </tbody>\n",
              "</table>\n",
              "</div>\n",
              "      <button class=\"colab-df-convert\" onclick=\"convertToInteractive('df-5ce8447a-6a7b-4d01-982d-d6c7372551d4')\"\n",
              "              title=\"Convert this dataframe to an interactive table.\"\n",
              "              style=\"display:none;\">\n",
              "        \n",
              "  <svg xmlns=\"http://www.w3.org/2000/svg\" height=\"24px\"viewBox=\"0 0 24 24\"\n",
              "       width=\"24px\">\n",
              "    <path d=\"M0 0h24v24H0V0z\" fill=\"none\"/>\n",
              "    <path d=\"M18.56 5.44l.94 2.06.94-2.06 2.06-.94-2.06-.94-.94-2.06-.94 2.06-2.06.94zm-11 1L8.5 8.5l.94-2.06 2.06-.94-2.06-.94L8.5 2.5l-.94 2.06-2.06.94zm10 10l.94 2.06.94-2.06 2.06-.94-2.06-.94-.94-2.06-.94 2.06-2.06.94z\"/><path d=\"M17.41 7.96l-1.37-1.37c-.4-.4-.92-.59-1.43-.59-.52 0-1.04.2-1.43.59L10.3 9.45l-7.72 7.72c-.78.78-.78 2.05 0 2.83L4 21.41c.39.39.9.59 1.41.59.51 0 1.02-.2 1.41-.59l7.78-7.78 2.81-2.81c.8-.78.8-2.07 0-2.86zM5.41 20L4 18.59l7.72-7.72 1.47 1.35L5.41 20z\"/>\n",
              "  </svg>\n",
              "      </button>\n",
              "      \n",
              "  <style>\n",
              "    .colab-df-container {\n",
              "      display:flex;\n",
              "      flex-wrap:wrap;\n",
              "      gap: 12px;\n",
              "    }\n",
              "\n",
              "    .colab-df-convert {\n",
              "      background-color: #E8F0FE;\n",
              "      border: none;\n",
              "      border-radius: 50%;\n",
              "      cursor: pointer;\n",
              "      display: none;\n",
              "      fill: #1967D2;\n",
              "      height: 32px;\n",
              "      padding: 0 0 0 0;\n",
              "      width: 32px;\n",
              "    }\n",
              "\n",
              "    .colab-df-convert:hover {\n",
              "      background-color: #E2EBFA;\n",
              "      box-shadow: 0px 1px 2px rgba(60, 64, 67, 0.3), 0px 1px 3px 1px rgba(60, 64, 67, 0.15);\n",
              "      fill: #174EA6;\n",
              "    }\n",
              "\n",
              "    [theme=dark] .colab-df-convert {\n",
              "      background-color: #3B4455;\n",
              "      fill: #D2E3FC;\n",
              "    }\n",
              "\n",
              "    [theme=dark] .colab-df-convert:hover {\n",
              "      background-color: #434B5C;\n",
              "      box-shadow: 0px 1px 3px 1px rgba(0, 0, 0, 0.15);\n",
              "      filter: drop-shadow(0px 1px 2px rgba(0, 0, 0, 0.3));\n",
              "      fill: #FFFFFF;\n",
              "    }\n",
              "  </style>\n",
              "\n",
              "      <script>\n",
              "        const buttonEl =\n",
              "          document.querySelector('#df-5ce8447a-6a7b-4d01-982d-d6c7372551d4 button.colab-df-convert');\n",
              "        buttonEl.style.display =\n",
              "          google.colab.kernel.accessAllowed ? 'block' : 'none';\n",
              "\n",
              "        async function convertToInteractive(key) {\n",
              "          const element = document.querySelector('#df-5ce8447a-6a7b-4d01-982d-d6c7372551d4');\n",
              "          const dataTable =\n",
              "            await google.colab.kernel.invokeFunction('convertToInteractive',\n",
              "                                                     [key], {});\n",
              "          if (!dataTable) return;\n",
              "\n",
              "          const docLinkHtml = 'Like what you see? Visit the ' +\n",
              "            '<a target=\"_blank\" href=https://colab.research.google.com/notebooks/data_table.ipynb>data table notebook</a>'\n",
              "            + ' to learn more about interactive tables.';\n",
              "          element.innerHTML = '';\n",
              "          dataTable['output_type'] = 'display_data';\n",
              "          await google.colab.output.renderOutput(dataTable, element);\n",
              "          const docLink = document.createElement('div');\n",
              "          docLink.innerHTML = docLinkHtml;\n",
              "          element.appendChild(docLink);\n",
              "        }\n",
              "      </script>\n",
              "    </div>\n",
              "  </div>\n",
              "  "
            ],
            "text/plain": [
              "   instant      dteday  season  mnth  hr  holiday  weekday  workingday  \\\n",
              "0        1  01-01-2011       1     1   0        0        6           0   \n",
              "1        2  01-01-2011       1     1   1        0        6           0   \n",
              "2        3  01-01-2011       1     1   2        0        6           0   \n",
              "3        4  01-01-2011       1     1   3        0        6           0   \n",
              "4        5  01-01-2011       1     1   4        0        6           0   \n",
              "\n",
              "   weathersit  temp   atemp   hum  windspeed  casual  cnt  \n",
              "0           1  0.24  0.2879  0.81        0.0       3   16  \n",
              "1           1  0.22  0.2727  0.80        0.0       8   40  \n",
              "2           1  0.22  0.2727  0.80        0.0       5   32  \n",
              "3           1  0.24  0.2879  0.75        0.0       3   13  \n",
              "4           1  0.24  0.2879  0.75        0.0       0    1  "
            ]
          },
          "execution_count": 15,
          "metadata": {},
          "output_type": "execute_result"
        }
      ],
      "source": [
        "data.head(5)"
      ]
    },
    {
      "cell_type": "markdown",
      "metadata": {
        "id": "-3RRKB-QUZTg"
      },
      "source": [
        "[Датасет](https://archive.ics.uci.edu/ml/datasets/Bike+Sharing+Dataset)\n",
        "\n",
        "Информация об атрибутах:\n",
        "\n",
        "* instant: индекс записи\n",
        "\n",
        "*\tdteday: дата\n",
        "\n",
        "*\tseason: Сезон (1: зима, 2: весна, 3: лето, 4: осень)\n",
        "\n",
        "*\tmnth: месяц (от 1 до 12)\n",
        "\n",
        "*\thour: час (от 0 до 23)\n",
        "\n",
        "*\tholiday: выходной или нет\n",
        "\n",
        "*\tweekday: день недели\n",
        "\n",
        "*\tworkingday: если день не является ни выходным, ни праздничным - 1, в противном случае - 0.\n",
        "\n",
        "*\tweathersit:\n",
        "\n",
        "\t1: Ясно, Небольшая облачность, Небольшая облачность,\n",
        "\n",
        "  2: Туман + Облачно, Туман + Разбитые облака, Туман + Несколько облаков, Туман\n",
        "\n",
        "  3: слабый снег, легкий дождь + гроза + рассеянные облака, легкий дождь + рассеянные облака\n",
        "\n",
        "  4: сильный дождь + ледяные поддоны + гроза + туман, снег + туман\n",
        "\n",
        "*\ttemp: нормализованная температура в градусах Цельсия\n",
        "\n",
        "*\tatemp: нормализованная температура ощущения в градусах Цельсия\n",
        "\n",
        "*\thum: нормализованная влажность\n",
        "\n",
        "*\twindspeed: нормализованная скорость ветра\n",
        "\n",
        "*\tcasul: количество случайных прохожих\n",
        "\n",
        "*\tcnt: общее количество взятых напрокат велосипедов\n"
      ]
    },
    {
      "cell_type": "code",
      "execution_count": null,
      "metadata": {
        "colab": {
          "base_uri": "https://localhost:8080/"
        },
        "id": "dLTfi9Bl_qgH",
        "outputId": "c9ce4e0d-19e3-42ea-cc65-2aa90aeb26fc"
      },
      "outputs": [
        {
          "name": "stdout",
          "output_type": "stream",
          "text": [
            "<class 'pandas.core.frame.DataFrame'>\n",
            "RangeIndex: 8645 entries, 0 to 8644\n",
            "Data columns (total 15 columns):\n",
            " #   Column      Non-Null Count  Dtype  \n",
            "---  ------      --------------  -----  \n",
            " 0   instant     8645 non-null   int64  \n",
            " 1   dteday      8645 non-null   object \n",
            " 2   season      8645 non-null   int64  \n",
            " 3   mnth        8645 non-null   int64  \n",
            " 4   hr          8645 non-null   int64  \n",
            " 5   holiday     8645 non-null   int64  \n",
            " 6   weekday     8645 non-null   int64  \n",
            " 7   workingday  8645 non-null   int64  \n",
            " 8   weathersit  8645 non-null   int64  \n",
            " 9   temp        8645 non-null   float64\n",
            " 10  atemp       8645 non-null   float64\n",
            " 11  hum         8645 non-null   float64\n",
            " 12  windspeed   8645 non-null   float64\n",
            " 13  casual      8645 non-null   int64  \n",
            " 14  cnt         8645 non-null   int64  \n",
            "dtypes: float64(4), int64(10), object(1)\n",
            "memory usage: 1013.2+ KB\n"
          ]
        }
      ],
      "source": [
        "data.info()"
      ]
    },
    {
      "cell_type": "code",
      "execution_count": null,
      "metadata": {
        "colab": {
          "base_uri": "https://localhost:8080/",
          "height": 364
        },
        "id": "A9uAG_A2_uGX",
        "outputId": "c46607ea-42e8-4ed5-d150-a8c7965d5d21"
      },
      "outputs": [
        {
          "data": {
            "text/html": [
              "\n",
              "  <div id=\"df-be9d3bd1-9759-43b6-a978-52bb31e28721\">\n",
              "    <div class=\"colab-df-container\">\n",
              "      <div>\n",
              "<style scoped>\n",
              "    .dataframe tbody tr th:only-of-type {\n",
              "        vertical-align: middle;\n",
              "    }\n",
              "\n",
              "    .dataframe tbody tr th {\n",
              "        vertical-align: top;\n",
              "    }\n",
              "\n",
              "    .dataframe thead th {\n",
              "        text-align: right;\n",
              "    }\n",
              "</style>\n",
              "<table border=\"1\" class=\"dataframe\">\n",
              "  <thead>\n",
              "    <tr style=\"text-align: right;\">\n",
              "      <th></th>\n",
              "      <th>instant</th>\n",
              "      <th>season</th>\n",
              "      <th>mnth</th>\n",
              "      <th>hr</th>\n",
              "      <th>holiday</th>\n",
              "      <th>weekday</th>\n",
              "      <th>workingday</th>\n",
              "      <th>weathersit</th>\n",
              "      <th>temp</th>\n",
              "      <th>atemp</th>\n",
              "      <th>hum</th>\n",
              "      <th>windspeed</th>\n",
              "      <th>casual</th>\n",
              "      <th>cnt</th>\n",
              "    </tr>\n",
              "  </thead>\n",
              "  <tbody>\n",
              "    <tr>\n",
              "      <th>count</th>\n",
              "      <td>8645.000000</td>\n",
              "      <td>8645.000000</td>\n",
              "      <td>8645.000000</td>\n",
              "      <td>8645.000000</td>\n",
              "      <td>8645.000000</td>\n",
              "      <td>8645.000000</td>\n",
              "      <td>8645.000000</td>\n",
              "      <td>8645.000000</td>\n",
              "      <td>8645.000000</td>\n",
              "      <td>8645.00000</td>\n",
              "      <td>8645.000000</td>\n",
              "      <td>8645.000000</td>\n",
              "      <td>8645.000000</td>\n",
              "      <td>8645.000000</td>\n",
              "    </tr>\n",
              "    <tr>\n",
              "      <th>mean</th>\n",
              "      <td>4323.000000</td>\n",
              "      <td>2.513592</td>\n",
              "      <td>6.573973</td>\n",
              "      <td>11.573626</td>\n",
              "      <td>0.027646</td>\n",
              "      <td>3.012724</td>\n",
              "      <td>0.683748</td>\n",
              "      <td>1.437594</td>\n",
              "      <td>0.489069</td>\n",
              "      <td>0.46900</td>\n",
              "      <td>0.643430</td>\n",
              "      <td>0.191172</td>\n",
              "      <td>28.600578</td>\n",
              "      <td>143.794448</td>\n",
              "    </tr>\n",
              "    <tr>\n",
              "      <th>std</th>\n",
              "      <td>2495.740872</td>\n",
              "      <td>1.105477</td>\n",
              "      <td>3.428147</td>\n",
              "      <td>6.907822</td>\n",
              "      <td>0.163966</td>\n",
              "      <td>2.006370</td>\n",
              "      <td>0.465040</td>\n",
              "      <td>0.653859</td>\n",
              "      <td>0.197943</td>\n",
              "      <td>0.17676</td>\n",
              "      <td>0.196293</td>\n",
              "      <td>0.123191</td>\n",
              "      <td>38.840789</td>\n",
              "      <td>133.797854</td>\n",
              "    </tr>\n",
              "    <tr>\n",
              "      <th>min</th>\n",
              "      <td>1.000000</td>\n",
              "      <td>1.000000</td>\n",
              "      <td>1.000000</td>\n",
              "      <td>0.000000</td>\n",
              "      <td>0.000000</td>\n",
              "      <td>0.000000</td>\n",
              "      <td>0.000000</td>\n",
              "      <td>1.000000</td>\n",
              "      <td>0.020000</td>\n",
              "      <td>0.00000</td>\n",
              "      <td>0.000000</td>\n",
              "      <td>0.000000</td>\n",
              "      <td>0.000000</td>\n",
              "      <td>1.000000</td>\n",
              "    </tr>\n",
              "    <tr>\n",
              "      <th>25%</th>\n",
              "      <td>2162.000000</td>\n",
              "      <td>2.000000</td>\n",
              "      <td>4.000000</td>\n",
              "      <td>6.000000</td>\n",
              "      <td>0.000000</td>\n",
              "      <td>1.000000</td>\n",
              "      <td>0.000000</td>\n",
              "      <td>1.000000</td>\n",
              "      <td>0.320000</td>\n",
              "      <td>0.31820</td>\n",
              "      <td>0.490000</td>\n",
              "      <td>0.104500</td>\n",
              "      <td>3.000000</td>\n",
              "      <td>31.000000</td>\n",
              "    </tr>\n",
              "    <tr>\n",
              "      <th>50%</th>\n",
              "      <td>4323.000000</td>\n",
              "      <td>3.000000</td>\n",
              "      <td>7.000000</td>\n",
              "      <td>12.000000</td>\n",
              "      <td>0.000000</td>\n",
              "      <td>3.000000</td>\n",
              "      <td>1.000000</td>\n",
              "      <td>1.000000</td>\n",
              "      <td>0.500000</td>\n",
              "      <td>0.48480</td>\n",
              "      <td>0.650000</td>\n",
              "      <td>0.194000</td>\n",
              "      <td>14.000000</td>\n",
              "      <td>109.000000</td>\n",
              "    </tr>\n",
              "    <tr>\n",
              "      <th>75%</th>\n",
              "      <td>6484.000000</td>\n",
              "      <td>3.000000</td>\n",
              "      <td>10.000000</td>\n",
              "      <td>18.000000</td>\n",
              "      <td>0.000000</td>\n",
              "      <td>5.000000</td>\n",
              "      <td>1.000000</td>\n",
              "      <td>2.000000</td>\n",
              "      <td>0.660000</td>\n",
              "      <td>0.62120</td>\n",
              "      <td>0.810000</td>\n",
              "      <td>0.283600</td>\n",
              "      <td>38.000000</td>\n",
              "      <td>211.000000</td>\n",
              "    </tr>\n",
              "    <tr>\n",
              "      <th>max</th>\n",
              "      <td>8645.000000</td>\n",
              "      <td>4.000000</td>\n",
              "      <td>12.000000</td>\n",
              "      <td>23.000000</td>\n",
              "      <td>1.000000</td>\n",
              "      <td>6.000000</td>\n",
              "      <td>1.000000</td>\n",
              "      <td>4.000000</td>\n",
              "      <td>0.960000</td>\n",
              "      <td>1.00000</td>\n",
              "      <td>1.000000</td>\n",
              "      <td>0.850700</td>\n",
              "      <td>272.000000</td>\n",
              "      <td>651.000000</td>\n",
              "    </tr>\n",
              "  </tbody>\n",
              "</table>\n",
              "</div>\n",
              "      <button class=\"colab-df-convert\" onclick=\"convertToInteractive('df-be9d3bd1-9759-43b6-a978-52bb31e28721')\"\n",
              "              title=\"Convert this dataframe to an interactive table.\"\n",
              "              style=\"display:none;\">\n",
              "        \n",
              "  <svg xmlns=\"http://www.w3.org/2000/svg\" height=\"24px\"viewBox=\"0 0 24 24\"\n",
              "       width=\"24px\">\n",
              "    <path d=\"M0 0h24v24H0V0z\" fill=\"none\"/>\n",
              "    <path d=\"M18.56 5.44l.94 2.06.94-2.06 2.06-.94-2.06-.94-.94-2.06-.94 2.06-2.06.94zm-11 1L8.5 8.5l.94-2.06 2.06-.94-2.06-.94L8.5 2.5l-.94 2.06-2.06.94zm10 10l.94 2.06.94-2.06 2.06-.94-2.06-.94-.94-2.06-.94 2.06-2.06.94z\"/><path d=\"M17.41 7.96l-1.37-1.37c-.4-.4-.92-.59-1.43-.59-.52 0-1.04.2-1.43.59L10.3 9.45l-7.72 7.72c-.78.78-.78 2.05 0 2.83L4 21.41c.39.39.9.59 1.41.59.51 0 1.02-.2 1.41-.59l7.78-7.78 2.81-2.81c.8-.78.8-2.07 0-2.86zM5.41 20L4 18.59l7.72-7.72 1.47 1.35L5.41 20z\"/>\n",
              "  </svg>\n",
              "      </button>\n",
              "      \n",
              "  <style>\n",
              "    .colab-df-container {\n",
              "      display:flex;\n",
              "      flex-wrap:wrap;\n",
              "      gap: 12px;\n",
              "    }\n",
              "\n",
              "    .colab-df-convert {\n",
              "      background-color: #E8F0FE;\n",
              "      border: none;\n",
              "      border-radius: 50%;\n",
              "      cursor: pointer;\n",
              "      display: none;\n",
              "      fill: #1967D2;\n",
              "      height: 32px;\n",
              "      padding: 0 0 0 0;\n",
              "      width: 32px;\n",
              "    }\n",
              "\n",
              "    .colab-df-convert:hover {\n",
              "      background-color: #E2EBFA;\n",
              "      box-shadow: 0px 1px 2px rgba(60, 64, 67, 0.3), 0px 1px 3px 1px rgba(60, 64, 67, 0.15);\n",
              "      fill: #174EA6;\n",
              "    }\n",
              "\n",
              "    [theme=dark] .colab-df-convert {\n",
              "      background-color: #3B4455;\n",
              "      fill: #D2E3FC;\n",
              "    }\n",
              "\n",
              "    [theme=dark] .colab-df-convert:hover {\n",
              "      background-color: #434B5C;\n",
              "      box-shadow: 0px 1px 3px 1px rgba(0, 0, 0, 0.15);\n",
              "      filter: drop-shadow(0px 1px 2px rgba(0, 0, 0, 0.3));\n",
              "      fill: #FFFFFF;\n",
              "    }\n",
              "  </style>\n",
              "\n",
              "      <script>\n",
              "        const buttonEl =\n",
              "          document.querySelector('#df-be9d3bd1-9759-43b6-a978-52bb31e28721 button.colab-df-convert');\n",
              "        buttonEl.style.display =\n",
              "          google.colab.kernel.accessAllowed ? 'block' : 'none';\n",
              "\n",
              "        async function convertToInteractive(key) {\n",
              "          const element = document.querySelector('#df-be9d3bd1-9759-43b6-a978-52bb31e28721');\n",
              "          const dataTable =\n",
              "            await google.colab.kernel.invokeFunction('convertToInteractive',\n",
              "                                                     [key], {});\n",
              "          if (!dataTable) return;\n",
              "\n",
              "          const docLinkHtml = 'Like what you see? Visit the ' +\n",
              "            '<a target=\"_blank\" href=https://colab.research.google.com/notebooks/data_table.ipynb>data table notebook</a>'\n",
              "            + ' to learn more about interactive tables.';\n",
              "          element.innerHTML = '';\n",
              "          dataTable['output_type'] = 'display_data';\n",
              "          await google.colab.output.renderOutput(dataTable, element);\n",
              "          const docLink = document.createElement('div');\n",
              "          docLink.innerHTML = docLinkHtml;\n",
              "          element.appendChild(docLink);\n",
              "        }\n",
              "      </script>\n",
              "    </div>\n",
              "  </div>\n",
              "  "
            ],
            "text/plain": [
              "           instant       season         mnth           hr      holiday  \\\n",
              "count  8645.000000  8645.000000  8645.000000  8645.000000  8645.000000   \n",
              "mean   4323.000000     2.513592     6.573973    11.573626     0.027646   \n",
              "std    2495.740872     1.105477     3.428147     6.907822     0.163966   \n",
              "min       1.000000     1.000000     1.000000     0.000000     0.000000   \n",
              "25%    2162.000000     2.000000     4.000000     6.000000     0.000000   \n",
              "50%    4323.000000     3.000000     7.000000    12.000000     0.000000   \n",
              "75%    6484.000000     3.000000    10.000000    18.000000     0.000000   \n",
              "max    8645.000000     4.000000    12.000000    23.000000     1.000000   \n",
              "\n",
              "           weekday   workingday   weathersit         temp       atemp  \\\n",
              "count  8645.000000  8645.000000  8645.000000  8645.000000  8645.00000   \n",
              "mean      3.012724     0.683748     1.437594     0.489069     0.46900   \n",
              "std       2.006370     0.465040     0.653859     0.197943     0.17676   \n",
              "min       0.000000     0.000000     1.000000     0.020000     0.00000   \n",
              "25%       1.000000     0.000000     1.000000     0.320000     0.31820   \n",
              "50%       3.000000     1.000000     1.000000     0.500000     0.48480   \n",
              "75%       5.000000     1.000000     2.000000     0.660000     0.62120   \n",
              "max       6.000000     1.000000     4.000000     0.960000     1.00000   \n",
              "\n",
              "               hum    windspeed       casual          cnt  \n",
              "count  8645.000000  8645.000000  8645.000000  8645.000000  \n",
              "mean      0.643430     0.191172    28.600578   143.794448  \n",
              "std       0.196293     0.123191    38.840789   133.797854  \n",
              "min       0.000000     0.000000     0.000000     1.000000  \n",
              "25%       0.490000     0.104500     3.000000    31.000000  \n",
              "50%       0.650000     0.194000    14.000000   109.000000  \n",
              "75%       0.810000     0.283600    38.000000   211.000000  \n",
              "max       1.000000     0.850700   272.000000   651.000000  "
            ]
          },
          "execution_count": 18,
          "metadata": {},
          "output_type": "execute_result"
        }
      ],
      "source": [
        "data.describe()"
      ]
    },
    {
      "cell_type": "markdown",
      "metadata": {
        "id": "5tANrjuEtMxT"
      },
      "source": [
        "# Задача №4.\n",
        "Для набора данных проведите кодирование одного (произвольного) категориального признака с использованием метода \"label encoding\".\n"
      ]
    },
    {
      "cell_type": "code",
      "execution_count": null,
      "metadata": {
        "colab": {
          "base_uri": "https://localhost:8080/"
        },
        "id": "Mv-gpIrPVjbm",
        "outputId": "5cad3a51-4356-493b-f88f-2316b079dde6"
      },
      "outputs": [
        {
          "name": "stdout",
          "output_type": "stream",
          "text": [
            "Всего строк: 8645\n"
          ]
        }
      ],
      "source": [
        "total_count = data.shape[0]\n",
        "print('Всего строк: {}'.format(total_count))"
      ]
    },
    {
      "cell_type": "code",
      "execution_count": null,
      "metadata": {
        "colab": {
          "base_uri": "https://localhost:8080/"
        },
        "id": "9qKIDf-0VeKz",
        "outputId": "96debbb7-09bf-491e-cc96-9b54c67fb86d"
      },
      "outputs": [
        {
          "name": "stdout",
          "output_type": "stream",
          "text": [
            "Колонка dteday. Тип данных object. Количество пустых значений 0, 0.0%.\n"
          ]
        }
      ],
      "source": [
        "# Выберем категориальные колонки с пропущенными значениями\n",
        "# Цикл по колонкам датасета\n",
        "cat_cols = []\n",
        "for col in data.columns:\n",
        "    # Количество пустых значений\n",
        "    temp_null_count = data[data[col].isnull()].shape[0]\n",
        "    dt = str(data[col].dtype)\n",
        "    if temp_null_count>=0 and (dt=='object'):\n",
        "        cat_cols.append(col)\n",
        "        temp_perc = round((temp_null_count / total_count) * 100.0, 2)\n",
        "        print('Колонка {}. Тип данных {}. Количество пустых значений {}, {}%.'.format(col, dt, temp_null_count, temp_perc))"
      ]
    },
    {
      "cell_type": "code",
      "execution_count": null,
      "metadata": {
        "id": "5FElnCkHAgGY"
      },
      "outputs": [],
      "source": [
        "from sklearn.preprocessing import LabelEncoder, OneHotEncoder"
      ]
    },
    {
      "cell_type": "code",
      "execution_count": null,
      "metadata": {
        "colab": {
          "base_uri": "https://localhost:8080/",
          "height": 424
        },
        "id": "dUzfAL3tW_x3",
        "outputId": "5a3548b6-7ce7-41b5-e968-6800c58d23e9"
      },
      "outputs": [
        {
          "data": {
            "text/html": [
              "\n",
              "  <div id=\"df-488478f9-e8cd-45d5-89a7-fabe0c9588a5\">\n",
              "    <div class=\"colab-df-container\">\n",
              "      <div>\n",
              "<style scoped>\n",
              "    .dataframe tbody tr th:only-of-type {\n",
              "        vertical-align: middle;\n",
              "    }\n",
              "\n",
              "    .dataframe tbody tr th {\n",
              "        vertical-align: top;\n",
              "    }\n",
              "\n",
              "    .dataframe thead th {\n",
              "        text-align: right;\n",
              "    }\n",
              "</style>\n",
              "<table border=\"1\" class=\"dataframe\">\n",
              "  <thead>\n",
              "    <tr style=\"text-align: right;\">\n",
              "      <th></th>\n",
              "      <th>c1</th>\n",
              "    </tr>\n",
              "  </thead>\n",
              "  <tbody>\n",
              "    <tr>\n",
              "      <th>0</th>\n",
              "      <td>01-01-2011</td>\n",
              "    </tr>\n",
              "    <tr>\n",
              "      <th>1</th>\n",
              "      <td>01-01-2011</td>\n",
              "    </tr>\n",
              "    <tr>\n",
              "      <th>2</th>\n",
              "      <td>01-01-2011</td>\n",
              "    </tr>\n",
              "    <tr>\n",
              "      <th>3</th>\n",
              "      <td>01-01-2011</td>\n",
              "    </tr>\n",
              "    <tr>\n",
              "      <th>4</th>\n",
              "      <td>01-01-2011</td>\n",
              "    </tr>\n",
              "    <tr>\n",
              "      <th>...</th>\n",
              "      <td>...</td>\n",
              "    </tr>\n",
              "    <tr>\n",
              "      <th>8640</th>\n",
              "      <td>31-12-2011</td>\n",
              "    </tr>\n",
              "    <tr>\n",
              "      <th>8641</th>\n",
              "      <td>31-12-2011</td>\n",
              "    </tr>\n",
              "    <tr>\n",
              "      <th>8642</th>\n",
              "      <td>31-12-2011</td>\n",
              "    </tr>\n",
              "    <tr>\n",
              "      <th>8643</th>\n",
              "      <td>31-12-2011</td>\n",
              "    </tr>\n",
              "    <tr>\n",
              "      <th>8644</th>\n",
              "      <td>31-12-2011</td>\n",
              "    </tr>\n",
              "  </tbody>\n",
              "</table>\n",
              "<p>8645 rows × 1 columns</p>\n",
              "</div>\n",
              "      <button class=\"colab-df-convert\" onclick=\"convertToInteractive('df-488478f9-e8cd-45d5-89a7-fabe0c9588a5')\"\n",
              "              title=\"Convert this dataframe to an interactive table.\"\n",
              "              style=\"display:none;\">\n",
              "        \n",
              "  <svg xmlns=\"http://www.w3.org/2000/svg\" height=\"24px\"viewBox=\"0 0 24 24\"\n",
              "       width=\"24px\">\n",
              "    <path d=\"M0 0h24v24H0V0z\" fill=\"none\"/>\n",
              "    <path d=\"M18.56 5.44l.94 2.06.94-2.06 2.06-.94-2.06-.94-.94-2.06-.94 2.06-2.06.94zm-11 1L8.5 8.5l.94-2.06 2.06-.94-2.06-.94L8.5 2.5l-.94 2.06-2.06.94zm10 10l.94 2.06.94-2.06 2.06-.94-2.06-.94-.94-2.06-.94 2.06-2.06.94z\"/><path d=\"M17.41 7.96l-1.37-1.37c-.4-.4-.92-.59-1.43-.59-.52 0-1.04.2-1.43.59L10.3 9.45l-7.72 7.72c-.78.78-.78 2.05 0 2.83L4 21.41c.39.39.9.59 1.41.59.51 0 1.02-.2 1.41-.59l7.78-7.78 2.81-2.81c.8-.78.8-2.07 0-2.86zM5.41 20L4 18.59l7.72-7.72 1.47 1.35L5.41 20z\"/>\n",
              "  </svg>\n",
              "      </button>\n",
              "      \n",
              "  <style>\n",
              "    .colab-df-container {\n",
              "      display:flex;\n",
              "      flex-wrap:wrap;\n",
              "      gap: 12px;\n",
              "    }\n",
              "\n",
              "    .colab-df-convert {\n",
              "      background-color: #E8F0FE;\n",
              "      border: none;\n",
              "      border-radius: 50%;\n",
              "      cursor: pointer;\n",
              "      display: none;\n",
              "      fill: #1967D2;\n",
              "      height: 32px;\n",
              "      padding: 0 0 0 0;\n",
              "      width: 32px;\n",
              "    }\n",
              "\n",
              "    .colab-df-convert:hover {\n",
              "      background-color: #E2EBFA;\n",
              "      box-shadow: 0px 1px 2px rgba(60, 64, 67, 0.3), 0px 1px 3px 1px rgba(60, 64, 67, 0.15);\n",
              "      fill: #174EA6;\n",
              "    }\n",
              "\n",
              "    [theme=dark] .colab-df-convert {\n",
              "      background-color: #3B4455;\n",
              "      fill: #D2E3FC;\n",
              "    }\n",
              "\n",
              "    [theme=dark] .colab-df-convert:hover {\n",
              "      background-color: #434B5C;\n",
              "      box-shadow: 0px 1px 3px 1px rgba(0, 0, 0, 0.15);\n",
              "      filter: drop-shadow(0px 1px 2px rgba(0, 0, 0, 0.3));\n",
              "      fill: #FFFFFF;\n",
              "    }\n",
              "  </style>\n",
              "\n",
              "      <script>\n",
              "        const buttonEl =\n",
              "          document.querySelector('#df-488478f9-e8cd-45d5-89a7-fabe0c9588a5 button.colab-df-convert');\n",
              "        buttonEl.style.display =\n",
              "          google.colab.kernel.accessAllowed ? 'block' : 'none';\n",
              "\n",
              "        async function convertToInteractive(key) {\n",
              "          const element = document.querySelector('#df-488478f9-e8cd-45d5-89a7-fabe0c9588a5');\n",
              "          const dataTable =\n",
              "            await google.colab.kernel.invokeFunction('convertToInteractive',\n",
              "                                                     [key], {});\n",
              "          if (!dataTable) return;\n",
              "\n",
              "          const docLinkHtml = 'Like what you see? Visit the ' +\n",
              "            '<a target=\"_blank\" href=https://colab.research.google.com/notebooks/data_table.ipynb>data table notebook</a>'\n",
              "            + ' to learn more about interactive tables.';\n",
              "          element.innerHTML = '';\n",
              "          dataTable['output_type'] = 'display_data';\n",
              "          await google.colab.output.renderOutput(dataTable, element);\n",
              "          const docLink = document.createElement('div');\n",
              "          docLink.innerHTML = docLinkHtml;\n",
              "          element.appendChild(docLink);\n",
              "        }\n",
              "      </script>\n",
              "    </div>\n",
              "  </div>\n",
              "  "
            ],
            "text/plain": [
              "              c1\n",
              "0     01-01-2011\n",
              "1     01-01-2011\n",
              "2     01-01-2011\n",
              "3     01-01-2011\n",
              "4     01-01-2011\n",
              "...          ...\n",
              "8640  31-12-2011\n",
              "8641  31-12-2011\n",
              "8642  31-12-2011\n",
              "8643  31-12-2011\n",
              "8644  31-12-2011\n",
              "\n",
              "[8645 rows x 1 columns]"
            ]
          },
          "execution_count": 29,
          "metadata": {},
          "output_type": "execute_result"
        }
      ],
      "source": [
        "cat_enc = pd.DataFrame({'c1':data['dteday']})\n",
        "cat_enc"
      ]
    },
    {
      "cell_type": "code",
      "execution_count": null,
      "metadata": {
        "id": "3IEzJJiNVTDb"
      },
      "outputs": [],
      "source": [
        "le = LabelEncoder()\n",
        "cat_enc_le = le.fit_transform(cat_enc['c1'])"
      ]
    },
    {
      "cell_type": "code",
      "execution_count": null,
      "metadata": {
        "colab": {
          "base_uri": "https://localhost:8080/"
        },
        "id": "8uLhPAsgzLOk",
        "outputId": "bc01df45-45e4-4797-edbb-750f207e5568"
      },
      "outputs": [
        {
          "data": {
            "text/plain": [
              "array(['01-01-2011', '02-01-2011', '03-01-2011', '04-01-2011',\n",
              "       '05-01-2011', '06-01-2011', '07-01-2011', '08-01-2011',\n",
              "       '09-01-2011', '10-01-2011', '11-01-2011', '12-01-2011',\n",
              "       '13-01-2011', '14-01-2011', '15-01-2011', '16-01-2011',\n",
              "       '17-01-2011', '18-01-2011', '19-01-2011', '20-01-2011',\n",
              "       '21-01-2011', '22-01-2011', '23-01-2011', '24-01-2011',\n",
              "       '25-01-2011', '26-01-2011', '27-01-2011', '28-01-2011',\n",
              "       '29-01-2011', '30-01-2011', '31-01-2011', '01-02-2011',\n",
              "       '02-02-2011', '03-02-2011', '04-02-2011', '05-02-2011',\n",
              "       '06-02-2011', '07-02-2011', '08-02-2011', '09-02-2011',\n",
              "       '10-02-2011', '11-02-2011', '12-02-2011', '13-02-2011',\n",
              "       '14-02-2011', '15-02-2011', '16-02-2011', '17-02-2011',\n",
              "       '18-02-2011', '19-02-2011', '20-02-2011', '21-02-2011',\n",
              "       '22-02-2011', '23-02-2011', '24-02-2011', '25-02-2011',\n",
              "       '26-02-2011', '27-02-2011', '28-02-2011', '01-03-2011',\n",
              "       '02-03-2011', '03-03-2011', '04-03-2011', '05-03-2011',\n",
              "       '06-03-2011', '07-03-2011', '08-03-2011', '09-03-2011',\n",
              "       '10-03-2011', '11-03-2011', '12-03-2011', '13-03-2011',\n",
              "       '14-03-2011', '15-03-2011', '16-03-2011', '17-03-2011',\n",
              "       '18-03-2011', '19-03-2011', '20-03-2011', '21-03-2011',\n",
              "       '22-03-2011', '23-03-2011', '24-03-2011', '25-03-2011',\n",
              "       '26-03-2011', '27-03-2011', '28-03-2011', '29-03-2011',\n",
              "       '30-03-2011', '31-03-2011', '01-04-2011', '02-04-2011',\n",
              "       '03-04-2011', '04-04-2011', '05-04-2011', '06-04-2011',\n",
              "       '07-04-2011', '08-04-2011', '09-04-2011', '10-04-2011',\n",
              "       '11-04-2011', '12-04-2011', '13-04-2011', '14-04-2011',\n",
              "       '15-04-2011', '16-04-2011', '17-04-2011', '18-04-2011',\n",
              "       '19-04-2011', '20-04-2011', '21-04-2011', '22-04-2011',\n",
              "       '23-04-2011', '24-04-2011', '25-04-2011', '26-04-2011',\n",
              "       '27-04-2011', '28-04-2011', '29-04-2011', '30-04-2011',\n",
              "       '01-05-2011', '02-05-2011', '03-05-2011', '04-05-2011',\n",
              "       '05-05-2011', '06-05-2011', '07-05-2011', '08-05-2011',\n",
              "       '09-05-2011', '10-05-2011', '11-05-2011', '12-05-2011',\n",
              "       '13-05-2011', '14-05-2011', '15-05-2011', '16-05-2011',\n",
              "       '17-05-2011', '18-05-2011', '19-05-2011', '20-05-2011',\n",
              "       '21-05-2011', '22-05-2011', '23-05-2011', '24-05-2011',\n",
              "       '25-05-2011', '26-05-2011', '27-05-2011', '28-05-2011',\n",
              "       '29-05-2011', '30-05-2011', '31-05-2011', '01-06-2011',\n",
              "       '02-06-2011', '03-06-2011', '04-06-2011', '05-06-2011',\n",
              "       '06-06-2011', '07-06-2011', '08-06-2011', '09-06-2011',\n",
              "       '10-06-2011', '11-06-2011', '12-06-2011', '13-06-2011',\n",
              "       '14-06-2011', '15-06-2011', '16-06-2011', '17-06-2011',\n",
              "       '18-06-2011', '19-06-2011', '20-06-2011', '21-06-2011',\n",
              "       '22-06-2011', '23-06-2011', '24-06-2011', '25-06-2011',\n",
              "       '26-06-2011', '27-06-2011', '28-06-2011', '29-06-2011',\n",
              "       '30-06-2011', '01-07-2011', '02-07-2011', '03-07-2011',\n",
              "       '04-07-2011', '05-07-2011', '06-07-2011', '07-07-2011',\n",
              "       '08-07-2011', '09-07-2011', '10-07-2011', '11-07-2011',\n",
              "       '12-07-2011', '13-07-2011', '14-07-2011', '15-07-2011',\n",
              "       '16-07-2011', '17-07-2011', '18-07-2011', '19-07-2011',\n",
              "       '20-07-2011', '21-07-2011', '22-07-2011', '23-07-2011',\n",
              "       '24-07-2011', '25-07-2011', '26-07-2011', '27-07-2011',\n",
              "       '28-07-2011', '29-07-2011', '30-07-2011', '31-07-2011',\n",
              "       '01-08-2011', '02-08-2011', '03-08-2011', '04-08-2011',\n",
              "       '05-08-2011', '06-08-2011', '07-08-2011', '08-08-2011',\n",
              "       '09-08-2011', '10-08-2011', '11-08-2011', '12-08-2011',\n",
              "       '13-08-2011', '14-08-2011', '15-08-2011', '16-08-2011',\n",
              "       '17-08-2011', '18-08-2011', '19-08-2011', '20-08-2011',\n",
              "       '21-08-2011', '22-08-2011', '23-08-2011', '24-08-2011',\n",
              "       '25-08-2011', '26-08-2011', '27-08-2011', '28-08-2011',\n",
              "       '29-08-2011', '30-08-2011', '31-08-2011', '01-09-2011',\n",
              "       '02-09-2011', '03-09-2011', '04-09-2011', '05-09-2011',\n",
              "       '06-09-2011', '07-09-2011', '08-09-2011', '09-09-2011',\n",
              "       '10-09-2011', '11-09-2011', '12-09-2011', '13-09-2011',\n",
              "       '14-09-2011', '15-09-2011', '16-09-2011', '17-09-2011',\n",
              "       '18-09-2011', '19-09-2011', '20-09-2011', '21-09-2011',\n",
              "       '22-09-2011', '23-09-2011', '24-09-2011', '25-09-2011',\n",
              "       '26-09-2011', '27-09-2011', '28-09-2011', '29-09-2011',\n",
              "       '30-09-2011', '01-10-2011', '02-10-2011', '03-10-2011',\n",
              "       '04-10-2011', '05-10-2011', '06-10-2011', '07-10-2011',\n",
              "       '08-10-2011', '09-10-2011', '10-10-2011', '11-10-2011',\n",
              "       '12-10-2011', '13-10-2011', '14-10-2011', '15-10-2011',\n",
              "       '16-10-2011', '17-10-2011', '18-10-2011', '19-10-2011',\n",
              "       '20-10-2011', '21-10-2011', '22-10-2011', '23-10-2011',\n",
              "       '24-10-2011', '25-10-2011', '26-10-2011', '27-10-2011',\n",
              "       '28-10-2011', '29-10-2011', '30-10-2011', '31-10-2011',\n",
              "       '01-11-2011', '02-11-2011', '03-11-2011', '04-11-2011',\n",
              "       '05-11-2011', '06-11-2011', '07-11-2011', '08-11-2011',\n",
              "       '09-11-2011', '10-11-2011', '11-11-2011', '12-11-2011',\n",
              "       '13-11-2011', '14-11-2011', '15-11-2011', '16-11-2011',\n",
              "       '17-11-2011', '18-11-2011', '19-11-2011', '20-11-2011',\n",
              "       '21-11-2011', '22-11-2011', '23-11-2011', '24-11-2011',\n",
              "       '25-11-2011', '26-11-2011', '27-11-2011', '28-11-2011',\n",
              "       '29-11-2011', '30-11-2011', '01-12-2011', '02-12-2011',\n",
              "       '03-12-2011', '04-12-2011', '05-12-2011', '06-12-2011',\n",
              "       '07-12-2011', '08-12-2011', '09-12-2011', '10-12-2011',\n",
              "       '11-12-2011', '12-12-2011', '13-12-2011', '14-12-2011',\n",
              "       '15-12-2011', '16-12-2011', '17-12-2011', '18-12-2011',\n",
              "       '19-12-2011', '20-12-2011', '21-12-2011', '22-12-2011',\n",
              "       '23-12-2011', '24-12-2011', '25-12-2011', '26-12-2011',\n",
              "       '27-12-2011', '28-12-2011', '29-12-2011', '30-12-2011',\n",
              "       '31-12-2011'], dtype=object)"
            ]
          },
          "execution_count": 31,
          "metadata": {},
          "output_type": "execute_result"
        }
      ],
      "source": [
        "cat_enc['c1'].unique()"
      ]
    },
    {
      "cell_type": "code",
      "execution_count": null,
      "metadata": {
        "colab": {
          "base_uri": "https://localhost:8080/"
        },
        "id": "1XUqn3s-yZj1",
        "outputId": "1b3d3bf5-0146-411d-b6ee-188e0133bef2"
      },
      "outputs": [
        {
          "data": {
            "text/plain": [
              "array([  0,   1,   2,   3,   4,   5,   6,   7,   8,   9,  10,  11,  12,\n",
              "        13,  14,  15,  16,  17,  18,  19,  20,  21,  22,  23,  24,  25,\n",
              "        26,  27,  28,  29,  30,  31,  32,  33,  34,  35,  36,  37,  38,\n",
              "        39,  40,  41,  42,  43,  44,  45,  46,  47,  48,  49,  50,  51,\n",
              "        52,  53,  54,  55,  56,  57,  58,  59,  60,  61,  62,  63,  64,\n",
              "        65,  66,  67,  68,  69,  70,  71,  72,  73,  74,  75,  76,  77,\n",
              "        78,  79,  80,  81,  82,  83,  84,  85,  86,  87,  88,  89,  90,\n",
              "        91,  92,  93,  94,  95,  96,  97,  98,  99, 100, 101, 102, 103,\n",
              "       104, 105, 106, 107, 108, 109, 110, 111, 112, 113, 114, 115, 116,\n",
              "       117, 118, 119, 120, 121, 122, 123, 124, 125, 126, 127, 128, 129,\n",
              "       130, 131, 132, 133, 134, 135, 136, 137, 138, 139, 140, 141, 142,\n",
              "       143, 144, 145, 146, 147, 148, 149, 150, 151, 152, 153, 154, 155,\n",
              "       156, 157, 158, 159, 160, 161, 162, 163, 164, 165, 166, 167, 168,\n",
              "       169, 170, 171, 172, 173, 174, 175, 176, 177, 178, 179, 180, 181,\n",
              "       182, 183, 184, 185, 186, 187, 188, 189, 190, 191, 192, 193, 194,\n",
              "       195, 196, 197, 198, 199, 200, 201, 202, 203, 204, 205, 206, 207,\n",
              "       208, 209, 210, 211, 212, 213, 214, 215, 216, 217, 218, 219, 220,\n",
              "       221, 222, 223, 224, 225, 226, 227, 228, 229, 230, 231, 232, 233,\n",
              "       234, 235, 236, 237, 238, 239, 240, 241, 242, 243, 244, 245, 246,\n",
              "       247, 248, 249, 250, 251, 252, 253, 254, 255, 256, 257, 258, 259,\n",
              "       260, 261, 262, 263, 264, 265, 266, 267, 268, 269, 270, 271, 272,\n",
              "       273, 274, 275, 276, 277, 278, 279, 280, 281, 282, 283, 284, 285,\n",
              "       286, 287, 288, 289, 290, 291, 292, 293, 294, 295, 296, 297, 298,\n",
              "       299, 300, 301, 302, 303, 304, 305, 306, 307, 308, 309, 310, 311,\n",
              "       312, 313, 314, 315, 316, 317, 318, 319, 320, 321, 322, 323, 324,\n",
              "       325, 326, 327, 328, 329, 330, 331, 332, 333, 334, 335, 336, 337,\n",
              "       338, 339, 340, 341, 342, 343, 344, 345, 346, 347, 348, 349, 350,\n",
              "       351, 352, 353, 354, 355, 356, 357, 358, 359, 360, 361, 362, 363,\n",
              "       364])"
            ]
          },
          "execution_count": 32,
          "metadata": {},
          "output_type": "execute_result"
        }
      ],
      "source": [
        "np.unique(cat_enc_le)"
      ]
    },
    {
      "cell_type": "markdown",
      "metadata": {
        "id": "N8-9yauHYJIS"
      },
      "source": [
        "Таким образом, наблюдаем, что датасет содержит данные 365 дней в 2011 году, каждое значение из которых было преобразовано из категориального признака в числовой с помощью label encoding."
      ]
    },
    {
      "cell_type": "markdown",
      "metadata": {
        "id": "z0S-3gC2Y_Lf"
      },
      "source": [
        "# Задача №24.\n",
        "Для набора данных для одного (произвольного) числового признака проведите обнаружение и удаление выбросов на основе 5% и 95% квантилей."
      ]
    },
    {
      "cell_type": "code",
      "execution_count": null,
      "metadata": {
        "id": "uJxPtU90btLH"
      },
      "outputs": [],
      "source": [
        "data = pd.read_csv('games.csv', sep=\",\")"
      ]
    },
    {
      "cell_type": "code",
      "execution_count": null,
      "metadata": {
        "colab": {
          "base_uri": "https://localhost:8080/"
        },
        "id": "atR5lTJXdwkd",
        "outputId": "d0826124-7b54-4f06-dab9-83a57916e908"
      },
      "outputs": [
        {
          "name": "stdout",
          "output_type": "stream",
          "text": [
            "<class 'pandas.core.frame.DataFrame'>\n",
            "RangeIndex: 30250 entries, 0 to 30249\n",
            "Data columns (total 27 columns):\n",
            " #   Column            Non-Null Count  Dtype  \n",
            "---  ------            --------------  -----  \n",
            " 0   Unnamed: 0        30250 non-null  int64  \n",
            " 1   id                30250 non-null  int64  \n",
            " 2   Name              30156 non-null  object \n",
            " 3   RawgID            30156 non-null  float64\n",
            " 4   SteamURL          30195 non-null  object \n",
            " 5   Metacritic        3356 non-null   float64\n",
            " 6   Genres            27282 non-null  object \n",
            " 7   Indie             30045 non-null  float64\n",
            " 8   Presence          30156 non-null  float64\n",
            " 9   Platform          30123 non-null  object \n",
            " 10  Graphics          25930 non-null  object \n",
            " 11  Storage           27491 non-null  object \n",
            " 12  Memory            28316 non-null  object \n",
            " 13  RatingsBreakdown  15044 non-null  object \n",
            " 14  ReleaseDate       27024 non-null  object \n",
            " 15  Soundtrack        30045 non-null  float64\n",
            " 16  Franchise         5087 non-null   object \n",
            " 17  OriginalCost      29504 non-null  object \n",
            " 18  DiscountedCost    727 non-null    object \n",
            " 19  Players           12334 non-null  object \n",
            " 20  Controller        29976 non-null  float64\n",
            " 21  Languages         30027 non-null  object \n",
            " 22  ESRB              4747 non-null   object \n",
            " 23  Achievements      30156 non-null  float64\n",
            " 24  Publisher         0 non-null      float64\n",
            " 25  Description       30031 non-null  object \n",
            " 26  Tags              30045 non-null  object \n",
            "dtypes: float64(8), int64(2), object(17)\n",
            "memory usage: 6.2+ MB\n"
          ]
        }
      ],
      "source": [
        "data.info()"
      ]
    },
    {
      "cell_type": "code",
      "execution_count": null,
      "metadata": {
        "colab": {
          "base_uri": "https://localhost:8080/"
        },
        "id": "MIt0Onh4eAWv",
        "outputId": "bf2bf6d5-974a-4060-a830-88603755549c"
      },
      "outputs": [
        {
          "name": "stderr",
          "output_type": "stream",
          "text": [
            "<ipython-input-87-aefd0e2a8e93>:1: FutureWarning: In a future version of pandas all arguments of DataFrame.drop except for the argument 'labels' will be keyword-only.\n",
            "  data = data.drop('Publisher', 1)\n",
            "<ipython-input-87-aefd0e2a8e93>:2: FutureWarning: In a future version of pandas all arguments of DataFrame.drop except for the argument 'labels' will be keyword-only.\n",
            "  data = data.drop('Unnamed: 0', 1)\n"
          ]
        },
        {
          "data": {
            "text/plain": [
              "(30101, 25)"
            ]
          },
          "execution_count": 87,
          "metadata": {},
          "output_type": "execute_result"
        }
      ],
      "source": [
        "data = data.drop('Publisher', 1)\n",
        "data = data.drop('Unnamed: 0', 1)\n",
        "data = data.dropna(axis=0, subset=['Name', 'SteamURL'])\n",
        "data.shape\n"
      ]
    },
    {
      "cell_type": "code",
      "execution_count": null,
      "metadata": {
        "colab": {
          "base_uri": "https://localhost:8080/"
        },
        "id": "jk_AWIEneGSg",
        "outputId": "dfcbe91c-53c7-4a51-f6de-d60f8bb27b50"
      },
      "outputs": [
        {
          "data": {
            "text/plain": [
              "[('Metacritic', 26746),\n",
              " ('Genres', 2907),\n",
              " ('Indie', 176),\n",
              " ('Platform', 33),\n",
              " ('Graphics', 4250),\n",
              " ('Storage', 2697),\n",
              " ('Memory', 1872),\n",
              " ('RatingsBreakdown', 15112),\n",
              " ('ReleaseDate', 3132),\n",
              " ('Soundtrack', 176),\n",
              " ('Franchise', 25024),\n",
              " ('OriginalCost', 688),\n",
              " ('DiscountedCost', 29374),\n",
              " ('Players', 17813),\n",
              " ('Controller', 219),\n",
              " ('Languages', 168),\n",
              " ('ESRB', 25355),\n",
              " ('Description', 125),\n",
              " ('Tags', 176)]"
            ]
          },
          "execution_count": 88,
          "metadata": {},
          "output_type": "execute_result"
        }
      ],
      "source": [
        "hcols_with_na = [c for c in data.columns if data[c].isnull().sum() > 0]\n",
        "# Количество пропусков\n",
        "[(c, data[c].isnull().sum()) for c in hcols_with_na]"
      ]
    },
    {
      "cell_type": "code",
      "execution_count": null,
      "metadata": {
        "id": "K1D5UfKJZSc3"
      },
      "outputs": [],
      "source": [
        "import matplotlib.pyplot as plt\n",
        "import scipy.stats as stats"
      ]
    },
    {
      "cell_type": "code",
      "execution_count": null,
      "metadata": {
        "id": "wYFyOviGZIJz"
      },
      "outputs": [],
      "source": [
        "# Тип вычисления верхней и нижней границы выбросов\n",
        "from enum import Enum\n",
        "class OutlierBoundaryType(Enum):\n",
        "    QUANTILE = 1"
      ]
    },
    {
      "cell_type": "code",
      "execution_count": null,
      "metadata": {
        "id": "naVpk_DkZJqC"
      },
      "outputs": [],
      "source": [
        "# Функция вычисления верхней и нижней границы выбросов\n",
        "def get_outlier_boundaries(df, col, outlier_boundary_type: OutlierBoundaryType):\n",
        "    if outlier_boundary_type == OutlierBoundaryType.QUANTILE:\n",
        "        lower_boundary = df[col].quantile(0.05)\n",
        "        upper_boundary = df[col].quantile(0.95)\n",
        "\n",
        "    return lower_boundary, upper_boundary"
      ]
    },
    {
      "cell_type": "code",
      "execution_count": null,
      "metadata": {
        "id": "XoZR9gw6ZPVa"
      },
      "outputs": [],
      "source": [
        "def diagnostic_plots(df, variable, title):\n",
        "    fig, ax = plt.subplots(figsize=(10,7))\n",
        "    # гистограмма\n",
        "    plt.subplot(2, 2, 1)\n",
        "    df[variable].hist(bins=30)\n",
        "    ## Q-Q plot\n",
        "    plt.subplot(2, 2, 2)\n",
        "    stats.probplot(df[variable], dist=\"norm\", plot=plt)\n",
        "    # ящик с усами\n",
        "    plt.subplot(2, 2, 3)\n",
        "    sns.violinplot(x=df[variable])\n",
        "    # ящик с усами\n",
        "    plt.subplot(2, 2, 4)\n",
        "    sns.boxplot(x=df[variable])\n",
        "    fig.suptitle(title)\n",
        "    plt.show()"
      ]
    },
    {
      "cell_type": "code",
      "execution_count": null,
      "metadata": {
        "id": "IogmXHezZXBX"
      },
      "outputs": [],
      "source": [
        "x_col_list = ['Metacritic']"
      ]
    },
    {
      "cell_type": "code",
      "execution_count": null,
      "metadata": {
        "colab": {
          "base_uri": "https://localhost:8080/",
          "height": 744
        },
        "id": "fqmhnx6gaEl1",
        "outputId": "722b4368-5032-4b16-9d60-62733bb8e085"
      },
      "outputs": [
        {
          "name": "stderr",
          "output_type": "stream",
          "text": [
            "<ipython-input-92-1fe78d5d2ee2>:4: MatplotlibDeprecationWarning: Auto-removal of overlapping axes is deprecated since 3.6 and will be removed two minor releases later; explicitly call ax.remove() as needed.\n",
            "  plt.subplot(2, 2, 1)\n"
          ]
        },
        {
          "data": {
            "image/png": "[encoded data removed]",
            "text/plain": [
              "<Figure size 1000x700 with 4 Axes>"
            ]
          },
          "metadata": {},
          "output_type": "display_data"
        }
      ],
      "source": [
        "diagnostic_plots(data, 'Metacritic', 'Metacritic - original')"
      ]
    },
    {
      "cell_type": "code",
      "execution_count": null,
      "metadata": {
        "colab": {
          "base_uri": "https://localhost:8080/",
          "height": 744
        },
        "id": "z6TXlphNZLon",
        "outputId": "5f06783e-48b6-44bd-805f-479bda2d5870"
      },
      "outputs": [
        {
          "name": "stderr",
          "output_type": "stream",
          "text": [
            "<ipython-input-92-1fe78d5d2ee2>:4: MatplotlibDeprecationWarning: Auto-removal of overlapping axes is deprecated since 3.6 and will be removed two minor releases later; explicitly call ax.remove() as needed.\n",
            "  plt.subplot(2, 2, 1)\n"
          ]
        },
        {
          "data": {
            "image/png": "[encoded data removed]",
            "text/plain": [
              "<Figure size 1000x700 with 4 Axes>"
            ]
          },
          "metadata": {},
          "output_type": "display_data"
        }
      ],
      "source": [
        "for col in x_col_list:\n",
        "    for obt in OutlierBoundaryType:\n",
        "        # Вычисление верхней и нижней границы\n",
        "        lower_boundary, upper_boundary = get_outlier_boundaries(data, col, obt)\n",
        "        # Флаги для удаления выбросов\n",
        "        outliers_temp = np.where(data[col] > upper_boundary, True,\n",
        "                                 np.where(data[col] < lower_boundary, True, False))\n",
        "        # Удаление данных на основе флага\n",
        "        data_trimmed = data.loc[~(outliers_temp), ]\n",
        "        title = 'Поле-{}, метод-{}, строк-{}'.format(col, obt, data_trimmed.shape[0])\n",
        "        diagnostic_plots(data_trimmed, col, title)"
      ]
    },
    {
      "cell_type": "markdown",
      "metadata": {
        "id": "pK5k1gj3_GF0"
      },
      "source": [
        "## Дополнительное задание\n",
        "Для пары произвольных колонок данных построить график \"Диаграмма рассеяния\".\n",
        "\n",
        "Построим диаграмму рассеяния, демонстрирующую зависимость температуры от месяца года\n",
        "\n"
      ]
    },
    {
      "cell_type": "code",
      "execution_count": null,
      "metadata": {
        "id": "9XLz6QaufYcf"
      },
      "outputs": [],
      "source": [
        "data = pd.read_csv('bike-hour.csv', sep=\",\")"
      ]
    },
    {
      "cell_type": "code",
      "execution_count": null,
      "metadata": {
        "colab": {
          "base_uri": "https://localhost:8080/",
          "height": 635
        },
        "id": "6dVnPOE09oTd",
        "outputId": "ee6a3c4c-9733-40fb-aeb6-a306f2008af6"
      },
      "outputs": [
        {
          "name": "stderr",
          "output_type": "stream",
          "text": [
            "/usr/local/lib/python3.9/dist-packages/pandas/plotting/_matplotlib/core.py:1114: UserWarning: No data for colormapping provided via 'c'. Parameters 'cmap' will be ignored\n",
            "  scatter = ax.scatter(\n"
          ]
        },
        {
          "data": {
            "image/png": "[encoded data removed]",
            "text/plain": [
              "<Figure size 2500x1500 with 1 Axes>"
            ]
          },
          "metadata": {},
          "output_type": "display_data"
        }
      ],
      "source": [
        "data.plot(x='mnth', y='temp', kind='scatter',  figsize=(25, 15)) ;\n",
        "plt.title(f'Распределение температуры по месяцам', fontsize=15);\n",
        "plt.ylim(0,1);\n",
        "plt.ylabel('Нормированная температура');\n",
        "plt.xlabel('Месяцы');\n",
        "plt.grid(True);\n"
      ]
    }
  ],
  "metadata": {
    "colab": {
      "provenance": [],
      "toc_visible": true
    },
    "kernelspec": {
      "display_name": "Python 3.7.9 64-bit",
      "language": "python",
      "name": "python3"
    },
    "language_info": {
      "name": "python",
      "version": "3.7.9"
    },
    "vscode": {
      "interpreter": {
        "hash": "11cc544e7380841b7bfab3e4b33a66bbe190b35931641be9c17d5e8aae566826"
      }
    }
  },
  "nbformat": 4,
  "nbformat_minor": 0
}